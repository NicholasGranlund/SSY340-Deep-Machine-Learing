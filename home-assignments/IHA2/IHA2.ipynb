{
 "cells": [
  {
   "cell_type": "markdown",
   "metadata": {
    "deletable": false,
    "editable": false,
    "nbgrader": {
     "cell_type": "markdown",
     "checksum": "20a4d65ee77906a86bc39bc4046a2a36",
     "grade": false,
     "grade_id": "cell-5690119ead85e67e",
     "locked": true,
     "schema_version": 3,
     "solution": false,
     "task": false
    }
   },
   "source": [
    "### Checklist for submission\n",
    "\n",
    "It is extremely important to make sure that:\n",
    "\n",
    "1. Everything runs as expected (no bugs when running cells);\n",
    "2. The output from each cell corresponds to its code (don't change any cell's contents without rerunning it afterwards);\n",
    "3. All outputs are present (don't delete any of the outputs);\n",
    "4. Fill in all the places that say `# YOUR CODE HERE`, or \"**Your answer:** (fill in here)\".\n",
    "5. Never copy/paste any notebook cells. Inserting new cells is allowed, but it should not be necessary.\n",
    "6. The notebook contains some hidden metadata which is important during our grading process. **Make sure not to corrupt any of this metadata!** The metadata may for example be corrupted if you copy/paste any notebook cells, or if you perform an unsuccessful git merge / git pull. It may also be pruned completely if using Google Colab, so watch out for this. Searching for \"nbgrader\" when opening the notebook in a text editor should take you to the important metadata entries.\n",
    "7. Although we will try our very best to avoid this, it may happen that bugs are found after an assignment is released, and that we will push an updated version of the assignment to GitHub. If this happens, it is important that you update to the new version, while making sure the notebook metadata is properly updated as well. The safest way to make sure nothing gets messed up is to start from scratch on a clean updated version of the notebook, copy/pasting your code from the cells of the previous version into the cells of the new version.\n",
    "8. If you need to have multiple parallel versions of this notebook, make sure not to move them to another directory.\n",
    "9. Although not forced to work exclusively in the course `conda` environment, you need to make sure that the notebook will run in that environment, i.e. that you have not added any additional dependencies.\n",
    "\n",
    "**FOR HA1, HA2, HA3 ONLY:** Failing to meet any of these requirements might lead to either a subtraction of POEs (at best) or a request for resubmission (at worst).\n",
    "\n",
    "We advise you to perform the following steps before submission to ensure that requirements 1, 2, and 3 are always met: **Restart the kernel** (in the menubar, select Kernel$\\rightarrow$Restart) and then **run all cells** (in the menubar, select Cell$\\rightarrow$Run All). This might require a bit of time, so plan ahead for this (and possibly use a cloud GPU in HA1 and HA2 for this step). Finally press the \"Save and Checkout\" button before handing in, to make sure that all your changes are saved to this .ipynb file."
   ]
  },
  {
   "cell_type": "markdown",
   "metadata": {
    "deletable": false,
    "editable": false,
    "nbgrader": {
     "cell_type": "markdown",
     "checksum": "a6bb874a16c1ff767ac0f37ce0491265",
     "grade": false,
     "grade_id": "cell-774c93bf6433de68",
     "locked": true,
     "schema_version": 3,
     "solution": false,
     "task": false
    }
   },
   "source": [
    "### Fill in name of notebook file\n",
    "This might seem silly, but the version check below needs to know the filename of the current notebook, which is not trivial to find out programmatically.\n",
    "\n",
    "You might want to have several parallel versions of the notebook, and it is fine to rename the notebook as long as it stays in the same directory. **However**, if you do rename it, you also need to update its own filename below:"
   ]
  },
  {
   "cell_type": "code",
   "execution_count": 379,
   "metadata": {},
   "outputs": [],
   "source": [
    "nb_fname = \"IHA2.ipynb\""
   ]
  },
  {
   "cell_type": "markdown",
   "metadata": {
    "deletable": false,
    "editable": false,
    "nbgrader": {
     "cell_type": "markdown",
     "checksum": "879883c2ea755808ffd00aeee5c77a00",
     "grade": false,
     "grade_id": "cell-5676bcf768a7f9be",
     "locked": true,
     "schema_version": 3,
     "solution": false,
     "task": false
    }
   },
   "source": [
    "### Fill in group number and member names (use NAME2 and GROUP only for HA1, HA2 and HA3):"
   ]
  },
  {
   "cell_type": "code",
   "execution_count": 380,
   "metadata": {},
   "outputs": [],
   "source": [
    "NAME1 = \"Nicholas Granlund\" \n",
    "NAME2 = \"\"\n",
    "GROUP = \"\""
   ]
  },
  {
   "cell_type": "markdown",
   "metadata": {
    "deletable": false,
    "editable": false,
    "nbgrader": {
     "cell_type": "markdown",
     "checksum": "42f960a95815e1aa3ce8132fcec59cd9",
     "grade": false,
     "grade_id": "cell-a15fe781533d9590",
     "locked": true,
     "schema_version": 3,
     "solution": false,
     "task": false
    }
   },
   "source": [
    "### Check Python version"
   ]
  },
  {
   "cell_type": "code",
   "execution_count": 381,
   "metadata": {
    "deletable": false,
    "editable": false,
    "nbgrader": {
     "cell_type": "code",
     "checksum": "736e393ef62f60d5e70432726e7209e0",
     "grade": false,
     "grade_id": "cell-2b9c2390ee464c39",
     "locked": true,
     "schema_version": 3,
     "solution": false,
     "task": false
    }
   },
   "outputs": [],
   "source": [
    "from platform import python_version_tuple\n",
    "assert python_version_tuple()[:2] == ('3','9'), \"You are not running Python 3.9. Make sure to run Python through the course Conda environment.\""
   ]
  },
  {
   "cell_type": "markdown",
   "metadata": {
    "deletable": false,
    "editable": false,
    "nbgrader": {
     "cell_type": "markdown",
     "checksum": "15ec4309f1e85f6e17bda73b9b6f48a2",
     "grade": false,
     "grade_id": "cell-4869b45600ce82f8",
     "locked": true,
     "schema_version": 3,
     "solution": false,
     "task": false
    }
   },
   "source": [
    "### Check that notebook server has access to all required resources, and that notebook has not moved"
   ]
  },
  {
   "cell_type": "code",
   "execution_count": 382,
   "metadata": {
    "deletable": false,
    "editable": false,
    "nbgrader": {
     "cell_type": "code",
     "checksum": "a2d199303c73ec86d25177caf39e385f",
     "grade": false,
     "grade_id": "cell-122ac3d9100b8afb",
     "locked": true,
     "schema_version": 3,
     "solution": false,
     "task": false
    }
   },
   "outputs": [],
   "source": [
    "import os\n",
    "nb_dirname = os.path.abspath('')\n",
    "assignment_name = os.path.basename(nb_dirname)\n",
    "assert assignment_name in ['IHA1', 'IHA2', 'HA1', 'HA2', 'HA3'], \\\n",
    "    '[ERROR] The notebook appears to have been moved from its original directory'"
   ]
  },
  {
   "cell_type": "markdown",
   "metadata": {
    "deletable": false,
    "editable": false,
    "nbgrader": {
     "cell_type": "markdown",
     "checksum": "f09f40b5350db83232189137c550f0a1",
     "grade": false,
     "grade_id": "cell-2455deee513cd39c",
     "locked": true,
     "schema_version": 3,
     "solution": false,
     "task": false
    }
   },
   "source": [
    "### Verify correct nb_fname"
   ]
  },
  {
   "cell_type": "code",
   "execution_count": 383,
   "metadata": {
    "deletable": false,
    "editable": false,
    "nbgrader": {
     "cell_type": "code",
     "checksum": "a78c7227b049bb147e6c363affb6dae8",
     "grade": false,
     "grade_id": "cell-0472e2fd710f1d72",
     "locked": true,
     "schema_version": 3,
     "solution": false,
     "task": false
    }
   },
   "outputs": [
    {
     "data": {
      "text/html": [
       "<script>if(\"IHA2.ipynb\" != IPython.notebook.notebook_name) { alert(\"You have filled in nb_fname = \\\"IHA2.ipynb\\\", but this does not seem to match the notebook filename \\\"\" + IPython.notebook.notebook_name + \"\\\".\"); }</script>"
      ],
      "text/plain": [
       "<IPython.core.display.HTML object>"
      ]
     },
     "metadata": {},
     "output_type": "display_data"
    }
   ],
   "source": [
    "from IPython.display import display, HTML\n",
    "try:\n",
    "    display(HTML(r'<script>if(\"{nb_fname}\" != IPython.notebook.notebook_name) {{ alert(\"You have filled in nb_fname = \\\"{nb_fname}\\\", but this does not seem to match the notebook filename \\\"\" + IPython.notebook.notebook_name + \"\\\".\"); }}</script>'.format(nb_fname=nb_fname)))\n",
    "except NameError:\n",
    "    assert False, 'Make sure to fill in the nb_fname variable above!'"
   ]
  },
  {
   "cell_type": "markdown",
   "metadata": {
    "deletable": false,
    "editable": false,
    "nbgrader": {
     "cell_type": "markdown",
     "checksum": "98d88d8e8da19693053764f29dcc591d",
     "grade": false,
     "grade_id": "cell-ceacb1adcae4783d",
     "locked": true,
     "schema_version": 3,
     "solution": false,
     "task": false
    }
   },
   "source": [
    "### Verify that your notebook is up-to-date and not corrupted in any way"
   ]
  },
  {
   "cell_type": "code",
   "execution_count": 384,
   "metadata": {
    "deletable": false,
    "editable": false,
    "nbgrader": {
     "cell_type": "code",
     "checksum": "bb700528d4644601c1a8c91ef1d84635",
     "grade": false,
     "grade_id": "cell-f5a59288e11b4aec",
     "locked": true,
     "schema_version": 3,
     "solution": false,
     "task": false
    }
   },
   "outputs": [
    {
     "name": "stdout",
     "output_type": "stream",
     "text": [
      "Matching current notebook against the following URL:\n",
      "http://raw.githubusercontent.com/dml-cth/deep-machine-learning/master/home-assignments/IHA2/IHA2.ipynb\n",
      "[SUCCESS] No major notebook mismatch found when comparing to latest GitHub version. (There might be minor updates, but even that is the case, submitting your work based on this notebook version would be acceptable.)\n"
     ]
    }
   ],
   "source": [
    "import sys\n",
    "sys.path.append('..')\n",
    "from ha_utils import check_notebook_uptodate_and_not_corrupted\n",
    "check_notebook_uptodate_and_not_corrupted(nb_dirname, nb_fname)"
   ]
  },
  {
   "cell_type": "markdown",
   "metadata": {
    "deletable": false,
    "editable": false,
    "nbgrader": {
     "cell_type": "markdown",
     "checksum": "587eb0d471650fb68cb3c1f5021df2d4",
     "grade": false,
     "grade_id": "cell-1420bd2a80dfa7d5",
     "locked": true,
     "schema_version": 3,
     "solution": false
    }
   },
   "source": [
    "# IHA2 - Catching Pokemon"
   ]
  },
  {
   "cell_type": "markdown",
   "metadata": {
    "deletable": false,
    "editable": false,
    "nbgrader": {
     "cell_type": "markdown",
     "checksum": "96205d81b93c5615cfbd5cee3aaaa5df",
     "grade": false,
     "grade_id": "cell-c0cb4dde48293818",
     "locked": true,
     "schema_version": 3,
     "solution": false
    }
   },
   "source": [
    "![](http://tibetanitech.com/wp-content/uploads/2016/09/Pokemon-GO.jpg)"
   ]
  },
  {
   "cell_type": "markdown",
   "metadata": {
    "deletable": false,
    "editable": false,
    "nbgrader": {
     "cell_type": "markdown",
     "checksum": "159f2f40f83f6bb0a266ab45c2e05741",
     "grade": false,
     "grade_id": "cell-b16d667dd74a9079",
     "locked": true,
     "schema_version": 3,
     "solution": false
    }
   },
   "source": [
    "In this home assignment, you'll apply roughly the same principles we used when doing logistic regression on the Iris dataset in Computer Lab 1, but on a new and very interesting dataset. We'll use the [Predict'em All dataset from Kaggle](https://www.kaggle.com/semioniy/predictemall). You can download the dataset from Kaggle but you will need a Kaggle account. This dataset consists of roughly 293,000 [pokemon](http://www.pokemongo.com/) sightings (historical appearances of Pokemon in the Pokemon Go game), with geographical coordinates, time, weather, population density, distance to pokestops/gyms etc. as features. A comprehensive list of all the features is available at [the dataset's homepage](https://www.kaggle.com/semioniy/predictemall)\n",
    "\n",
    "The context is simple: you are a Pokemon hunter, and there are only three Pokemon left for you to complete your collection. You'll do anything to capture them, including changing where you'll spend your next holidays! You know that some Pokemon only spawn in certain places of the world. Since you like machine learning so much, you figure it would be a great idea to train a classifier that, based on a location's latitude and longitude, can tell us which Pokemon is more likely to appear there.\n",
    "\n",
    "The assignment is broken down into six steps.\n",
    "\n",
    "1. Loading the data and extracting the desired subset of it\n",
    "2. Visualization of the dataset\n",
    "3. Preprocessing\n",
    "4. Training\n",
    "5. Evaluation\n",
    "6. Exploration\n",
    "\n",
    "\n",
    "Feel free to add cells wherever you see fit, and play around with this notebook as much as you want when developing the solutions. However, the solution you upload to Canvas must have the exact format shown here, with only the cells present here.\n",
    "\n",
    "Don't restrict yourself only to what was taught so far. Some of the tasks might require you to search for new information. However, **be sure that you do the assignment using PyTorch** since we will be using it through the following assignments as well. [The python docs](https://docs.python.org/3/), [pytorch docs](https://pytorch.org/docs/stable/index.html), [stackoverflow](https://stackoverflow.com/), and Google are your friends!\n",
    "\n",
    "**Hint:** Solving Computer Lab 1 (CL1) is a good way to get prepared for this assignment."
   ]
  },
  {
   "cell_type": "markdown",
   "metadata": {
    "deletable": false,
    "editable": false,
    "nbgrader": {
     "cell_type": "markdown",
     "checksum": "6d8a3b20e9634f5c918019159cde8280",
     "grade": false,
     "grade_id": "cell-b9e4c4aa45490941",
     "locked": true,
     "schema_version": 3,
     "solution": false
    }
   },
   "source": [
    "## 0. Imports"
   ]
  },
  {
   "cell_type": "markdown",
   "metadata": {
    "deletable": false,
    "editable": false,
    "nbgrader": {
     "cell_type": "markdown",
     "checksum": "ca68d5a34a1d6f8633072976fad132a3",
     "grade": false,
     "grade_id": "cell-548d168c5c9e8c39",
     "locked": true,
     "schema_version": 3,
     "solution": false
    }
   },
   "source": [
    "Import any necessary modules here."
   ]
  },
  {
   "cell_type": "code",
   "execution_count": 385,
   "metadata": {
    "deletable": false,
    "nbgrader": {
     "cell_type": "code",
     "checksum": "11dafa1e39d08540e4bfe0939c7f89be",
     "grade": true,
     "grade_id": "cell-4e61b7fa879ef4a1",
     "locked": false,
     "points": 0,
     "schema_version": 3,
     "solution": true
    }
   },
   "outputs": [],
   "source": [
    "# YOUR CODE HERE\n",
    "import numpy as np\n",
    "import pandas as pd\n",
    "import matplotlib.pyplot as plt"
   ]
  },
  {
   "cell_type": "code",
   "execution_count": 386,
   "metadata": {},
   "outputs": [],
   "source": [
    "# Import torch library separately to avid 'Kernel Died' error message\n",
    "import torch\n",
    "from torch import nn\n",
    "from torch.utils.data import DataLoader, TensorDataset, random_split"
   ]
  },
  {
   "cell_type": "markdown",
   "metadata": {
    "deletable": false,
    "editable": false,
    "nbgrader": {
     "cell_type": "markdown",
     "checksum": "a576cdb7f1a3658a7eb906977c5e40fb",
     "grade": false,
     "grade_id": "cell-50c33a3517aea662",
     "locked": true,
     "schema_version": 3,
     "solution": false
    }
   },
   "source": [
    "## 1. Loading and extracting subset"
   ]
  },
  {
   "cell_type": "markdown",
   "metadata": {
    "deletable": false,
    "editable": false,
    "nbgrader": {
     "cell_type": "markdown",
     "checksum": "eec1dd2eea0aeff72a2abe1f2d34dc34",
     "grade": false,
     "grade_id": "cell-32f6c44c22e84d42",
     "locked": true,
     "schema_version": 3,
     "solution": false
    }
   },
   "source": [
    "The first step consists of filtering the dataset by the three pokemon you are interested at. \n",
    "\n",
    "Start by loading the `'300k.csv'` file using pandas. If you haven't downloaded it yet, use [this link](https://www.kaggle.com/semioniy/predictemall) to do so. "
   ]
  },
  {
   "cell_type": "code",
   "execution_count": 387,
   "metadata": {
    "deletable": false,
    "nbgrader": {
     "cell_type": "code",
     "checksum": "8589039ecf22cd99c60f34e31a578011",
     "grade": true,
     "grade_id": "cell-53b2a6c0754fca1d",
     "locked": false,
     "points": 0,
     "schema_version": 3,
     "solution": true
    }
   },
   "outputs": [
    {
     "name": "stderr",
     "output_type": "stream",
     "text": [
      "/var/folders/vw/fdrl_85534sdc5svv3301tsw0000gn/T/ipykernel_15367/3876072031.py:5: DtypeWarning: Columns (49) have mixed types. Specify dtype option on import or set low_memory=False.\n",
      "  df = pd.read_csv('300k.csv')\n"
     ]
    }
   ],
   "source": [
    "# YOUR CODE HERE\n",
    "\n",
    "# Use the panda library to read the .csv file.\n",
    "# Save tha DataFram into 'df'\n",
    "df = pd.read_csv('300k.csv')"
   ]
  },
  {
   "cell_type": "markdown",
   "metadata": {
    "deletable": false,
    "editable": false,
    "nbgrader": {
     "cell_type": "markdown",
     "checksum": "02cc9be6a5e73b53096a641dc555acfd",
     "grade": false,
     "grade_id": "cell-5d36e8f9780ea946",
     "locked": true,
     "schema_version": 3,
     "solution": false
    }
   },
   "source": [
    "Create a new `DataFrame` with only the columns `latitude`, `longitude`, and `class`."
   ]
  },
  {
   "cell_type": "code",
   "execution_count": 388,
   "metadata": {
    "deletable": false,
    "nbgrader": {
     "cell_type": "code",
     "checksum": "8f0b7bc21ecc33d1bf75ca430241d758",
     "grade": true,
     "grade_id": "cell-318e20fd02ab7f30",
     "locked": false,
     "points": 0,
     "schema_version": 3,
     "solution": true
    }
   },
   "outputs": [],
   "source": [
    "# YOUR CODE HERE\n",
    "\n",
    "# Define the desired columns in a list consisting of 3 strings\n",
    "columns = ['latitude', 'longitude', 'class']\n",
    "\n",
    "# Extract these columns from df to create a new DataFrame called new_df\n",
    "new_df = df[columns]"
   ]
  },
  {
   "cell_type": "markdown",
   "metadata": {
    "deletable": false,
    "editable": false,
    "nbgrader": {
     "cell_type": "markdown",
     "checksum": "f7530aa8a953c622557fd41c3d247318",
     "grade": false,
     "grade_id": "cell-6f7970ff67af4649",
     "locked": true,
     "schema_version": 3,
     "solution": false
    }
   },
   "source": [
    "Note that the `class` column specifies which pokemon it is. However, it only has the numerical id of the pokemon. For convenience, use the following dictionary to convert between ids and names."
   ]
  },
  {
   "cell_type": "code",
   "execution_count": 389,
   "metadata": {
    "deletable": false,
    "editable": false,
    "nbgrader": {
     "cell_type": "code",
     "checksum": "72b742e685899831f4bde270ad99ec38",
     "grade": false,
     "grade_id": "cell-50ff16afeaf933cf",
     "locked": true,
     "schema_version": 3,
     "solution": false
    }
   },
   "outputs": [],
   "source": [
    "name_dict={1: 'Bulbasaur', 2: 'Ivysaur', 3: 'Venusaur', 4: 'Charmander', 5: 'Charmeleon', 6: 'Charizard', 7: 'Squirtle', 8: \n",
    "          'Wartortle', 9: 'Blastoise', 10: 'Caterpie', 11: 'Metapod', 12: 'Butterfree', 13: 'Weedle', 14: 'Kakuna', \n",
    "          15: 'Beedrill', 16: 'Pidgey', 17: 'Pidgeotto', 18: 'Pidgeot', 19: 'Rattata', 20: 'Raticate', 21: 'Spearow',\n",
    "          22: 'Fearow', 23: 'Ekans', 24: 'Arbok', 25: 'Pikachu', 26: 'Raichu', 27: 'Sandshrew', 28: 'Sandslash', \n",
    "          29: 'Nidoran F', 30: 'Nidorina', 31: 'Nidoqueen',32: 'Nidoran M', 33: 'Nidorino', 34: 'Nidoking', 35: 'Clefairy',\n",
    "          36: 'Clefable', 37: 'Vulpix', 38: 'Ninetales', 39: 'Jigglypuff', 40: 'Wigglytuff', 41: 'Zubat', 42: 'Golbat', \n",
    "          43: 'Oddish', 44: 'Gloom', 45: 'Vileplume', 46: 'Paras', 47: 'Parasect', 48: 'Venonat', 49: 'Venomoth',\n",
    "          50: 'Diglett', 51: 'Dugtrio', 52: 'Meowth', 53: 'Persian', 54: 'Psyduck',55: 'Golduck', 56: 'Mankey', \n",
    "          57: 'Primeape', 58: 'Growlithe', 59: 'Arcanine', 60: 'Poliwag', 61: 'Poliwhirl', 62: 'Poliwrath',\n",
    "          63: 'Abra', 64: 'Kadabra', 65: 'Alakazam', 66: 'Machop', 67: 'Machoke', 68: 'Machamp', 69: 'Bellsprout', \n",
    "          70: 'Weepinbell', 71: 'Victreebel', 72: 'Tentacool', 73: 'Tentacruel', 74: 'Geodude', 75: 'Graveler',\n",
    "          76: 'Golem', 77: 'Ponyta', 78: 'Rapidash', 79: 'Slowpoke', 80: 'Slowbro', 81: 'Magnemite', 82: 'Magneton',\n",
    "          83: \"Farfetch'd\", 84: 'Doduo', 85: 'Dodrio', 86: 'Seel', 87: 'Dewgong', 88: 'Grimer', 89: 'Muk', \n",
    "          90: 'Shellder', 91: 'Cloyster', 92: 'Gastly', 93: 'Haunter', 94: 'Gengar', 95: 'Onix', 96: 'Drowzee',\n",
    "          97: 'Hypno', 98: 'Krabby', 99: 'Kingler', 100: 'Voltorb', 101: 'Electrode', 102: 'Exeggcute', 103: 'Exeggutor', \n",
    "          104: 'Cubone', 105: 'Marowak', 106: 'Hitmonlee', 107: 'Hitmonchan', 108: 'Lickitung', 109: 'Koffing',\n",
    "          110: 'Weezing', 111: 'Rhyhorn', 112: 'Rhydon', 113: 'Chansey', 114: 'Tangela', 115: 'Kangaskhan', 116: 'Horsea', \n",
    "          117: 'Seadra', 118: 'Goldeen', 119: 'Seaking', 120: 'Staryu', 121: 'Starmie', 122: 'Mr. Mime', 123: 'Scyther', \n",
    "          124: 'Jynx', 125: 'Electabuzz', 126: 'Magmar', 127: 'Pinsir', 128: 'Tauros', 129: 'Magikarp', 130: 'Gyarados', \n",
    "          131: 'Lapras', 132: 'Ditto', 133: 'Eevee', 134: 'Vaporeon', 135: 'Jolteon', 136: 'Flareon', 137: 'Porygon', \n",
    "          138: 'Omanyte', 139: 'Omastar', 140: 'Kabuto', 141: 'Kabutops', 142: 'Aerodactyl', 143: 'Snorlax', 144: 'Articuno',\n",
    "          145: 'Zapdos', 146: 'Moltres', 147: 'Dratini', 148: 'Dragonair', 149: 'Dragonite', 150: 'Mewtwo', 'Bulbasaur': 1, 'Ivysaur': 2, 'Venusaur': 3, 'Charmander': 4, 'Charmeleon': 5, 'Charizard': 6, 'Squirtle': 7, 'Wartortle': 8, 'Blastoise': 9, 'Caterpie': 10, 'Metapod': 11, 'Butterfree': 12, 'Weedle': 13, 'Kakuna': 14, 'Beedrill': 15, 'Pidgey': 16, 'Pidgeotto': 17, 'Pidgeot': 18, 'Rattata': 19, 'Raticate': 20, 'Spearow': 21, 'Fearow': 22, 'Ekans': 23, 'Arbok': 24, 'Pikachu': 25, 'Raichu': 26, 'Sandshrew': 27, 'Sandslash': 28, 'Nidoran F': 29, 'Nidorina': 30, 'Nidoqueen': 31, 'Nidoran M': 32, 'Nidorino': 33, 'Nidoking': 34, 'Clefairy': 35, 'Clefable': 36, 'Vulpix': 37, 'Ninetales': 38, 'Jigglypuff': 39, 'Wigglytuff': 40, 'Zubat': 41, 'Golbat': 42, 'Oddish': 43, 'Gloom': 44, 'Vileplume': 45, 'Paras': 46, 'Parasect': 47, 'Venonat': 48, 'Venomoth': 49, 'Diglett': 50, 'Dugtrio': 51, 'Meowth': 52, 'Persian': 53, 'Psyduck': 54, 'Golduck': 55, 'Mankey': 56, 'Primeape': 57, 'Growlithe': 58, 'Arcanine': 59, 'Poliwag': 60, 'Poliwhirl': 61, 'Poliwrath': 62, 'Abra': 63, 'Kadabra': 64, 'Alakazam': 65, 'Machop': 66, 'Machoke': 67, 'Machamp': 68, 'Bellsprout': 69, 'Weepinbell': 70, 'Victreebel': 71, 'Tentacool': 72, 'Tentacruel': 73, 'Geodude': 74, 'Graveler': 75, 'Golem': 76, 'Ponyta': 77, 'Rapidash': 78, 'Slowpoke': 79, 'Slowbro': 80, 'Magnemite': 81, 'Magneton': 82, 'Farfetch\\'d': 83, 'Doduo': 84, 'Dodrio': 85, 'Seel': 86, 'Dewgong': 87, 'Grimer': 88, 'Muk': 89, 'Shellder': 90, 'Cloyster': 91, 'Gastly': 92, 'Haunter': 93, 'Gengar': 94, 'Onix': 95, 'Drowzee': 96, 'Hypno': 97, 'Krabby': 98, 'Kingler': 99, 'Voltorb': 100, 'Electrode': 101, 'Exeggcute': 102, 'Exeggutor': 103, 'Cubone': 104, 'Marowak': 105, 'Hitmonlee': 106, 'Hitmonchan': 107, 'Lickitung': 108, 'Koffing': 109, 'Weezing': 110, 'Rhyhorn': 111, 'Rhydon': 112, 'Chansey': 113, 'Tangela': 114, 'Kangaskhan': 115, 'Horsea': 116, 'Seadra': 117, 'Goldeen': 118, 'Seaking': 119, 'Staryu': 120, 'Starmie': 121, 'Mr. Mime': 122, 'Scyther': 123, 'Jynx': 124, 'Electabuzz': 125, 'Magmar': 126, 'Pinsir': 127, 'Tauros': 128, 'Magikarp': 129, 'Gyarados': 130, 'Lapras': 131, 'Ditto': 132, 'Eevee': 133, 'Vaporeon': 134, 'Jolteon': 135, 'Flareon': 136, 'Porygon': 137, 'Omanyte': 138, 'Omastar': 139, 'Kabuto': 140, 'Kabutops': 141, 'Aerodactyl': 142, 'Snorlax': 143, 'Articuno': 144, 'Zapdos': 145, 'Moltres': 146, 'Dratini': 147, 'Dragonair': 148, 'Dragonite': 149, 'Mewtwo': 150}"
   ]
  },
  {
   "cell_type": "code",
   "execution_count": 390,
   "metadata": {},
   "outputs": [
    {
     "name": "stdout",
     "output_type": "stream",
     "text": [
      "94\n",
      "Gengar\n"
     ]
    }
   ],
   "source": [
    "# example usage (you can index either by name or id)\n",
    "print(name_dict['Gengar'])\n",
    "print(name_dict[94])"
   ]
  },
  {
   "cell_type": "markdown",
   "metadata": {
    "deletable": false,
    "editable": false,
    "nbgrader": {
     "cell_type": "markdown",
     "checksum": "09025bb17628db2a36bb21a5b3b6f1c5",
     "grade": false,
     "grade_id": "cell-eaa874b93b3b727c",
     "locked": true,
     "schema_version": 3,
     "solution": false
    }
   },
   "source": [
    "We are only interested in three specific pokemon: Diglett, Seel, and Tauros."
   ]
  },
  {
   "cell_type": "markdown",
   "metadata": {
    "deletable": false,
    "editable": false,
    "nbgrader": {
     "cell_type": "markdown",
     "checksum": "fb13900e729b707cf81097f3e28c10c1",
     "grade": false,
     "grade_id": "cell-7e0898a53c5649b0",
     "locked": true,
     "schema_version": 3,
     "solution": false
    }
   },
   "source": [
    "<table style=\"width:100%\">\n",
    "  <tr>\n",
    "    <th> <center>Diglett</center> </th>\n",
    "    <th> <center>Seel</center> </th> \n",
    "    <th> <center>Tauros</center> </th>\n",
    "  </tr>\n",
    "  <tr>\n",
    "    <td><img src=https://assets.pokemon.com/assets/cms2/img/pokedex/full/050_f2.png alt=Digglet></td>\n",
    "    <td><img src=https://pokemon.gamepedia.com/media/pokemon.gamepedia.com/thumb/f/f1/Seel.png/200px-Seel.png?version=2c32fbe0af2d0da707e5dbcb40472fbf></td>\n",
    "    <td><img src=https://vignette2.wikia.nocookie.net/pokemon/images/0/01/128Tauros_AG_anime.png/revision/latest?cb=20140924030616></td>\n",
    "  </tr>\n",
    "</table>\n",
    "\n"
   ]
  },
  {
   "cell_type": "markdown",
   "metadata": {
    "deletable": false,
    "editable": false,
    "nbgrader": {
     "cell_type": "markdown",
     "checksum": "d75af489f3c30c9763ec9adca054e035",
     "grade": false,
     "grade_id": "cell-d091927bf7d7938f",
     "locked": true,
     "schema_version": 3,
     "solution": false
    }
   },
   "source": [
    "Filter the dataset to contain only these pokemon."
   ]
  },
  {
   "cell_type": "code",
   "execution_count": 391,
   "metadata": {
    "deletable": false,
    "nbgrader": {
     "cell_type": "code",
     "checksum": "06fdbff28605ca63c20d4e87e2192a12",
     "grade": true,
     "grade_id": "cell-7089f3397cbc1f4a",
     "locked": false,
     "points": 0,
     "schema_version": 3,
     "solution": true
    }
   },
   "outputs": [],
   "source": [
    "# YOUR CODE HERE\n",
    "\n",
    "# Define the pokémon names in a list\n",
    "# NOTE to teacher: If you want to consider more pokemons, just extend the pokemon_names list and\n",
    "# the rest of the code/program should work fine!\n",
    "pokemon_names = ['Diglett', 'Seel', 'Tauros']\n",
    "\n",
    "# Find the corresponding poké-id for the defined pokemons\n",
    "pokemon_id = [name_dict[pokemon] for pokemon in pokemon_names]\n",
    "\n",
    "# Filter the DataFrame to only include data from these póke-id\n",
    "mask = new_df['class'].isin(pokemon_id)\n",
    "filtered_df = new_df[mask]"
   ]
  },
  {
   "cell_type": "markdown",
   "metadata": {
    "deletable": false,
    "editable": false,
    "nbgrader": {
     "cell_type": "markdown",
     "checksum": "2641774ea6d909844fb9d2e930763382",
     "grade": false,
     "grade_id": "cell-01b988bb1bfa1f92",
     "locked": true,
     "schema_version": 3,
     "solution": false
    }
   },
   "source": [
    "## 2. Visualization of the dataset"
   ]
  },
  {
   "cell_type": "markdown",
   "metadata": {
    "deletable": false,
    "editable": false,
    "nbgrader": {
     "cell_type": "markdown",
     "checksum": "437148ed483b9f34a3cd87aae3129933",
     "grade": false,
     "grade_id": "cell-5c7b8fdcd18575fe",
     "locked": true,
     "schema_version": 3,
     "solution": false
    }
   },
   "source": [
    "The second step consists of visualizing the dataset. This will help you understand the distribution of the features and get an idea of how hard the task will be.\n",
    "\n",
    "Plot a bar chart of the number of occurrences of each class."
   ]
  },
  {
   "cell_type": "code",
   "execution_count": 392,
   "metadata": {
    "deletable": false,
    "nbgrader": {
     "cell_type": "code",
     "checksum": "b9b6048c83c3f3f72c51e4baa47b141b",
     "grade": true,
     "grade_id": "cell-c1a9921488e42992",
     "locked": false,
     "points": 0,
     "schema_version": 3,
     "solution": true
    }
   },
   "outputs": [
    {
     "data": {
      "image/png": "[encoded data removed]",
      "text/plain": [
       "<Figure size 432x288 with 1 Axes>"
      ]
     },
     "metadata": {
      "needs_background": "light"
     },
     "output_type": "display_data"
    }
   ],
   "source": [
    "# YOUR CODE HERE\n",
    "\n",
    "# Count occurances of the classes, convert to dictionary for easy plotting\n",
    "occur = filtered_df.groupby(['class']).size().to_dict()\n",
    "\n",
    "# Extract values from dictionary, convert class id to pokémon name for plot\n",
    "keys = [name_dict[key] for key in occur.keys()]\n",
    "values = occur.values()\n",
    "\n",
    "# Define unique color for the pokemons, supports up to 10 different pokemons at once\n",
    "colors = ['#0000FF', '#008000', '#FF0000', '#00FFFF', '#FF00FF', '#FFFF00', '#000000', '#FFA07A', '#00CED1', '#800080'][0:len(keys)]\n",
    "\n",
    "# Create bar chart and adding figure styles\n",
    "plt.bar(keys, values, width=0.4, color=colors)\n",
    "plt.xlabel(\"Pokémon name\")\n",
    "plt.ylabel(\"No. of occurances\")\n",
    "plt.title(\"Bar chart of pókemon occurances in 300k.csv\")\n",
    "plt.grid(True)\n",
    "plt.show()"
   ]
  },
  {
   "cell_type": "markdown",
   "metadata": {
    "deletable": false,
    "editable": false,
    "nbgrader": {
     "cell_type": "markdown",
     "checksum": "8db3801153d88faae486675872d25de6",
     "grade": false,
     "grade_id": "cell-c22d835bdc58fe68",
     "locked": true,
     "schema_version": 3,
     "solution": false
    }
   },
   "source": [
    "Is the dataset balanced?"
   ]
  },
  {
   "cell_type": "markdown",
   "metadata": {
    "deletable": false,
    "nbgrader": {
     "cell_type": "markdown",
     "checksum": "c918f9b5d190f5f83c8dbd622e59d062",
     "grade": true,
     "grade_id": "cell-3d060bda26842b5d",
     "locked": false,
     "points": 0,
     "schema_version": 3,
     "solution": true
    }
   },
   "source": [
    "**Your answer:** (fill in here)\n",
    "\n",
    "I think the dataset is fairly balanced. Diglett occurse more than Tauros, but it is still rather even."
   ]
  },
  {
   "cell_type": "markdown",
   "metadata": {
    "deletable": false,
    "editable": false,
    "nbgrader": {
     "cell_type": "markdown",
     "checksum": "1a7596c973fa0cb79ea1edb2d99fd2d3",
     "grade": false,
     "grade_id": "cell-931cbd9e3ec95da5",
     "locked": true,
     "schema_version": 3,
     "solution": false
    }
   },
   "source": [
    "Plot a scatter plot where the first dimension is latitude, the second is longitude, and each point is a Pokemon. Further, the color of each point should represent which Pokemon it is. Lastly, the marker at each point should be an `'x'`. Make sure to label each axis.\n",
    "\n",
    "Hints:\n",
    "\n",
    "- The `scatter` method from `matplotlib` accepts an argument called `c`.\n",
    "- The `scatter` method also accepts an argument called `marker`."
   ]
  },
  {
   "cell_type": "code",
   "execution_count": 393,
   "metadata": {
    "deletable": false,
    "nbgrader": {
     "cell_type": "code",
     "checksum": "f6f749d2605a9f0d0ae2dff5d584d414",
     "grade": true,
     "grade_id": "cell-1120bd5aa8abeae1",
     "locked": false,
     "points": 0,
     "schema_version": 3,
     "solution": true
    }
   },
   "outputs": [
    {
     "data": {
      "image/png": "[encoded data removed]",
      "text/plain": [
       "<Figure size 432x288 with 1 Axes>"
      ]
     },
     "metadata": {
      "needs_background": "light"
     },
     "output_type": "display_data"
    }
   ],
   "source": [
    "# YOUR CODE HERE\n",
    "\n",
    "# Create a dictionary that maps a pokemon to a specific color\n",
    "pokemon_to_color_dict = {id: assigned_color for (id, assigned_color) in zip(pokemon_id, colors)}\n",
    "\n",
    "# Iterate over the pokemon id and scatter all the locations that pokemon has appeared\n",
    "for unique_pokemon_id in pokemon_id:\n",
    "    mask = filtered_df['class'] == unique_pokemon_id\n",
    "    temporary_df = filtered_df[mask]\n",
    "    plt.scatter(temporary_df['longitude'], temporary_df['latitude'], c=pokemon_to_color_dict[unique_pokemon_id],label=name_dict[unique_pokemon_id], s=10)\n",
    "\n",
    "# Add figure styles and show legend\n",
    "plt.xlabel('Longitude')\n",
    "plt.ylabel('Latitude')\n",
    "plt.title('Scatter Plot of Longitude vs. Latitude')\n",
    "plt.legend(loc='upper right')\n",
    "plt.grid(True)\n",
    "plt.show()\n"
   ]
  },
  {
   "cell_type": "markdown",
   "metadata": {
    "deletable": false,
    "editable": false,
    "nbgrader": {
     "cell_type": "markdown",
     "checksum": "4de0c3f04f14adb2cdc7c5e9f76fb154",
     "grade": false,
     "grade_id": "cell-76f326a05bf22e09",
     "locked": true,
     "schema_version": 3,
     "solution": false
    }
   },
   "source": [
    "Is there any other visualization you think would be useful? If so, insert it here."
   ]
  },
  {
   "cell_type": "markdown",
   "metadata": {
    "collapsed": true,
    "deletable": false,
    "nbgrader": {
     "cell_type": "markdown",
     "checksum": "64654035bfe7ce53e421145357db4667",
     "grade": true,
     "grade_id": "cell-86724bfd3955c5ed",
     "locked": false,
     "points": 0,
     "schema_version": 3,
     "solution": true
    }
   },
   "source": [
    "**Your answer:** (fill in here)\n",
    "\n",
    "One could add the contour of the earth-map behind the scattered data points. It gives an intuition about where the pokemons is most likely to occur, however this does not give any additional insights with regards to the data distribution.\n",
    "\n",
    "/ Nicholas Granlund"
   ]
  },
  {
   "cell_type": "markdown",
   "metadata": {
    "deletable": false,
    "editable": false,
    "nbgrader": {
     "cell_type": "markdown",
     "checksum": "6140988fa08ca186bbe62a74e82ddddd",
     "grade": false,
     "grade_id": "cell-7af3ac7849dc5252",
     "locked": true,
     "schema_version": 3,
     "solution": false
    }
   },
   "source": [
    "How hard do you think the problem is? Which classes can/cannot be easily separated?\n"
   ]
  },
  {
   "cell_type": "markdown",
   "metadata": {
    "deletable": false,
    "nbgrader": {
     "cell_type": "markdown",
     "checksum": "6bb25f67d0cf2e55d60f2b63646ce9fe",
     "grade": true,
     "grade_id": "cell-62e50deb2cca74b2",
     "locked": false,
     "points": 0,
     "schema_version": 3,
     "solution": true
    }
   },
   "source": [
    "**Your answer:** (fill in here)\n",
    "\n",
    "Tauros and Seel are, according to the scatter, fairly easy to separate with some overlap. It seems like Tauros is more apparent in North America and that Seel is more present in Europe. Diglett however seems to appear all over the world, and hence it may be difficult to accurately locate/separate Digletts location.\n",
    "\n",
    "/ Nicholas Granlund"
   ]
  },
  {
   "cell_type": "markdown",
   "metadata": {
    "deletable": false,
    "editable": false,
    "nbgrader": {
     "cell_type": "markdown",
     "checksum": "9e6bfdd82abab0b61a471c52bfc9dff3",
     "grade": false,
     "grade_id": "cell-3d322369934aa289",
     "locked": true,
     "schema_version": 3,
     "solution": false
    }
   },
   "source": [
    "Which accuracy do you expect to achieve?"
   ]
  },
  {
   "cell_type": "markdown",
   "metadata": {
    "deletable": false,
    "nbgrader": {
     "cell_type": "markdown",
     "checksum": "931b0e510dcc8867fb3efb7e50fe8a25",
     "grade": true,
     "grade_id": "cell-f2c255ad5dd7e5fc",
     "locked": false,
     "points": 0,
     "schema_version": 3,
     "solution": true
    }
   },
   "source": [
    "**Your answer:** (fill in here)\n",
    "\n",
    "Well that depens on the network implemented and on how well it has been trained. But I would suspect an OK accuracy, perhaps around 60-70%?\n",
    "\n",
    "/ Nicholas Granlund"
   ]
  },
  {
   "cell_type": "markdown",
   "metadata": {
    "deletable": false,
    "editable": false,
    "nbgrader": {
     "cell_type": "markdown",
     "checksum": "d5510f4a800380ecc156cd9d2f3898e5",
     "grade": false,
     "grade_id": "cell-451e0813fca28b8b",
     "locked": true,
     "schema_version": 3,
     "solution": false
    }
   },
   "source": [
    "## 3. Preprocessing"
   ]
  },
  {
   "cell_type": "markdown",
   "metadata": {
    "deletable": false,
    "editable": false,
    "nbgrader": {
     "cell_type": "markdown",
     "checksum": "6f45a44b8b3c4258219af1a4de0bd143",
     "grade": false,
     "grade_id": "cell-3eed8190495b60ac",
     "locked": true,
     "schema_version": 3,
     "solution": false
    }
   },
   "source": [
    "The third step consists of processing the data before training, such as dividing the dataset into training, validation, and test sets. Some tranformations can also be applied to the dataset in order to improve the performance of the network. \n",
    "\n",
    "Start by creating the input and output vectors."
   ]
  },
  {
   "cell_type": "code",
   "execution_count": 394,
   "metadata": {
    "deletable": false,
    "nbgrader": {
     "cell_type": "code",
     "checksum": "266ae4cb5f1d572448577f583d04925b",
     "grade": true,
     "grade_id": "cell-c61cb8065babf0c5",
     "locked": false,
     "points": 0,
     "schema_version": 3,
     "solution": true
    }
   },
   "outputs": [],
   "source": [
    "# YOUR CODE HERE\n",
    "\n",
    "# Our input to the network should be the coordinates longitude and latitude\n",
    "input = filtered_df[['longitude', 'latitude']].to_numpy()\n",
    "output = filtered_df['class'].to_numpy()\n",
    "\n",
    "# Perform normaliazation such that the input data have 0 mean and unit variance\n",
    "mean_longitude, std_longitude = input[:, 0].mean(), input[:, 0].std()\n",
    "mean_latitude, std_latitude = input[:, 1].mean(), input[:, 1].std()\n",
    "input[:, 0] = (input[:, 0] - mean_longitude) / std_longitude\n",
    "input[:, 1] = (input[:, 1] - mean_latitude) / std_latitude\n",
    "\n",
    "# Assert that the variance is approximately 1\n",
    "assert np.abs(input.std() - 1) < 1e-6, \"Variance is not sufficiently close to 1\"\n",
    "assert np.abs(input.mean()) < 1e-6, \"Mean is not sufficiently close to 0\""
   ]
  },
  {
   "cell_type": "markdown",
   "metadata": {
    "deletable": false,
    "editable": false,
    "nbgrader": {
     "cell_type": "markdown",
     "checksum": "dad48214b4d12cea9b6bbe326e70fae7",
     "grade": false,
     "grade_id": "cell-566d2f340fa57d49",
     "locked": true,
     "schema_version": 3,
     "solution": false
    }
   },
   "source": [
    "Separate your data into training (55%), validation (25%) and test sets (20%). If you wish to apply any transformation to the dataset, do it here as well. "
   ]
  },
  {
   "cell_type": "code",
   "execution_count": 395,
   "metadata": {
    "deletable": false,
    "nbgrader": {
     "cell_type": "code",
     "checksum": "a23648ec359fa6060da2f7ecd3591f92",
     "grade": true,
     "grade_id": "cell-918e3bb4d74472bd",
     "locked": false,
     "points": 0,
     "schema_version": 3,
     "solution": true
    }
   },
   "outputs": [],
   "source": [
    "# YOUR CODE HERE\n",
    "\n",
    "# Convert 'output' to a PyTorch tensor\n",
    "output = torch.tensor(output, dtype=torch.int64)\n",
    "\n",
    "# Create a dictionary to map original class labels to new labels based on 'pokemon_id'\n",
    "class_label_mapping = {}\n",
    "unique_labels = torch.unique(output)\n",
    "\n",
    "# Generate a mapping from unique original labels to consecutive integers\n",
    "for idx, label in enumerate(unique_labels):\n",
    "    original_label = label.item()\n",
    "    new_label = pokemon_id.index(original_label)\n",
    "    class_label_mapping[original_label] = new_label\n",
    "\n",
    "# Map the original class labels to consecutive integers\n",
    "for original_label, new_label in class_label_mapping.items():\n",
    "    output[output == original_label] = new_label\n",
    "\n",
    "# Now let's transform these to PyTorch 'Tensor'\n",
    "input = torch.tensor(input, dtype=torch.float32)\n",
    "\n",
    "# Now we can create a dataset of the input and output tensors\n",
    "device = torch.device('cuda' if torch.cuda.is_available() else 'cpu')\n",
    "dataset = TensorDataset(input.to(device), output.to(device))\n",
    "\n",
    "# Split the data into 55 / 25 / 20\n",
    "n_samples = len(dataset)\n",
    "n_train_samples = int(n_samples*0.55)\n",
    "n_val_samples = int(n_samples*0.25)\n",
    "n_test_samples = int(n_samples - n_train_samples - n_val_samples)\n",
    "\n",
    "# assert that the dataset has been split correctly\n",
    "assert n_train_samples + n_val_samples + n_test_samples == n_samples, 'Dataset splitted incorrectly.'\n",
    "\n",
    "# Use random_split function to obtain 3 subsets of the data.\n",
    "train_dataset, val_dataset, test_dataset = random_split(dataset, [n_train_samples, n_val_samples, n_test_samples])\n",
    "\n",
    "# Create DataLoader objects of these datasets\n",
    "train_data_loader = DataLoader(train_dataset, batch_size=64, shuffle=True)\n",
    "val_data_loader = DataLoader(val_dataset, batch_size=n_val_samples)\n",
    "test_data_loader = DataLoader(test_dataset, batch_size=n_test_samples)\n",
    "\n",
    "# Now we have prepared tha data for our network!"
   ]
  },
  {
   "cell_type": "markdown",
   "metadata": {
    "deletable": false,
    "editable": false,
    "nbgrader": {
     "cell_type": "markdown",
     "checksum": "c9b5ffa094240411cb43919a003ba914",
     "grade": false,
     "grade_id": "cell-b9088197f0ab661c",
     "locked": true,
     "schema_version": 3,
     "solution": false
    }
   },
   "source": [
    "## 4. Training"
   ]
  },
  {
   "cell_type": "markdown",
   "metadata": {
    "deletable": false,
    "editable": false,
    "nbgrader": {
     "cell_type": "markdown",
     "checksum": "37db0968c390e269c2670d7f88e8d403",
     "grade": false,
     "grade_id": "cell-1c4e4c6b7186c418",
     "locked": true,
     "schema_version": 3,
     "solution": false
    }
   },
   "source": [
    "The fourth step is where you will choose the architecture of your network (number of hidden layers, activation functions, etc.), and train it. \n",
    "\n",
    "Start by choosing an architecture for your network."
   ]
  },
  {
   "cell_type": "code",
   "execution_count": 396,
   "metadata": {
    "deletable": false,
    "nbgrader": {
     "cell_type": "code",
     "checksum": "2dee567112649e4b688372cbabe29252",
     "grade": true,
     "grade_id": "cell-dff32f0d1dd91a72",
     "locked": false,
     "points": 0,
     "schema_version": 3,
     "solution": true,
     "task": false
    }
   },
   "outputs": [],
   "source": [
    "# YOUR CODE HERE\n",
    "\n",
    "# We use the nn module from Pytorch. We create out own class \"PokemonLocatorNetwork\"\n",
    "# as a subclass of nn.Module. i.e., Our class will inherit the attributes and methods of this.\n",
    "# In the __init__ constructor we will call super() to create an instance of the superclass.\n",
    "\n",
    "# Our 'PokemonLocatorNetwork' will have a uniqe attribute we call self.model. This is an nn.Sequantial\n",
    "# object that consists of several layer types.\n",
    "\n",
    "# The 'PokemonLocatorNetwork' will also only have one unique method called forward. \n",
    "# This method accepts 'features' as arguments and passes it to the nn.Sequential object defined\n",
    "# in the attribute self.model.\n",
    "\n",
    "class PokemonLocatorNetwork(nn.Module):\n",
    "    \"\"\"\n",
    "    A neural network model for Pokemon classification.\n",
    "\n",
    "    This network consists of multiple layers with ReLU activation and batch normalization.\n",
    "\n",
    "    Args:\n",
    "        n_classes (int): Number of output classes.\n",
    "\n",
    "    Attributes:\n",
    "        model (nn.Sequential): The neural network architecture.\n",
    "    \"\"\"\n",
    "\n",
    "    def __init__(self, n_classes: int):\n",
    "        \"\"\"\n",
    "        Initializes a new instance of the ImprovedPokemonLocatorNetwork.\n",
    "\n",
    "        Args:\n",
    "            n_classes (int): Number of output classes.\n",
    "        \"\"\"\n",
    "        super().__init__()\n",
    "        self.model = nn.Sequential(\n",
    "            nn.Linear(2,64),\n",
    "            nn.BatchNorm1d(64), \n",
    "            nn.LeakyReLU(), \n",
    "\n",
    "            nn.Linear(64, 64),  \n",
    "            nn.BatchNorm1d(64),  \n",
    "            nn.LeakyReLU(),\n",
    "\n",
    "            nn.Linear(64, 64),  \n",
    "            nn.BatchNorm1d(64),  \n",
    "            nn.LeakyReLU(),\n",
    "\n",
    "            nn.Linear(64, 64),  \n",
    "            nn.BatchNorm1d(64),  \n",
    "            nn.LeakyReLU(),\n",
    "\n",
    "            nn.Linear(64, 64),  \n",
    "            nn.BatchNorm1d(64),  \n",
    "            nn.LeakyReLU(),\n",
    "\n",
    "            nn.Linear(64, 32),  \n",
    "            nn.BatchNorm1d(32),  \n",
    "            nn.LeakyReLU(),\n",
    "            \n",
    "            nn.Linear(32, n_classes),\n",
    "            nn.Softmax(dim=1)\n",
    "        )\n",
    "\n",
    "    def forward(self, features: torch.Tensor) -> torch.Tensor:\n",
    "        \"\"\"\n",
    "        Forward pass of the neural network.\n",
    "\n",
    "        Args:\n",
    "            features (torch.Tensor): Input features.\n",
    "\n",
    "        Returns:\n",
    "            torch.Tensor: Output of the neural network.\n",
    "        \"\"\"\n",
    "        return self.model(features)"
   ]
  },
  {
   "cell_type": "markdown",
   "metadata": {
    "deletable": false,
    "editable": false,
    "nbgrader": {
     "cell_type": "markdown",
     "checksum": "4e56a39b734fb1a6785dc7d5ef30dc51",
     "grade": false,
     "grade_id": "cell-d91e1230c6b9225d",
     "locked": true,
     "schema_version": 3,
     "solution": false
    }
   },
   "source": [
    "Train the network."
   ]
  },
  {
   "cell_type": "code",
   "execution_count": 397,
   "metadata": {},
   "outputs": [],
   "source": [
    "# Here we define two functions to help us in the training process; evaluate_model and train_network\n",
    "\n",
    "def evaluate_model(data_loader: DataLoader, model: nn.Module, loss_function: nn.modules.loss, print_result: bool = False) -> tuple[float, float]:\n",
    "    \"\"\"\n",
    "    Evaluate a neural network model on a given data loader.\n",
    "\n",
    "    Args:\n",
    "        data_loader (DataLoader): DataLoader containing input data and labels.\n",
    "        model (nn.Module): Neural network model to evaluate.\n",
    "        loss_function (nn.modules.loss): Loss function for computing the loss.\n",
    "        print_result (bool): If True, print the accuracy and average loss.\n",
    "\n",
    "    Returns:\n",
    "        Tuple[float, float]: A tuple containing the accuracy and average loss.\n",
    "\n",
    "    Author: Nicholas Granlund\n",
    "    Date: 2023-09-10\n",
    "    \"\"\"\n",
    "\n",
    "    # Initialize helper variables\n",
    "    losses = []\n",
    "    n_correct = 0\n",
    "\n",
    "    # Do not allocate memory for gradients, reduce memory usage with torch.no_grad()\n",
    "    with torch.no_grad():\n",
    "\n",
    "        # Iterate through the data in the data_loader\n",
    "        for batch_x, batch_y in data_loader:\n",
    "\n",
    "            # Make prediction for batch_x\n",
    "            pred = model.forward(batch_x)\n",
    "\n",
    "            # Compute loss given the prediction\n",
    "            loss = loss_function(pred, batch_y)\n",
    "\n",
    "            # Append this loss to the 'losses' list\n",
    "            losses.append(loss.item())\n",
    "            \n",
    "            # Increment counter for the number of correctly classified labels.\n",
    "            n_correct += torch.sum(pred.argmax(dim=1) == batch_y).item()\n",
    "\n",
    "        # Compute Acccuracy\n",
    "        accuracy = n_correct/len(val_dataset)\n",
    "\n",
    "        # Compute average loss from the batches\n",
    "        avg_loss = sum(losses)/len(losses)    \n",
    "\n",
    "    if print_result:\n",
    "        print(f\"Accuracy: {accuracy*100:.2f}%\")\n",
    "        print(f\"Average Loss: {avg_loss:.3f}\")\n",
    "    \n",
    "    # Return the accuracy and average loss\n",
    "    return accuracy, avg_loss\n",
    "\n",
    "\n",
    "def train_network(train_data_loader: DataLoader, val_data_loader: DataLoader, model: nn.Module, loss_fun: nn.modules.loss, optimizer: torch.optim, n_epochs: int = 10):\n",
    "    \"\"\"\n",
    "    Train a neural network model for classification.\n",
    "\n",
    "    This function trains a neural network model using the specified training DataLoader and optimization settings.\n",
    "    \n",
    "    Args:\n",
    "        train_data_loader (DataLoader): DataLoader containing training data and labels.\n",
    "        val_data_loader (DataLoader): DataLoader containing validation data and labels.\n",
    "        model (nn.Module): Neural network model to be trained.\n",
    "        loss_fun (nn.modules.loss): Loss function used for training.\n",
    "        optimizer (torch.optim): Optimization algorithm and its parameters.\n",
    "        num_epochs (int, optional): Number of training epochs. Default is 10.\n",
    "\n",
    "    returns\n",
    "\n",
    "    Author: Nicholas Granlund\n",
    "    Date: 2023-09-10\n",
    "\n",
    "    This function performs the following steps:\n",
    "    - Iterates through the specified number of training epochs.\n",
    "    - Computes forward and backward passes, updating the model's parameters.\n",
    "    - Displays training and validation metrics for each epoch.\n",
    "    - Terminates training early if validation loss does not decrease\n",
    "    \"\"\"\n",
    "\n",
    "    best_val_loss = float('inf')  # Initialize to a large value\n",
    "    patience = 5  # Number of epochs without improvement to tolerate\n",
    "    no_improvement = 0  # Counter for consecutive epochs without improvement\n",
    "\n",
    "    # Train the network for the given amount of epochs\n",
    "    for epoch in range(n_epochs):\n",
    "\n",
    "        losses = []\n",
    "        n_correct = 0\n",
    "\n",
    "        # Iterate through the batches the training DataLoader\n",
    "        for batch_x, batch_y in train_data_loader:\n",
    "            \n",
    "            # Compute predictions\n",
    "            pred = model(batch_x)\n",
    "            \n",
    "            # Compute the loss using CrossEntropyLoss\n",
    "            loss = loss_fun(pred, batch_y)\n",
    "            losses.append(loss.item())\n",
    "            \n",
    "            # Increment the number of correct predictions\n",
    "            n_correct += torch.sum(pred.argmax(dim=1) == batch_y).item()\n",
    "\n",
    "            # Backpropagate\n",
    "            loss.backward()\n",
    "\n",
    "            # Perform a single optimization step (parameter update)\n",
    "            optimizer.step()\n",
    "\n",
    "            # Sets the gradients of all optimized Tensors to zero\n",
    "            optimizer.zero_grad()\n",
    "            \n",
    "        # Compute accuracy and loss on the entire training set\n",
    "        train_accuracy = n_correct / len(train_dataset)\n",
    "        train_avg_loss = sum(losses) / len(losses)\n",
    "\n",
    "        # Compute accuracy and loss on the validation set\n",
    "        val_accuracy, val_avg_loss = evaluate_model(val_data_loader, model, loss_fun)\n",
    "\n",
    "        # Display metrics for the current epoch\n",
    "        print(f\"\\n------ Epoch [{epoch+1}/{n_epochs}] -------------------------------------\")\n",
    "        print(f\"Training Loss:   {train_avg_loss:<8.3f} |   Training Accuracy:   {train_accuracy*100:.2f}%\")\n",
    "        print(f\"Validation Loss: {val_avg_loss:<8.3f} |   Validation Accuracy: {val_accuracy*100:.2f}%\\n\")\n",
    "\n",
    "        # Check if the validation loss improves\n",
    "        if val_avg_loss < best_val_loss:\n",
    "            best_val_loss = val_avg_loss\n",
    "            no_improvement = 0  # Reset the patience counter\n",
    "        else:\n",
    "            no_improvement += 1  # No improvement in validation loss\n",
    "        \n",
    "        # Check if the patience counter exceeds the predefined threshold\n",
    "        if no_improvement >= patience:\n",
    "            print('\\nValidation loss has not improved for {} epochs.\\nTerminating training to avoid overfitting...'.format(patience))\n",
    "            break\n",
    "\n",
    "    # Print\n",
    "    print(\"Training complete.\")"
   ]
  },
  {
   "cell_type": "code",
   "execution_count": 398,
   "metadata": {
    "deletable": false,
    "nbgrader": {
     "cell_type": "code",
     "checksum": "4e418b4c1971dc704387808b8c1a403c",
     "grade": true,
     "grade_id": "cell-711ca3d58ad725b4",
     "locked": false,
     "points": 0,
     "schema_version": 3,
     "solution": true
    }
   },
   "outputs": [
    {
     "name": "stdout",
     "output_type": "stream",
     "text": [
      "\n",
      "------ Epoch [1/50] -------------------------------------\n",
      "Training Loss:   0.997    |   Training Accuracy:   60.00%\n",
      "Validation Loss: 0.946    |   Validation Accuracy: 65.38%\n",
      "\n",
      "\n",
      "------ Epoch [2/50] -------------------------------------\n",
      "Training Loss:   0.919    |   Training Accuracy:   69.26%\n",
      "Validation Loss: 0.905    |   Validation Accuracy: 68.65%\n",
      "\n",
      "\n",
      "------ Epoch [3/50] -------------------------------------\n",
      "Training Loss:   0.896    |   Training Accuracy:   69.08%\n",
      "Validation Loss: 0.891    |   Validation Accuracy: 70.19%\n",
      "\n",
      "\n",
      "------ Epoch [4/50] -------------------------------------\n",
      "Training Loss:   0.871    |   Training Accuracy:   71.97%\n",
      "Validation Loss: 0.870    |   Validation Accuracy: 70.96%\n",
      "\n",
      "\n",
      "------ Epoch [5/50] -------------------------------------\n",
      "Training Loss:   0.868    |   Training Accuracy:   69.61%\n",
      "Validation Loss: 0.866    |   Validation Accuracy: 70.58%\n",
      "\n",
      "\n",
      "------ Epoch [6/50] -------------------------------------\n",
      "Training Loss:   0.856    |   Training Accuracy:   71.62%\n",
      "Validation Loss: 0.857    |   Validation Accuracy: 70.58%\n",
      "\n",
      "\n",
      "------ Epoch [7/50] -------------------------------------\n",
      "Training Loss:   0.847    |   Training Accuracy:   72.23%\n",
      "Validation Loss: 0.849    |   Validation Accuracy: 70.38%\n",
      "\n",
      "\n",
      "------ Epoch [8/50] -------------------------------------\n",
      "Training Loss:   0.851    |   Training Accuracy:   70.04%\n",
      "Validation Loss: 0.847    |   Validation Accuracy: 70.38%\n",
      "\n",
      "\n",
      "------ Epoch [9/50] -------------------------------------\n",
      "Training Loss:   0.835    |   Training Accuracy:   72.58%\n",
      "Validation Loss: 0.845    |   Validation Accuracy: 70.96%\n",
      "\n",
      "\n",
      "------ Epoch [10/50] -------------------------------------\n",
      "Training Loss:   0.836    |   Training Accuracy:   72.14%\n",
      "Validation Loss: 0.851    |   Validation Accuracy: 70.00%\n",
      "\n",
      "\n",
      "------ Epoch [11/50] -------------------------------------\n",
      "Training Loss:   0.838    |   Training Accuracy:   71.62%\n",
      "Validation Loss: 0.845    |   Validation Accuracy: 70.58%\n",
      "\n",
      "\n",
      "------ Epoch [12/50] -------------------------------------\n",
      "Training Loss:   0.832    |   Training Accuracy:   72.31%\n",
      "Validation Loss: 0.842    |   Validation Accuracy: 71.15%\n",
      "\n",
      "\n",
      "------ Epoch [13/50] -------------------------------------\n",
      "Training Loss:   0.836    |   Training Accuracy:   72.05%\n",
      "Validation Loss: 0.839    |   Validation Accuracy: 71.54%\n",
      "\n",
      "\n",
      "------ Epoch [14/50] -------------------------------------\n",
      "Training Loss:   0.832    |   Training Accuracy:   71.79%\n",
      "Validation Loss: 0.841    |   Validation Accuracy: 70.38%\n",
      "\n",
      "\n",
      "------ Epoch [15/50] -------------------------------------\n",
      "Training Loss:   0.825    |   Training Accuracy:   73.19%\n",
      "Validation Loss: 0.841    |   Validation Accuracy: 70.38%\n",
      "\n",
      "\n",
      "------ Epoch [16/50] -------------------------------------\n",
      "Training Loss:   0.837    |   Training Accuracy:   71.27%\n",
      "Validation Loss: 0.852    |   Validation Accuracy: 69.42%\n",
      "\n",
      "\n",
      "------ Epoch [17/50] -------------------------------------\n",
      "Training Loss:   0.837    |   Training Accuracy:   70.83%\n",
      "Validation Loss: 0.845    |   Validation Accuracy: 70.58%\n",
      "\n",
      "\n",
      "------ Epoch [18/50] -------------------------------------\n",
      "Training Loss:   0.830    |   Training Accuracy:   72.05%\n",
      "Validation Loss: 0.834    |   Validation Accuracy: 72.31%\n",
      "\n",
      "\n",
      "------ Epoch [19/50] -------------------------------------\n",
      "Training Loss:   0.834    |   Training Accuracy:   71.88%\n",
      "Validation Loss: 0.835    |   Validation Accuracy: 71.73%\n",
      "\n",
      "\n",
      "------ Epoch [20/50] -------------------------------------\n",
      "Training Loss:   0.831    |   Training Accuracy:   72.23%\n",
      "Validation Loss: 0.833    |   Validation Accuracy: 71.92%\n",
      "\n",
      "\n",
      "------ Epoch [21/50] -------------------------------------\n",
      "Training Loss:   0.821    |   Training Accuracy:   72.66%\n",
      "Validation Loss: 0.834    |   Validation Accuracy: 71.73%\n",
      "\n",
      "\n",
      "------ Epoch [22/50] -------------------------------------\n",
      "Training Loss:   0.831    |   Training Accuracy:   71.88%\n",
      "Validation Loss: 0.837    |   Validation Accuracy: 70.58%\n",
      "\n",
      "\n",
      "------ Epoch [23/50] -------------------------------------\n",
      "Training Loss:   0.830    |   Training Accuracy:   72.05%\n",
      "Validation Loss: 0.829    |   Validation Accuracy: 72.12%\n",
      "\n",
      "\n",
      "------ Epoch [24/50] -------------------------------------\n",
      "Training Loss:   0.830    |   Training Accuracy:   72.23%\n",
      "Validation Loss: 0.825    |   Validation Accuracy: 72.50%\n",
      "\n",
      "\n",
      "------ Epoch [25/50] -------------------------------------\n",
      "Training Loss:   0.829    |   Training Accuracy:   72.23%\n",
      "Validation Loss: 0.831    |   Validation Accuracy: 72.31%\n",
      "\n",
      "\n",
      "------ Epoch [26/50] -------------------------------------\n",
      "Training Loss:   0.821    |   Training Accuracy:   73.10%\n",
      "Validation Loss: 0.836    |   Validation Accuracy: 71.15%\n",
      "\n",
      "\n",
      "------ Epoch [27/50] -------------------------------------\n",
      "Training Loss:   0.817    |   Training Accuracy:   73.10%\n",
      "Validation Loss: 0.836    |   Validation Accuracy: 70.77%\n",
      "\n",
      "\n",
      "------ Epoch [28/50] -------------------------------------\n",
      "Training Loss:   0.828    |   Training Accuracy:   72.23%\n",
      "Validation Loss: 0.833    |   Validation Accuracy: 71.92%\n",
      "\n",
      "\n",
      "------ Epoch [29/50] -------------------------------------\n",
      "Training Loss:   0.824    |   Training Accuracy:   72.40%\n",
      "Validation Loss: 0.833    |   Validation Accuracy: 71.15%\n",
      "\n",
      "\n",
      "Validation loss has not improved for 5 epochs.\n",
      "Terminating training to avoid overfitting...\n",
      "Training complete.\n"
     ]
    }
   ],
   "source": [
    "# YOUR CODE HERE\n",
    "\n",
    "# Create our NN object with the correct number of output classes\n",
    "model = PokemonLocatorNetwork(len(pokemon_id))\n",
    "\n",
    "# I only have a CPU available on my machine, so I will send the model there\n",
    "model.to(device)\n",
    "\n",
    "# Define a loss function, we use CrossEntropyLoss\n",
    "loss_fun = nn.CrossEntropyLoss()\n",
    "\n",
    "# Choose the Adam optimizer, tune learning rate\n",
    "optimizer = torch.optim.Adam(model.parameters(), lr=0.001)\n",
    "\n",
    "# Train our model\n",
    "train_network(train_data_loader, val_data_loader, model, loss_fun, optimizer, n_epochs=50)\n"
   ]
  },
  {
   "cell_type": "markdown",
   "metadata": {
    "deletable": false,
    "editable": false,
    "nbgrader": {
     "cell_type": "markdown",
     "checksum": "31a8f27079a092404f91133f77fa764c",
     "grade": false,
     "grade_id": "cell-72062a93915888b4",
     "locked": true,
     "schema_version": 3,
     "solution": false
    }
   },
   "source": [
    "For you to pass this assignment, you must obtain an accuracy on the validation set greater than 50%. It may be necessary to search for a good architecture by trying several different ones. If you want a challenge, try getting an accuracy greater than 63%."
   ]
  },
  {
   "cell_type": "markdown",
   "metadata": {
    "deletable": false,
    "editable": false,
    "nbgrader": {
     "cell_type": "markdown",
     "checksum": "08f25d921ab7040f778a202f5a69b1a7",
     "grade": false,
     "grade_id": "cell-effc356fff18a4b5",
     "locked": true,
     "schema_version": 3,
     "solution": false
    }
   },
   "source": [
    "## 5. Evaluation"
   ]
  },
  {
   "cell_type": "markdown",
   "metadata": {
    "deletable": false,
    "editable": false,
    "nbgrader": {
     "cell_type": "markdown",
     "checksum": "3fde4c14a763e71443a14b720b2d2e77",
     "grade": false,
     "grade_id": "cell-b2bbee2adf94b7d3",
     "locked": true,
     "schema_version": 3,
     "solution": false
    }
   },
   "source": [
    "Once you achieved at least 50% accuracy in the validation set, we are done with training. Now we'll evaluate the performance of your classifier on the test set."
   ]
  },
  {
   "cell_type": "markdown",
   "metadata": {
    "deletable": false,
    "editable": false,
    "nbgrader": {
     "cell_type": "markdown",
     "checksum": "79420c8cb4af750ed05be42a2c4d528b",
     "grade": false,
     "grade_id": "cell-3f4ab762e2890554",
     "locked": true,
     "schema_version": 3,
     "solution": false
    }
   },
   "source": [
    "Compute the accuracy on the test set."
   ]
  },
  {
   "cell_type": "code",
   "execution_count": 399,
   "metadata": {
    "deletable": false,
    "nbgrader": {
     "cell_type": "code",
     "checksum": "5251eed9c71815693e915582fcac7643",
     "grade": true,
     "grade_id": "cell-64d1008aafb3e518",
     "locked": false,
     "points": 0,
     "schema_version": 3,
     "solution": true,
     "task": false
    }
   },
   "outputs": [
    {
     "name": "stdout",
     "output_type": "stream",
     "text": [
      "Accuracy: 61.54%\n",
      "Average Loss: 0.786\n"
     ]
    }
   ],
   "source": [
    "# YOUR CODE HERE\n",
    "test_accuracy, test_avg_loss = evaluate_model(test_data_loader, model, loss_fun, print_result=True)"
   ]
  },
  {
   "cell_type": "markdown",
   "metadata": {
    "deletable": false,
    "editable": false,
    "nbgrader": {
     "cell_type": "markdown",
     "checksum": "56aa12a95fe3c466649cff3f8a0097de",
     "grade": false,
     "grade_id": "cell-8232dd159f8d4887",
     "locked": true,
     "schema_version": 3,
     "solution": false
    }
   },
   "source": [
    "Compute the confusion matrix of your predictions on the test set."
   ]
  },
  {
   "cell_type": "code",
   "execution_count": 400,
   "metadata": {
    "deletable": false,
    "nbgrader": {
     "cell_type": "code",
     "checksum": "fabe3566394c7037a10d86e5b5256d8d",
     "grade": true,
     "grade_id": "cell-9475a5163acc3249",
     "locked": false,
     "points": 0,
     "schema_version": 3,
     "solution": true,
     "task": false
    }
   },
   "outputs": [
    {
     "data": {
      "text/plain": [
       "<sklearn.metrics._plot.confusion_matrix.ConfusionMatrixDisplay at 0x7fc5d022d4c0>"
      ]
     },
     "execution_count": 400,
     "metadata": {},
     "output_type": "execute_result"
    },
    {
     "data": {
      "image/png": "[encoded data removed]",
      "text/plain": [
       "<Figure size 432x288 with 2 Axes>"
      ]
     },
     "metadata": {
      "needs_background": "light"
     },
     "output_type": "display_data"
    }
   ],
   "source": [
    "# YOUR CODE HERE\n",
    "\n",
    "from sklearn.metrics import confusion_matrix, ConfusionMatrixDisplay\n",
    "\n",
    "# Set the model in evaluation mode\n",
    "model.eval()\n",
    "\n",
    "all_predictions = []\n",
    "all_ground_truth = []\n",
    "\n",
    "with torch.no_grad():\n",
    "    for batch_x, batch_y in val_data_loader:\n",
    "        # Forward pass to get predictions\n",
    "        predictions = model(batch_x)\n",
    "        _, predicted_labels = torch.max(predictions, dim=1)\n",
    "\n",
    "        all_predictions.extend(predicted_labels.cpu().numpy())\n",
    "        all_ground_truth.extend(batch_y.cpu().numpy())\n",
    "\n",
    "# Create the confusion matrix using scikit-learn\n",
    "confusion = confusion_matrix(all_ground_truth, all_predictions)\n",
    "disp = ConfusionMatrixDisplay(confusion, display_labels=pokemon_names)\n",
    "disp.plot()"
   ]
  },
  {
   "cell_type": "markdown",
   "metadata": {
    "deletable": false,
    "editable": false,
    "nbgrader": {
     "cell_type": "markdown",
     "checksum": "742f3a87c97efede0dc19953c1db108b",
     "grade": false,
     "grade_id": "cell-a5e9c635fcf0e14d",
     "locked": true,
     "schema_version": 3,
     "solution": false
    }
   },
   "source": [
    "What can you conclude from the computed accuracy and confusion matrix?"
   ]
  },
  {
   "cell_type": "markdown",
   "metadata": {
    "deletable": false,
    "nbgrader": {
     "cell_type": "markdown",
     "checksum": "59b0c3fb373653839818423f7129f074",
     "grade": true,
     "grade_id": "cell-b93435335accba07",
     "locked": false,
     "points": 0,
     "schema_version": 3,
     "solution": true
    }
   },
   "source": [
    "**Your answer:** (fill in here)\n",
    "\n",
    "We can see that the biggest confusion occurs between Seel / Tauros. Furthermore we can also see that there is slight confusion between all classes. The confusion matrix more or less confirms what we suspected to occur, that it would be difficult to separate Seel/Tauros.\n",
    "\n",
    "The best scenario would be if only the diagonal of the confusion matrix has non-zero values, then we would have a perfect network\n",
    "\n",
    "/Nicholas Granlund"
   ]
  },
  {
   "cell_type": "markdown",
   "metadata": {
    "deletable": false,
    "editable": false,
    "nbgrader": {
     "cell_type": "markdown",
     "checksum": "3c40d3a1011baf32ab12185c9f1f6ba9",
     "grade": false,
     "grade_id": "cell-d64ba10a699f05f3",
     "locked": true,
     "schema_version": 3,
     "solution": false,
     "task": false
    }
   },
   "source": [
    "Visualize the decision regions of the network. Overlap it with the points corresponding to the training data, such as in Section 2, by using the scatter plot function.\n",
    "\n",
    "Hint: A simple way to do it is to generate a lot of points within a predefined range of longitude and latitude and apply your network to it. However, feel free to explore other ways."
   ]
  },
  {
   "cell_type": "code",
   "execution_count": 401,
   "metadata": {
    "deletable": false,
    "nbgrader": {
     "cell_type": "code",
     "checksum": "298813aa672049ece0fadc7693b59e11",
     "grade": true,
     "grade_id": "cell-2cfbecf57fd1043f",
     "locked": false,
     "points": 0,
     "schema_version": 3,
     "solution": true,
     "task": false
    }
   },
   "outputs": [
    {
     "data": {
      "image/png": "[encoded data removed]",
      "text/plain": [
       "<Figure size 864x432 with 2 Axes>"
      ]
     },
     "metadata": {
      "needs_background": "light"
     },
     "output_type": "display_data"
    }
   ],
   "source": [
    "# YOUR CODE HERE\n",
    "\n",
    "# Define the range of longitudes and latitudes for your grid\n",
    "lon_range = np.linspace(-180, 180, num=360)\n",
    "lat_range = np.linspace(-90, 90, num=180)\n",
    "\n",
    "# Create a meshgrid of coordinates\n",
    "lon_mesh, lat_mesh = np.meshgrid(lon_range, lat_range)\n",
    "\n",
    "# Stack the lon_mesh and lat_mesh to get 2D arrays of coordinates\n",
    "coordinates = np.stack((lon_mesh, lat_mesh), axis=-1).reshape(-1, 2)\n",
    "\n",
    "# Perform normalization\n",
    "coordinates[:, 0] = (coordinates[:, 0] - mean_longitude) / std_longitude\n",
    "coordinates[:, 1] = (coordinates[:, 1] - mean_latitude) / std_latitude\n",
    "\n",
    "# Convert the NumPy array to a torch.Tensor\n",
    "coordinates_tensor = torch.tensor(coordinates, dtype=torch.float32)\n",
    "\n",
    "# Apply your trained network to the grid\n",
    "with torch.no_grad():\n",
    "    predictions = model(coordinates_tensor.view(-1, 2)).argmax(dim=1).numpy()\n",
    "\n",
    "# Reshape the predictions to match the grid shape\n",
    "predictions = predictions.reshape(lon_mesh.shape)\n",
    "\n",
    "# Create a scatter plot to visualize the decision regions\n",
    "plt.figure(figsize=(12, 6))\n",
    "plt.scatter(lon_mesh, lat_mesh, c=predictions, cmap='viridis', s=1)\n",
    "for unique_pokemon_id in pokemon_id:\n",
    "    mask = filtered_df['class'] == unique_pokemon_id\n",
    "    temporary_df = filtered_df[mask]\n",
    "    plt.scatter(temporary_df['longitude'], temporary_df['latitude'], c=pokemon_to_color_dict[unique_pokemon_id],label=name_dict[unique_pokemon_id], s=10)\n",
    "\n",
    "plt.colorbar(label='Class')\n",
    "plt.xlabel('Longitude')\n",
    "plt.ylabel('Latitude')\n",
    "plt.title('Decision Regions')\n",
    "plt.legend()\n",
    "plt.grid()\n",
    "plt.show()\n"
   ]
  },
  {
   "cell_type": "markdown",
   "metadata": {
    "deletable": false,
    "editable": false,
    "nbgrader": {
     "cell_type": "markdown",
     "checksum": "45326e647639aa6e0ca4231f2ddabfc7",
     "grade": false,
     "grade_id": "cell-2356390d7821c9a1",
     "locked": true,
     "schema_version": 3,
     "solution": false,
     "task": false
    }
   },
   "source": [
    "Do the learned decision regions look like you would expect? Please comment on your results. "
   ]
  },
  {
   "cell_type": "markdown",
   "metadata": {
    "deletable": false,
    "nbgrader": {
     "cell_type": "markdown",
     "checksum": "d9b96878943770222d21f73a2a191b08",
     "grade": true,
     "grade_id": "cell-8d948a53e74c0181",
     "locked": false,
     "points": 0,
     "schema_version": 3,
     "solution": true,
     "task": false
    }
   },
   "source": [
    "**Your answer:** (fill in here)\n",
    "\n",
    "It did meet my expectations to some degree. I expected the region for Tauros to be difficult to classify, which this decision region implies. \n",
    "However I initially also expected the soutern parts of the map to be better classified. But after further reflection, this area is not covered by as many data points so it\n",
    "makes sense that the decision region is not as accurate here.\n",
    "\n",
    "/Nicholas Granlund"
   ]
  },
  {
   "cell_type": "markdown",
   "metadata": {
    "deletable": false,
    "editable": false,
    "nbgrader": {
     "cell_type": "markdown",
     "checksum": "99a1266a62880be4cf1f724ed704ddb2",
     "grade": false,
     "grade_id": "cell-b731aebed710ae07",
     "locked": true,
     "schema_version": 3,
     "solution": false
    }
   },
   "source": [
    "## 6. Exploration"
   ]
  },
  {
   "cell_type": "markdown",
   "metadata": {
    "deletable": false,
    "editable": false,
    "nbgrader": {
     "cell_type": "markdown",
     "checksum": "ca3f2bc4e6ee91e121425e12e58b589d",
     "grade": false,
     "grade_id": "cell-79904bd828487a07",
     "locked": true,
     "schema_version": 3,
     "solution": false
    }
   },
   "source": [
    "You have now trained and evaluated a neural network for this particular classification task. Can you provide a brief explanation as to how you could use it to decide where to travel, if you're interested in capturing the aforementioned Pokemons?"
   ]
  },
  {
   "cell_type": "markdown",
   "metadata": {
    "deletable": false,
    "nbgrader": {
     "cell_type": "markdown",
     "checksum": "a8aeac76ab83248b3e84126f1200e50f",
     "grade": true,
     "grade_id": "cell-79ac9ff2b09a41b5",
     "locked": false,
     "points": 0,
     "schema_version": 3,
     "solution": true
    }
   },
   "source": [
    "**Your answer:** (fill in here)\n",
    "\n",
    "I would start of with going to Latitude 45°N Longitude 90°W,  which is the state of Winsconsin in the US. Here i would expect to find Tauros. Meanwhile there is a slight probability that i also will find Diglett so I wouldn'ät have to explicitly search for that pokemon.\n",
    "\n",
    "Next, I would travel to Latitude 55°N Longitude 10°E to capture Seel.\n",
    "\n",
    "/Nicholas Granlund"
   ]
  },
  {
   "cell_type": "markdown",
   "metadata": {
    "deletable": false,
    "editable": false,
    "nbgrader": {
     "cell_type": "markdown",
     "checksum": "90283187bfd4f2f6aaf11df18a8e88ba",
     "grade": false,
     "grade_id": "cell-8041a4537430ba53",
     "locked": true,
     "schema_version": 3,
     "solution": false
    }
   },
   "source": [
    "Is (are) there any other feature(s) from the original dataset (e.g. hour of the day, pressure, wind speed, population density, etc.) which you think would be valuable to add as an input feature to your classifier to improve its performance? "
   ]
  },
  {
   "cell_type": "markdown",
   "metadata": {
    "deletable": false,
    "nbgrader": {
     "cell_type": "markdown",
     "checksum": "92bfb21c07460ec7bf06f56c3acee803",
     "grade": true,
     "grade_id": "cell-c2def6009a95f2a6",
     "locked": false,
     "points": 0,
     "schema_version": 3,
     "solution": true
    }
   },
   "source": [
    "**Your answer:** (fill in here)\n",
    "\n",
    "I know that some pokemons only appear during certain times of the day and during different weather conditions.\n",
    "\n",
    "For example: Gastly, Haunter and Gengar are Ghost-type pokemons and are most likely to appear during nighttime. Furthermore, Vaporeon is a water-normal pokemon that appear close to bodies of water, or further in on land when the weather is rainy. In rainy weather we also suspect to stuble upon fewer flying type pokemons. \n",
    "\n",
    "Hence it would be beneficial to not only oconsider the position of the pokemon sightings, but also the time of day and the weather at the location.\n",
    "\n",
    "/Nicholas Granlund\n",
    "\n"
   ]
  },
  {
   "cell_type": "markdown",
   "metadata": {
    "deletable": false,
    "editable": false,
    "nbgrader": {
     "cell_type": "markdown",
     "checksum": "4e0eb26832febb3a136740004988db6b",
     "grade": false,
     "grade_id": "cell-e9f21e8b0fe33751",
     "locked": true,
     "schema_version": 3,
     "solution": false
    }
   },
   "source": [
    "To investigate your hypothesis, plot a histogram of the selected feature(s) for each one of the pokemons we're interested in. For example, if you think pressure and population density are valuable for prediction, plot 6 histograms. 3 of them will be the pressure histograms for each class ('Diglett', 'Seel' and 'Tauros'), and the other 3 will be the population density for each class."
   ]
  },
  {
   "cell_type": "code",
   "execution_count": 402,
   "metadata": {
    "deletable": false,
    "nbgrader": {
     "cell_type": "code",
     "checksum": "6701fb6bd1284791b9c065777eaaebae",
     "grade": true,
     "grade_id": "cell-b18deaa33c46ec92",
     "locked": false,
     "points": 0,
     "schema_version": 3,
     "solution": true
    }
   },
   "outputs": [
    {
     "data": {
      "image/png": "[encoded data removed]",
      "text/plain": [
       "<Figure size 864x1296 with 6 Axes>"
      ]
     },
     "metadata": {
      "needs_background": "light"
     },
     "output_type": "display_data"
    }
   ],
   "source": [
    "# YOUR CODE HERE\n",
    "\n",
    "# Lets start of with sorting the DataFrame once again\n",
    "columns = ['appearedTimeOfDay', 'weather', 'class']\n",
    "new_df = df[columns]\n",
    "mask = new_df['class'].isin(pokemon_id)\n",
    "ext_filtered_df = new_df[mask]\n",
    "\n",
    "# Calculate the number of rows and columns for the subplots\n",
    "num_rows = len(pokemon_id)\n",
    "num_cols = 2  \n",
    "\n",
    "# Create a new figure with subplots\n",
    "fig, axes = plt.subplots(num_rows, num_cols, figsize=(12, 6*num_rows))\n",
    "\n",
    "# Lets create histograms for Diglett\n",
    "for i, unique_pokemon_id in enumerate(pokemon_id):\n",
    "\n",
    "    # Create mask that extracts the data for the given pokemon\n",
    "    mask = ext_filtered_df['class'] == unique_pokemon_id\n",
    "\n",
    "    # Extact the data to temporary DataFrame\n",
    "    diglett_df = ext_filtered_df[mask]\n",
    "\n",
    "    # Count occurances\n",
    "    occur_time = diglett_df.groupby(['appearedTimeOfDay']).size().to_dict()\n",
    "    occur_weather = diglett_df.groupby(['weather']).size().to_dict()\n",
    "\n",
    "    # Create the first subplot (histogram for 'appearedTimeOfDay')\n",
    "    ax1 = axes[i, 0]\n",
    "    ax1.bar(occur_time.keys(), occur_time.values(), width=0.4, color=pokemon_to_color_dict[unique_pokemon_id])\n",
    "    ax1.set_xlabel(\"Time of day\")\n",
    "    ax1.set_ylabel(\"No. of sightings\")\n",
    "    ax1.set_title(f\"{name_dict[unique_pokemon_id]} Sightings by Time of Day\")\n",
    "    ax1.grid(True)\n",
    "    ax1.tick_params(axis='x', rotation=45)\n",
    "\n",
    "    # Create the second subplot (histogram for 'weather')\n",
    "    ax2 = axes[i, 1]\n",
    "    ax2.bar(occur_weather.keys(), occur_weather.values(), width=0.4, color=pokemon_to_color_dict[unique_pokemon_id])\n",
    "    ax2.set_xlabel(\"Weather condition\")\n",
    "    ax2.set_ylabel(\"No. of sightings\")\n",
    "    ax2.set_title(f\"{name_dict[unique_pokemon_id]} Sightings by Weather\")\n",
    "    ax2.grid(True)\n",
    "    ax2.tick_params(axis='x', rotation=45)"
   ]
  },
  {
   "cell_type": "markdown",
   "metadata": {
    "deletable": false,
    "editable": false,
    "nbgrader": {
     "cell_type": "markdown",
     "checksum": "b096f6cbd29f00b911b1875683ed7a98",
     "grade": false,
     "grade_id": "cell-f51c8bdfaf2e03f4",
     "locked": true,
     "schema_version": 3,
     "solution": false
    }
   },
   "source": [
    "What does(do) this(ese) histogram(s) show you? Could it be beneficial to add this(ese) new feature(s) as input? Explain why/why not."
   ]
  },
  {
   "cell_type": "markdown",
   "metadata": {
    "deletable": false,
    "nbgrader": {
     "cell_type": "markdown",
     "checksum": "c4810811a9300a653185a38c62a0f73c",
     "grade": true,
     "grade_id": "cell-f9522e4fa9c010be",
     "locked": false,
     "points": 0,
     "schema_version": 3,
     "solution": true
    }
   },
   "source": [
    "**Your answer:** (fill in here)\n",
    "\n",
    "In short, the data tells us that the pokemons are more likely to appear during the night and clear weather which should be considiered while on the hunt after these pokemons.\n",
    "\n",
    "Furthermore, it would be beneficial to add these features into the network, by doing so we could hypotethically imporve the accurcy of the network since we consider more features that may not overlap. At this time, only the locations of the pokemons is considered as features for the network, and evidently the location overlap at north America, however this issue may be resolved somehwat by also considering the time of day the pokemons are sighted. Perhaps Tauros is only present in north america during the night, and Diglett is present at the same location, but at different times of day. Using the time of day as a feature might resolve the issue of difficult classification in these areas.\n",
    "\n",
    "/Nicholas Granlund\n",
    "\n"
   ]
  },
  {
   "cell_type": "markdown",
   "metadata": {
    "deletable": false,
    "editable": false,
    "nbgrader": {
     "cell_type": "markdown",
     "checksum": "2b08ef9f5772b926b5fdf8a696527de8",
     "grade": false,
     "grade_id": "cell-284bf5af1750b1b5",
     "locked": true,
     "schema_version": 3,
     "solution": false,
     "task": false
    }
   },
   "source": [
    "The purpose was this assignment was mostly to make you design a network for classification, using this Pokemon dataset as use case. However, if you want to find those three particular Pokemons, most likely using a network for classification is not the best approach. An alternative would be to perform localization by using regression instead. **Can you state some pros and cons of approach this as a regression problem instead of a classification problem?** (We do not except very detailed answers, you will pass the assignment as long as you make a reasonable attempt at explaining the pros and cons.)"
   ]
  },
  {
   "cell_type": "markdown",
   "metadata": {
    "deletable": false,
    "nbgrader": {
     "cell_type": "markdown",
     "checksum": "dd2cd90f071d43e463aea1a3f0852c49",
     "grade": true,
     "grade_id": "cell-bd241242621ae646",
     "locked": false,
     "points": 0,
     "schema_version": 3,
     "solution": true,
     "task": false
    }
   },
   "source": [
    "**Your answer:** (fill in here)\n",
    "\n",
    "PROS: \n",
    "- Obtain precise location as output with highest probabilty. input is pokemon name and output is best location.\n",
    "- A regression model would be more flexible for the amount of inputs, so it can consider multiple pokemon species.\n",
    "\n",
    "CONS:\n",
    "- The regression model could be rather sensitive to errors which can lead to laerge deviations in predicted locations\n",
    "- Due to the size of the data, the model would be more prone to overfitting.\n",
    "\n",
    "/Nicholas Granlund"
   ]
  },
  {
   "cell_type": "markdown",
   "metadata": {
    "deletable": false,
    "editable": false,
    "nbgrader": {
     "cell_type": "markdown",
     "checksum": "c457c6ffe7696ea8b13215805bb2fa2c",
     "grade": false,
     "grade_id": "cell-fccdd48334c7c70c",
     "locked": true,
     "schema_version": 3,
     "solution": false
    }
   },
   "source": [
    "## 7. (optional)"
   ]
  },
  {
   "cell_type": "markdown",
   "metadata": {
    "deletable": false,
    "editable": false,
    "nbgrader": {
     "cell_type": "markdown",
     "checksum": "efe34b502ca4d51a53e7b32992411f97",
     "grade": false,
     "grade_id": "cell-3e8a75d10f4fb404",
     "locked": true,
     "schema_version": 3,
     "solution": false
    }
   },
   "source": [
    "Assuming you found useful new features in the last part of this assignment, train a new classifier that uses these featues as well. Did the accuracy on the validation set improve? What's the highest accuracy you can achieve?"
   ]
  },
  {
   "cell_type": "code",
   "execution_count": 403,
   "metadata": {
    "deletable": false,
    "nbgrader": {
     "cell_type": "code",
     "checksum": "d483a1678e8725ea9ba41ce15bb78a64",
     "grade": true,
     "grade_id": "cell-c4a9ddfda9cd7a08",
     "locked": false,
     "points": 0,
     "schema_version": 3,
     "solution": true
    }
   },
   "outputs": [],
   "source": [
    "# YOUR CODE HERE"
   ]
  }
 ],
 "metadata": {
  "kernelspec": {
   "display_name": "Python 3 (ipykernel)",
   "language": "python",
   "name": "python3"
  },
  "language_info": {
   "codemirror_mode": {
    "name": "ipython",
    "version": 3
   },
   "file_extension": ".py",
   "mimetype": "text/x-python",
   "name": "python",
   "nbconvert_exporter": "python",
   "pygments_lexer": "ipython3",
   "version": "3.9.12"
  },
  "vscode": {
   "interpreter": {
    "hash": "39c912f2fd3fdf7d106cc51aff015157ada41dad8144becd8bcb717d81c78182"
   }
  }
 },
 "nbformat": 4,
 "nbformat_minor": 2
}
