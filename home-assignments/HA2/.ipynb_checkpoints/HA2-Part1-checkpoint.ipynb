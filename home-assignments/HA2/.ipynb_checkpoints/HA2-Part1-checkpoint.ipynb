{
 "cells": [
  {
   "cell_type": "markdown",
   "metadata": {
    "deletable": false,
    "editable": false,
    "nbgrader": {
     "cell_type": "markdown",
     "checksum": "20a4d65ee77906a86bc39bc4046a2a36",
     "grade": false,
     "grade_id": "cell-5690119ead85e67e",
     "locked": true,
     "schema_version": 3,
     "solution": false,
     "task": false
    }
   },
   "source": [
    "### Checklist for submission\n",
    "\n",
    "It is extremely important to make sure that:\n",
    "\n",
    "1. Everything runs as expected (no bugs when running cells);\n",
    "2. The output from each cell corresponds to its code (don't change any cell's contents without rerunning it afterwards);\n",
    "3. All outputs are present (don't delete any of the outputs);\n",
    "4. Fill in all the places that say `# YOUR CODE HERE`, or \"**Your answer:** (fill in here)\".\n",
    "5. Never copy/paste any notebook cells. Inserting new cells is allowed, but it should not be necessary.\n",
    "6. The notebook contains some hidden metadata which is important during our grading process. **Make sure not to corrupt any of this metadata!** The metadata may for example be corrupted if you copy/paste any notebook cells, or if you perform an unsuccessful git merge / git pull. It may also be pruned completely if using Google Colab, so watch out for this. Searching for \"nbgrader\" when opening the notebook in a text editor should take you to the important metadata entries.\n",
    "7. Although we will try our very best to avoid this, it may happen that bugs are found after an assignment is released, and that we will push an updated version of the assignment to GitHub. If this happens, it is important that you update to the new version, while making sure the notebook metadata is properly updated as well. The safest way to make sure nothing gets messed up is to start from scratch on a clean updated version of the notebook, copy/pasting your code from the cells of the previous version into the cells of the new version.\n",
    "8. If you need to have multiple parallel versions of this notebook, make sure not to move them to another directory.\n",
    "9. Although not forced to work exclusively in the course `conda` environment, you need to make sure that the notebook will run in that environment, i.e. that you have not added any additional dependencies.\n",
    "\n",
    "**FOR HA1, HA2, HA3 ONLY:** Failing to meet any of these requirements might lead to either a subtraction of POEs (at best) or a request for resubmission (at worst).\n",
    "\n",
    "We advise you to perform the following steps before submission to ensure that requirements 1, 2, and 3 are always met: **Restart the kernel** (in the menubar, select Kernel$\\rightarrow$Restart) and then **run all cells** (in the menubar, select Cell$\\rightarrow$Run All). This might require a bit of time, so plan ahead for this (and possibly use a cloud GPU in HA1 and HA2 for this step). Finally press the \"Save and Checkout\" button before handing in, to make sure that all your changes are saved to this .ipynb file."
   ]
  },
  {
   "cell_type": "markdown",
   "metadata": {
    "deletable": false,
    "editable": false,
    "nbgrader": {
     "cell_type": "markdown",
     "checksum": "a6bb874a16c1ff767ac0f37ce0491265",
     "grade": false,
     "grade_id": "cell-774c93bf6433de68",
     "locked": true,
     "schema_version": 3,
     "solution": false,
     "task": false
    }
   },
   "source": [
    "### Fill in name of notebook file\n",
    "This might seem silly, but the version check below needs to know the filename of the current notebook, which is not trivial to find out programmatically.\n",
    "\n",
    "You might want to have several parallel versions of the notebook, and it is fine to rename the notebook as long as it stays in the same directory. **However**, if you do rename it, you also need to update its own filename below:"
   ]
  },
  {
   "cell_type": "code",
   "execution_count": 1,
   "metadata": {},
   "outputs": [],
   "source": [
    "nb_fname = \"HA2-Part1.ipynb\""
   ]
  },
  {
   "cell_type": "markdown",
   "metadata": {
    "deletable": false,
    "editable": false,
    "nbgrader": {
     "cell_type": "markdown",
     "checksum": "879883c2ea755808ffd00aeee5c77a00",
     "grade": false,
     "grade_id": "cell-5676bcf768a7f9be",
     "locked": true,
     "schema_version": 3,
     "solution": false,
     "task": false
    }
   },
   "source": [
    "### Fill in group number and member names (use NAME2 and GROUP only for HA1, HA2 and HA3):"
   ]
  },
  {
   "cell_type": "code",
   "execution_count": 2,
   "metadata": {},
   "outputs": [],
   "source": [
    "NAME1 = \"Erik Laitala\" \n",
    "NAME2 = \"Nicholas Granlund\"\n",
    "GROUP = \"21\""
   ]
  },
  {
   "cell_type": "markdown",
   "metadata": {
    "deletable": false,
    "editable": false,
    "nbgrader": {
     "cell_type": "markdown",
     "checksum": "42f960a95815e1aa3ce8132fcec59cd9",
     "grade": false,
     "grade_id": "cell-a15fe781533d9590",
     "locked": true,
     "schema_version": 3,
     "solution": false,
     "task": false
    }
   },
   "source": [
    "### Check Python version"
   ]
  },
  {
   "cell_type": "code",
   "execution_count": 3,
   "metadata": {
    "deletable": false,
    "editable": false,
    "nbgrader": {
     "cell_type": "code",
     "checksum": "736e393ef62f60d5e70432726e7209e0",
     "grade": false,
     "grade_id": "cell-2b9c2390ee464c39",
     "locked": true,
     "schema_version": 3,
     "solution": false,
     "task": false
    }
   },
   "outputs": [],
   "source": [
    "from platform import python_version_tuple\n",
    "assert python_version_tuple()[:2] == ('3','9'), \"You are not running Python 3.9. Make sure to run Python through the course Conda environment.\""
   ]
  },
  {
   "cell_type": "markdown",
   "metadata": {
    "deletable": false,
    "editable": false,
    "nbgrader": {
     "cell_type": "markdown",
     "checksum": "15ec4309f1e85f6e17bda73b9b6f48a2",
     "grade": false,
     "grade_id": "cell-4869b45600ce82f8",
     "locked": true,
     "schema_version": 3,
     "solution": false,
     "task": false
    }
   },
   "source": [
    "### Check that notebook server has access to all required resources, and that notebook has not moved"
   ]
  },
  {
   "cell_type": "code",
   "execution_count": 4,
   "metadata": {
    "deletable": false,
    "editable": false,
    "nbgrader": {
     "cell_type": "code",
     "checksum": "a2d199303c73ec86d25177caf39e385f",
     "grade": false,
     "grade_id": "cell-122ac3d9100b8afb",
     "locked": true,
     "schema_version": 3,
     "solution": false,
     "task": false
    }
   },
   "outputs": [],
   "source": [
    "import os\n",
    "nb_dirname = os.path.abspath('')\n",
    "assignment_name = os.path.basename(nb_dirname)\n",
    "assert assignment_name in ['IHA1', 'IHA2', 'HA1', 'HA2', 'HA3'], \\\n",
    "    '[ERROR] The notebook appears to have been moved from its original directory'"
   ]
  },
  {
   "cell_type": "markdown",
   "metadata": {
    "deletable": false,
    "editable": false,
    "nbgrader": {
     "cell_type": "markdown",
     "checksum": "f09f40b5350db83232189137c550f0a1",
     "grade": false,
     "grade_id": "cell-2455deee513cd39c",
     "locked": true,
     "schema_version": 3,
     "solution": false,
     "task": false
    }
   },
   "source": [
    "### Verify correct nb_fname"
   ]
  },
  {
   "cell_type": "code",
   "execution_count": 5,
   "metadata": {
    "deletable": false,
    "editable": false,
    "nbgrader": {
     "cell_type": "code",
     "checksum": "a78c7227b049bb147e6c363affb6dae8",
     "grade": false,
     "grade_id": "cell-0472e2fd710f1d72",
     "locked": true,
     "schema_version": 3,
     "solution": false,
     "task": false
    }
   },
   "outputs": [
    {
     "data": {
      "text/html": [
       "<script>if(\"HA2-Part1.ipynb\" != IPython.notebook.notebook_name) { alert(\"You have filled in nb_fname = \\\"HA2-Part1.ipynb\\\", but this does not seem to match the notebook filename \\\"\" + IPython.notebook.notebook_name + \"\\\".\"); }</script>"
      ],
      "text/plain": [
       "<IPython.core.display.HTML object>"
      ]
     },
     "metadata": {},
     "output_type": "display_data"
    }
   ],
   "source": [
    "from IPython.display import display, HTML\n",
    "try:\n",
    "    display(HTML(r'<script>if(\"{nb_fname}\" != IPython.notebook.notebook_name) {{ alert(\"You have filled in nb_fname = \\\"{nb_fname}\\\", but this does not seem to match the notebook filename \\\"\" + IPython.notebook.notebook_name + \"\\\".\"); }}</script>'.format(nb_fname=nb_fname)))\n",
    "except NameError:\n",
    "    assert False, 'Make sure to fill in the nb_fname variable above!'"
   ]
  },
  {
   "cell_type": "markdown",
   "metadata": {
    "deletable": false,
    "editable": false,
    "nbgrader": {
     "cell_type": "markdown",
     "checksum": "98d88d8e8da19693053764f29dcc591d",
     "grade": false,
     "grade_id": "cell-ceacb1adcae4783d",
     "locked": true,
     "schema_version": 3,
     "solution": false,
     "task": false
    }
   },
   "source": [
    "### Verify that your notebook is up-to-date and not corrupted in any way"
   ]
  },
  {
   "cell_type": "code",
   "execution_count": 6,
   "metadata": {
    "deletable": false,
    "editable": false,
    "nbgrader": {
     "cell_type": "code",
     "checksum": "bb700528d4644601c1a8c91ef1d84635",
     "grade": false,
     "grade_id": "cell-f5a59288e11b4aec",
     "locked": true,
     "schema_version": 3,
     "solution": false,
     "task": false
    }
   },
   "outputs": [
    {
     "name": "stdout",
     "output_type": "stream",
     "text": [
      "Matching current notebook against the following URL:\n",
      "http://raw.githubusercontent.com/dml-cth/deep-machine-learning/master/home-assignments/HA2/HA2-Part1.ipynb\n",
      "[SUCCESS] No major notebook mismatch found when comparing to latest GitHub version. (There might be minor updates, but even that is the case, submitting your work based on this notebook version would be acceptable.)\n"
     ]
    }
   ],
   "source": [
    "import sys\n",
    "sys.path.append('..')\n",
    "from ha_utils import check_notebook_uptodate_and_not_corrupted\n",
    "check_notebook_uptodate_and_not_corrupted(nb_dirname, nb_fname)"
   ]
  },
  {
   "cell_type": "markdown",
   "metadata": {
    "deletable": false,
    "editable": false,
    "nbgrader": {
     "cell_type": "markdown",
     "checksum": "1a3d4c3586543ada9e989a70ca0b714f",
     "grade": false,
     "grade_id": "cell-64e1db7b9018bb3c",
     "locked": true,
     "schema_version": 3,
     "solution": false
    }
   },
   "source": [
    "# HA2 - Recurrent Neural Networks"
   ]
  },
  {
   "cell_type": "markdown",
   "metadata": {
    "deletable": false,
    "editable": false,
    "nbgrader": {
     "cell_type": "markdown",
     "checksum": "ede543ca35a8a171477021feba7cac50",
     "grade": false,
     "grade_id": "cell-2a56acd8b54adbc7",
     "locked": true,
     "schema_version": 3,
     "solution": false
    }
   },
   "source": [
    "This assignment is divided into two parts. In the first one, you will implement a vanilla RNN module from scratch using PyTorch to perform the task of predicting the nationality of a given name. In the second, you will implement many of the components in a Transformer block, and use it to classify movie reviews as positive or negative. \n",
    "\n",
    "For efficient use of GPU hours, you can do all development up until the training on a CPU. You can then run the training on a GPU for faster training times. "
   ]
  },
  {
   "cell_type": "markdown",
   "metadata": {
    "deletable": false,
    "editable": false,
    "nbgrader": {
     "cell_type": "markdown",
     "checksum": "b230b916db79763c4ae31f10fb3834ed",
     "grade": false,
     "grade_id": "cell-a7a1fe5598d08eae",
     "locked": true,
     "schema_version": 3,
     "solution": false
    }
   },
   "source": [
    "## Task 1 - Predicting Nationalities"
   ]
  },
  {
   "cell_type": "markdown",
   "metadata": {
    "deletable": false,
    "editable": false,
    "nbgrader": {
     "cell_type": "markdown",
     "checksum": "f6d2792c8867f0fd983839444067a2e1",
     "grade": false,
     "grade_id": "cell-aad0c935c03346c9",
     "locked": true,
     "schema_version": 3,
     "solution": false
    }
   },
   "source": [
    "In this task, you will create an RNN module using PyTorch, and train it to predict the nationality of a given input name. Your RNN will process each character of an input name at a time, and at the last character output a probability mass function over the possible countries.\n",
    "\n",
    "The data for this task is present in the file `data/nam_dict.txt`. After parsing it we will have around 44k names from 41 different countries."
   ]
  },
  {
   "cell_type": "markdown",
   "metadata": {
    "deletable": false,
    "editable": false,
    "nbgrader": {
     "cell_type": "markdown",
     "checksum": "88e94a32152c5c6447c42352b00c56f6",
     "grade": false,
     "grade_id": "cell-781c35fef278ad47",
     "locked": true,
     "schema_version": 3,
     "solution": false
    }
   },
   "source": [
    "### 1.1 Loading the data"
   ]
  },
  {
   "cell_type": "markdown",
   "metadata": {
    "deletable": false,
    "editable": false,
    "nbgrader": {
     "cell_type": "markdown",
     "checksum": "ef4e3f8191d07d16c7129210867e1cc4",
     "grade": false,
     "grade_id": "cell-12c085211bc03428",
     "locked": true,
     "schema_version": 3,
     "solution": false
    }
   },
   "source": [
    "We'll start by loading the data from the `nam_dict.txt` file, using the provided method `get_data_from_file`."
   ]
  },
  {
   "cell_type": "code",
   "execution_count": 7,
   "metadata": {
    "deletable": false,
    "editable": false,
    "nbgrader": {
     "cell_type": "code",
     "checksum": "578b8dc7fef786bb9d0eb9bfd9804796",
     "grade": false,
     "grade_id": "cell-7c9a70be36d77bde",
     "locked": true,
     "schema_version": 3,
     "solution": false
    }
   },
   "outputs": [],
   "source": [
    "from utils.load_names import get_data_from_file\n",
    "names_dict = get_data_from_file('data/nam_dict.txt')"
   ]
  },
  {
   "cell_type": "markdown",
   "metadata": {
    "deletable": false,
    "editable": false,
    "nbgrader": {
     "cell_type": "markdown",
     "checksum": "e4396ec5026f36d2d897eb28273fa47c",
     "grade": false,
     "grade_id": "cell-3d6450ecfff464cf",
     "locked": true,
     "schema_version": 3,
     "solution": false
    }
   },
   "source": [
    "The newly-created variable `names_dict` is a dictionary where each country is a key, and the value is the corresponding list of names from that country."
   ]
  },
  {
   "cell_type": "code",
   "execution_count": 8,
   "metadata": {
    "deletable": false,
    "editable": false,
    "nbgrader": {
     "cell_type": "code",
     "checksum": "0a3c16d045a6e3ea16cae84c8f4039b8",
     "grade": false,
     "grade_id": "cell-2979a922e5fd9032",
     "locked": true,
     "schema_version": 3,
     "solution": false
    }
   },
   "outputs": [
    {
     "data": {
      "text/plain": [
       "dict_keys(['Great Britain', 'Ireland', 'U.S.A.', 'Italy', 'Portugal', 'Spain', 'France', 'the Netherlands', 'East Frisia', 'Germany', 'Swiss', 'Iceland', 'Denmark', 'Norway', 'Sweden', 'Finland', 'Estonia', 'Latvia', 'Lithuania', 'Hungary', 'Romania', 'Bulgaria', 'Bosnia and Herzegovina', 'Croatia', 'Kosovo', 'Serbia', 'Albania', 'Greece', 'Russia', 'Ukraine', 'Armenia', 'Azerbaijan', 'Kazakhstan/Uzbekistan,etc.', 'Turkey', 'Arabia/Persia', 'Israel', 'China', 'India/Sri Lanka', 'Japan', 'Korea', 'Vietnam'])"
      ]
     },
     "execution_count": 8,
     "metadata": {},
     "output_type": "execute_result"
    }
   ],
   "source": [
    "names_dict.keys()"
   ]
  },
  {
   "cell_type": "code",
   "execution_count": 9,
   "metadata": {
    "deletable": false,
    "editable": false,
    "nbgrader": {
     "cell_type": "code",
     "checksum": "fabffeb8a60ded472b3ab0996e6acd34",
     "grade": false,
     "grade_id": "cell-b9578aa61d75938e",
     "locked": true,
     "schema_version": 3,
     "solution": false
    }
   },
   "outputs": [
    {
     "data": {
      "text/plain": [
       "['Achilleas',\n",
       " 'Achillefs',\n",
       " 'Adamantia',\n",
       " 'Adamantini',\n",
       " 'Adamantios',\n",
       " 'Aeneas',\n",
       " 'Afroditi',\n",
       " 'Agapi',\n",
       " 'Agapios',\n",
       " 'Agathi']"
      ]
     },
     "execution_count": 9,
     "metadata": {},
     "output_type": "execute_result"
    }
   ],
   "source": [
    "names_dict['Greece'][:10]"
   ]
  },
  {
   "cell_type": "markdown",
   "metadata": {
    "deletable": false,
    "editable": false,
    "nbgrader": {
     "cell_type": "markdown",
     "checksum": "298f96dbddf1b6528aba07514a1442de",
     "grade": false,
     "grade_id": "cell-172dd5d6a5c41971",
     "locked": true,
     "schema_version": 3,
     "solution": false
    }
   },
   "source": [
    "Let's look at the dataset in more detail. Plot the number of names in each country using a [bar plot](https://matplotlib.org/3.1.1/api/_as_gen/matplotlib.pyplot.bar.html).\n",
    "\n",
    "*Hints*:\n",
    "\n",
    "- You can put labels in the x-axis using the method [`xticks`](https://matplotlib.org/3.1.1/api/_as_gen/matplotlib.pyplot.xticks.html).\n",
    "- The `xticks` method accepts a keyword argument named `rotation`."
   ]
  },
  {
   "cell_type": "code",
   "execution_count": 10,
   "metadata": {
    "deletable": false,
    "nbgrader": {
     "cell_type": "code",
     "checksum": "239562267cb4dc6cbc5bdd6e1fa817be",
     "grade": true,
     "grade_id": "cell-ff582e8e844bfb50",
     "locked": false,
     "points": 0,
     "schema_version": 3,
     "solution": true
    }
   },
   "outputs": [
    {
     "name": "stdout",
     "output_type": "stream",
     "text": [
      "[('China', 7321), ('U.S.A.', 3845), ('Italy', 2445)]\n"
     ]
    },
    {
     "data": {
      "image/png": "[encoded data removed]",
      "text/plain": [
       "<Figure size 640x480 with 1 Axes>"
      ]
     },
     "metadata": {},
     "output_type": "display_data"
    }
   ],
   "source": [
    "%matplotlib inline\n",
    "import matplotlib.pyplot as plt\n",
    "\n",
    "# YOUR CODE HERE\n",
    "\n",
    "# Compute the number of names for each country.\n",
    "names_per_country = {key: len(values) for key, values in names_dict.items()}\n",
    "\n",
    "# Create a figure with one axes.\n",
    "fig, ax = plt.subplots()\n",
    "ax.bar(names_per_country.keys(), names_per_country.values(), width=0.5)\n",
    "\n",
    "# Rotate the ticks\n",
    "_, _ = plt.xticks(rotation=90)\n",
    "plt.grid(visible=True, axis='y')\n",
    "\n",
    "# Identify the top 3 contries\n",
    "print(sorted(names_per_country.items(), key=lambda x: x[1], reverse=True)[:3])\n"
   ]
  },
  {
   "cell_type": "markdown",
   "metadata": {
    "deletable": false,
    "editable": false,
    "nbgrader": {
     "cell_type": "markdown",
     "checksum": "49ae44d43070a2af47e3d5fc76723983",
     "grade": false,
     "grade_id": "cell-390475b6777ce344",
     "locked": true,
     "schema_version": 3,
     "solution": false
    }
   },
   "source": [
    "**[1 point]** Is this dataset balanced? If not, which are the top-3 countries with most names?"
   ]
  },
  {
   "cell_type": "markdown",
   "metadata": {
    "deletable": false,
    "nbgrader": {
     "cell_type": "markdown",
     "checksum": "d6423fd1b8b08bade86d7733d2c62a87",
     "grade": true,
     "grade_id": "cell-e70912fa2bf69d84",
     "locked": false,
     "points": 1,
     "schema_version": 3,
     "solution": true
    }
   },
   "source": [
    "**Your answer:** (fill in here)\n",
    "\n",
    "No it is not balanced, according to the bar plot there are some countries with more entries (names) than other countries. For example the top 3 are China, U.S.A. and Italy.\n",
    "\n",
    "/ Erik & Nicholas"
   ]
  },
  {
   "cell_type": "markdown",
   "metadata": {
    "deletable": false,
    "editable": false,
    "nbgrader": {
     "cell_type": "markdown",
     "checksum": "1db6be82caa3a09c812b3158187adcf8",
     "grade": false,
     "grade_id": "cell-b332445688db5846",
     "locked": true,
     "schema_version": 3,
     "solution": false
    }
   },
   "source": [
    "### 1.2 Pre-processing"
   ]
  },
  {
   "cell_type": "markdown",
   "metadata": {
    "deletable": false,
    "editable": false,
    "nbgrader": {
     "cell_type": "markdown",
     "checksum": "8e9d2c3be16a91407c9403684b28ddfe",
     "grade": false,
     "grade_id": "cell-0248575eadc7e93e",
     "locked": true,
     "schema_version": 3,
     "solution": false
    }
   },
   "source": [
    "We will train an RNN which takes as input one character at each time-step. In order to do so, we will encode every character in the input names into a one-hot representation that is more suited to be fed to neural networks. \n",
    "\n",
    "The first thing we need to do is to decide the size of the alphabet used for the one-hot encoding. To do so, let's take a look at all the characters used in the dataset. A simple way to do so is putting all names in the same string and then using a `set` to get the unique values. We'll treat upper-case and lower-case characters as being the same."
   ]
  },
  {
   "cell_type": "code",
   "execution_count": 11,
   "metadata": {
    "deletable": false,
    "editable": false,
    "nbgrader": {
     "cell_type": "code",
     "checksum": "09994757b29a7eef77096b060629fb89",
     "grade": false,
     "grade_id": "cell-6b58e326e17e53f5",
     "locked": true,
     "schema_version": 3,
     "solution": false
    }
   },
   "outputs": [
    {
     "name": "stdout",
     "output_type": "stream",
     "text": [
      "57 characters:\n"
     ]
    },
    {
     "data": {
      "text/plain": [
       "[' ',\n",
       " \"'\",\n",
       " '-',\n",
       " 'a',\n",
       " 'b',\n",
       " 'c',\n",
       " 'd',\n",
       " 'e',\n",
       " 'f',\n",
       " 'g',\n",
       " 'h',\n",
       " 'i',\n",
       " 'j',\n",
       " 'k',\n",
       " 'l',\n",
       " 'm',\n",
       " 'n',\n",
       " 'o',\n",
       " 'p',\n",
       " 'q',\n",
       " 'r',\n",
       " 's',\n",
       " 't',\n",
       " 'u',\n",
       " 'v',\n",
       " 'w',\n",
       " 'x',\n",
       " 'y',\n",
       " 'z',\n",
       " 'ß',\n",
       " 'à',\n",
       " 'á',\n",
       " 'â',\n",
       " 'ã',\n",
       " 'ä',\n",
       " 'å',\n",
       " 'æ',\n",
       " 'ç',\n",
       " 'è',\n",
       " 'é',\n",
       " 'ê',\n",
       " 'ë',\n",
       " 'í',\n",
       " 'î',\n",
       " 'ï',\n",
       " 'ð',\n",
       " 'ñ',\n",
       " 'ò',\n",
       " 'ó',\n",
       " 'ô',\n",
       " 'õ',\n",
       " 'ö',\n",
       " 'ø',\n",
       " 'ú',\n",
       " 'ü',\n",
       " 'ý',\n",
       " 'þ']"
      ]
     },
     "execution_count": 11,
     "metadata": {},
     "output_type": "execute_result"
    }
   ],
   "source": [
    "temp = \" \"\n",
    "for name_list in names_dict.values():\n",
    "    for name in name_list:\n",
    "        temp += name.lower()\n",
    "charset = sorted(set(temp))\n",
    "print(f\"{len(charset)} characters:\")\n",
    "charset"
   ]
  },
  {
   "cell_type": "markdown",
   "metadata": {
    "deletable": false,
    "editable": false,
    "nbgrader": {
     "cell_type": "markdown",
     "checksum": "aa26ef5d12faceb8d330856b41769a40",
     "grade": false,
     "grade_id": "cell-c28ba53b5126e2f5",
     "locked": true,
     "schema_version": 3,
     "solution": false
    }
   },
   "source": [
    "Now we can create a function that takes as input a name, and outputs a `(name length) x (charset length)` tensor."
   ]
  },
  {
   "cell_type": "code",
   "execution_count": 12,
   "metadata": {
    "deletable": false,
    "editable": false,
    "nbgrader": {
     "cell_type": "code",
     "checksum": "14585ce3bdfe1f68870f92fa78e537ad",
     "grade": false,
     "grade_id": "cell-e078bcfbef92ef2d",
     "locked": true,
     "schema_version": 3,
     "solution": false
    }
   },
   "outputs": [],
   "source": [
    "import torch"
   ]
  },
  {
   "cell_type": "code",
   "execution_count": 13,
   "metadata": {
    "deletable": false,
    "editable": false,
    "nbgrader": {
     "cell_type": "code",
     "checksum": "650bc6a662a9ecae216e389f1f540591",
     "grade": false,
     "grade_id": "cell-28b1f4faf5fe75a3",
     "locked": true,
     "schema_version": 3,
     "solution": false
    }
   },
   "outputs": [],
   "source": [
    "def name2tensor(name):\n",
    "    name = name.lower()\n",
    "\n",
    "    # Create tensor of correct size filled with zeros\n",
    "    tensor = torch.zeros(len(name), len(charset))\n",
    "\n",
    "    # For each letter, fill in the tensor with a 1 in the position corresponding to the character index in the charset\n",
    "    for i, letter in enumerate(name):\n",
    "        char_index = charset.index(letter)\n",
    "        tensor[i][char_index] = 1\n",
    "\n",
    "    return tensor\n"
   ]
  },
  {
   "cell_type": "code",
   "execution_count": 14,
   "metadata": {
    "deletable": false,
    "editable": false,
    "nbgrader": {
     "cell_type": "code",
     "checksum": "8a9bbbdc34b5d27a2f3187bda44fa59f",
     "grade": false,
     "grade_id": "cell-5d8cbbfaa7917f2c",
     "locked": true,
     "schema_version": 3,
     "solution": false
    }
   },
   "outputs": [
    {
     "data": {
      "text/plain": [
       "tensor([[0., 0., 0., 1., 0., 0., 0., 0., 0., 0., 0., 0., 0., 0., 0., 0., 0., 0.,\n",
       "         0., 0., 0., 0., 0., 0., 0., 0., 0., 0., 0., 0., 0., 0., 0., 0., 0., 0.,\n",
       "         0., 0., 0., 0., 0., 0., 0., 0., 0., 0., 0., 0., 0., 0., 0., 0., 0., 0.,\n",
       "         0., 0., 0.],\n",
       "        [0., 0., 0., 0., 0., 0., 0., 0., 0., 0., 0., 0., 0., 0., 1., 0., 0., 0.,\n",
       "         0., 0., 0., 0., 0., 0., 0., 0., 0., 0., 0., 0., 0., 0., 0., 0., 0., 0.,\n",
       "         0., 0., 0., 0., 0., 0., 0., 0., 0., 0., 0., 0., 0., 0., 0., 0., 0., 0.,\n",
       "         0., 0., 0.],\n",
       "        [0., 0., 0., 0., 0., 0., 0., 0., 0., 0., 0., 1., 0., 0., 0., 0., 0., 0.,\n",
       "         0., 0., 0., 0., 0., 0., 0., 0., 0., 0., 0., 0., 0., 0., 0., 0., 0., 0.,\n",
       "         0., 0., 0., 0., 0., 0., 0., 0., 0., 0., 0., 0., 0., 0., 0., 0., 0., 0.,\n",
       "         0., 0., 0.]])"
      ]
     },
     "execution_count": 14,
     "metadata": {},
     "output_type": "execute_result"
    }
   ],
   "source": [
    "name2tensor('Ali')"
   ]
  },
  {
   "cell_type": "markdown",
   "metadata": {
    "deletable": false,
    "editable": false,
    "nbgrader": {
     "cell_type": "markdown",
     "checksum": "20d3d8b2de876fd7d1160298362838a2",
     "grade": false,
     "grade_id": "cell-21a59eb745d70bfd",
     "locked": true,
     "schema_version": 3,
     "solution": false,
     "task": false
    }
   },
   "source": [
    "Why does the above output tensor contain a 1 at position (0,3)?"
   ]
  },
  {
   "cell_type": "markdown",
   "metadata": {
    "deletable": false,
    "nbgrader": {
     "cell_type": "markdown",
     "checksum": "49c4292927f944a5edca1db964fcd7f3",
     "grade": true,
     "grade_id": "cell-39860df3e01f0204",
     "locked": false,
     "points": 0,
     "schema_version": 3,
     "solution": true,
     "task": false
    }
   },
   "source": [
    "**Your answer:** (fill in here)\n",
    "\n",
    "Because the first letter of the name 'Ali' is an 'A' which corresponds to the 4th character in our character-set, and this is located at charset[3]. This is simply a one-hot encoding of what character is at the first place in 'Ali'.\n",
    "\n",
    "A --> 1 at position (0,3)\n",
    "\n",
    "L --> 1 at position (1,14)\n",
    "\n",
    "I --> 1 at position (2,11)\n",
    "\n",
    "\n",
    "/ Erik & Nicholas"
   ]
  },
  {
   "cell_type": "markdown",
   "metadata": {
    "deletable": false,
    "editable": false,
    "nbgrader": {
     "cell_type": "markdown",
     "checksum": "abff2aa6c349d74ed86f1f6196b5344e",
     "grade": false,
     "grade_id": "cell-5beb6efb1f504ce2",
     "locked": true,
     "schema_version": 3,
     "solution": false
    }
   },
   "source": [
    "**[1 point]** What happens if you try encoding the string `Lol@` using this function? Why?"
   ]
  },
  {
   "cell_type": "markdown",
   "metadata": {
    "deletable": false,
    "nbgrader": {
     "cell_type": "markdown",
     "checksum": "cd3dde14286714be377711d5877f5be8",
     "grade": true,
     "grade_id": "cell-613a1d700434e11a",
     "locked": false,
     "points": 1,
     "schema_version": 3,
     "solution": true
    }
   },
   "source": [
    "**Your answer:** (fill in here)\n",
    "\n",
    "We obtain an error because the character '@' is not part of the character set. Instead passing 'Lol' works fine and we get the same encoding for uppercase 'L' as lowercase 'L' since the function name2tensor treats all characters as lowercase.\n",
    "\n",
    "/ Erik & Nicholas"
   ]
  },
  {
   "cell_type": "markdown",
   "metadata": {
    "deletable": false,
    "editable": false,
    "nbgrader": {
     "cell_type": "markdown",
     "checksum": "fd84162dfdb2a3a9f880137ea0c6cf80",
     "grade": false,
     "grade_id": "cell-fdfe2093caad0c9d",
     "locked": true,
     "schema_version": 3,
     "solution": false
    }
   },
   "source": [
    "It's definitely possible to use the tensors created with `name2tensor` to train our RNN, but in that case we would only be able to conveniently perform forward-propagation using one sample at a time.\n",
    "\n",
    "Instead, we want to batch samples together and parallelize the forward-propagation step. To do so, all samples must have the same dimensions (right now every sample has dimension `(name length) x (charset length)`, and the length of the names varies). Modify the function `name2padded_tensor` to achieve this by padding the start of the tensor with zeros, so that the output tensor always has length `target_len x (charset length)`. **[1 point]**\n",
    "\n",
    "*Hint*:\n",
    "\n",
    "- To make it easier to catch bugs in the next parts of the assignment, make sure to raise an exception if the `target_len` is smaller than the length of the input word."
   ]
  },
  {
   "cell_type": "code",
   "execution_count": 15,
   "metadata": {
    "deletable": false,
    "nbgrader": {
     "cell_type": "code",
     "checksum": "ffe913eba6ac53a7bfd9cb4b3252f8df",
     "grade": true,
     "grade_id": "cell-fbe880f01de97439",
     "locked": false,
     "points": 1,
     "schema_version": 3,
     "solution": true
    }
   },
   "outputs": [],
   "source": [
    "def name2padded_tensor(name: str, target_len: int) -> torch.tensor:\n",
    "    \"\"\"Create a padded tensor representation of a name.\n",
    "\n",
    "    Args:\n",
    "        name (str):          The input name to be converted to a tensor.\n",
    "        target_len (int):    The desired length of the resulting tensor.\n",
    "\n",
    "    Returns:\n",
    "        torch.tensor:        A padded tensor representation of the name.\n",
    "\n",
    "    Raises:\n",
    "        Exception:           If target_len is smaller than the length of the name.\n",
    "\n",
    "    If target_len is the same as the length of the name, the function returns the\n",
    "    tensor representation of the name. Otherwise, it computes a padded tensor\n",
    "    with zeros to match the target length.\n",
    "    \"\"\"\n",
    "\n",
    "    # Raise error if 'target_len' is smaller than length of 'name'\n",
    "    if target_len < len(name):\n",
    "        raise Exception(\"target_len cannot be shorter than length of the name\")\n",
    "    \n",
    "    # return tensor if target_len is same as name length\n",
    "    if target_len == len(name):\n",
    "        return name2tensor(name)\n",
    "    \n",
    "    # Else compute the padded tensor\n",
    "    tensor = name2tensor(name)\n",
    "    padded_tensor = torch.zeros(target_len - len(name), tensor.size()[1])\n",
    "\n",
    "    return torch.cat((padded_tensor, tensor))\n"
   ]
  },
  {
   "cell_type": "code",
   "execution_count": 16,
   "metadata": {
    "deletable": false,
    "editable": false,
    "nbgrader": {
     "cell_type": "code",
     "checksum": "c45e582983c33659e1ed23fddf7038e7",
     "grade": false,
     "grade_id": "cell-22bb8ede1d7a7da2",
     "locked": true,
     "schema_version": 3,
     "solution": false
    }
   },
   "outputs": [
    {
     "name": "stdout",
     "output_type": "stream",
     "text": [
      "Test passed.\n"
     ]
    }
   ],
   "source": [
    "def test_name2padded_tensor():\n",
    "    test_case(case_id=\"1\", name=\"Ali\", target_len=5)\n",
    "    test_case(case_id=\"2\", name=\"Eleonora\", target_len=10)\n",
    "    print(\"Test passed.\")\n",
    "\n",
    "\n",
    "def test_case(case_id, name, target_len):\n",
    "    padded_tensor = name2padded_tensor(name, target_len)\n",
    "    new_target_len, new_charset_len = padded_tensor.shape\n",
    "    err_string = \"Case {} failed: {}\"\n",
    "\n",
    "    assert new_target_len == target_len, err_string.format(\n",
    "        case_id,\n",
    "        \"`target_len` not preserved, expected: {}, got: {}\".format(\n",
    "            target_len, new_target_len\n",
    "        ),\n",
    "    )\n",
    "\n",
    "    assert new_charset_len == 57, err_string.format(\n",
    "        case_id,\n",
    "        \"`charset_len` not preserved, expected: 57, got: {}\".format(new_charset_len)\n",
    "    )\n",
    "\n",
    "    assert padded_tensor[:2, :].sum() == 0, err_string.format(\n",
    "        case_id,\n",
    "        \"The first two rows of the tensor should be all zeros.\"\n",
    "    )\n",
    "\n",
    "    assert (\n",
    "        padded_tensor.sum(1) <= torch.ones((target_len, 1))\n",
    "    ).all(), err_string.format(case_id, \"Every row in the tensor should sum to at most 1.\")\n",
    "\n",
    "    assert padded_tensor.sum() <= len(name), err_string.format(\n",
    "        case_id,\n",
    "        \"The sum of all elements (i.e. the number of ones) should equal the number of characters in the name.\"\n",
    "    )\n",
    "\n",
    "\n",
    "test_name2padded_tensor()\n"
   ]
  },
  {
   "cell_type": "markdown",
   "metadata": {
    "deletable": false,
    "editable": false,
    "nbgrader": {
     "cell_type": "markdown",
     "checksum": "40a31911c299c0b4bd28507c4b83a495",
     "grade": false,
     "grade_id": "cell-c9657b653aeb1c93",
     "locked": true,
     "schema_version": 3,
     "solution": false
    }
   },
   "source": [
    "What should be the target length for our case in this dataset? Compute it (i.e. don't hardcode it) in the cell below and save it in a variable named `target_len`, which will be used from here on. **[1 point]**"
   ]
  },
  {
   "cell_type": "code",
   "execution_count": 17,
   "metadata": {
    "deletable": false,
    "nbgrader": {
     "cell_type": "code",
     "checksum": "e234cb9cbf5e590d942e05f678732fa1",
     "grade": true,
     "grade_id": "cell-ceb412223ee3e6dd",
     "locked": false,
     "points": 1,
     "schema_version": 3,
     "solution": true
    }
   },
   "outputs": [],
   "source": [
    "# YOUR CODE HERE\n",
    "\n",
    "# The target length for this dataset should be the length of the longest name available in the dictionary.\n",
    "# We can create a function that computes the longest name in any given dictionary. (for our it is 22)\n",
    "\n",
    "def find_longes_name(name_dict: dict) -> int:\n",
    "    \"\"\"Find and return the length of the longest name in a dictionary of lists of names.\n",
    "\n",
    "    Args:\n",
    "        name_dict (dict): A dictionary where the values are lists of names.\n",
    "\n",
    "    Returns:\n",
    "        int: The length of the longest name in the dictionary.\n",
    "    \"\"\"\n",
    "    longest_name = 0\n",
    "    for value in name_dict.values():\n",
    "        for name in value:\n",
    "            if len(name) > longest_name:\n",
    "                longest_name = len(name)\n",
    "                \n",
    "    return longest_name\n",
    "\n",
    "target_len = find_longes_name(name_dict=names_dict)"
   ]
  },
  {
   "cell_type": "markdown",
   "metadata": {
    "deletable": false,
    "editable": false,
    "nbgrader": {
     "cell_type": "markdown",
     "checksum": "901b6c3ed25c85d2cec741ad2e575ade",
     "grade": false,
     "grade_id": "cell-0bd908b10b33e7e2",
     "locked": true,
     "schema_version": 3,
     "solution": false
    }
   },
   "source": [
    "Now we can go through the entire dataset, encode each of the names, and save all of it in a tensor. We'll do the same with the ground-truth labels for the countries of each name."
   ]
  },
  {
   "cell_type": "code",
   "execution_count": 18,
   "metadata": {
    "deletable": false,
    "editable": false,
    "nbgrader": {
     "cell_type": "code",
     "checksum": "15a4f57533fa906a946a783721f7d7d3",
     "grade": false,
     "grade_id": "cell-c41ca1beab4900d1",
     "locked": true,
     "schema_version": 3,
     "solution": false
    }
   },
   "outputs": [],
   "source": [
    "# Create the tensors that will hold the names and labels\n",
    "# (note that the first dimension has 0 elements, this is a way to initialize an empty tensor for concatenating later)\n",
    "xs = torch.zeros(0, target_len, len(charset))\n",
    "ys = torch.zeros(0, dtype=torch.long)\n",
    "\n",
    "for i, country in enumerate(names_dict.keys()):\n",
    "\n",
    "    # Apply the name2padded_tensor function to each name in this country\n",
    "    temp = map(lambda n: name2padded_tensor(n, target_len), names_dict[country])\n",
    "\n",
    "    # Add a new dimension to the resulting tensors\n",
    "    temp = [name_tensor[None, :, :] for name_tensor in temp]\n",
    "\n",
    "    # Concatenate all of them along this new dimension\n",
    "    names_tensor = torch.cat(temp, dim=0)\n",
    "\n",
    "    # Add these tensors to `xs`\n",
    "    # Note that we have 44504 data pairs (x,y) where a single input x has the shape (target_len, 57),\n",
    "    # where 57 is the length of the one-hot-encoded vectors.\n",
    "    xs = torch.cat([xs, names_tensor], dim=0)\n",
    "\n",
    "    # Create tensor filled with i`s and add that to the ground-truth tensor\n",
    "    ys_for_this_country = torch.zeros(names_tensor.shape[0], dtype=torch.long) + i\n",
    "    ys = torch.cat([ys, ys_for_this_country])\n",
    "\n"
   ]
  },
  {
   "cell_type": "code",
   "execution_count": 19,
   "metadata": {
    "deletable": false,
    "editable": false,
    "nbgrader": {
     "cell_type": "code",
     "checksum": "59844c38d7efe88476c8c7299e4e0eb4",
     "grade": false,
     "grade_id": "cell-52dbbea6ddcef37d",
     "locked": true,
     "schema_version": 3,
     "solution": false
    }
   },
   "outputs": [
    {
     "data": {
      "text/plain": [
       "torch.Size([44504, 22, 57])"
      ]
     },
     "execution_count": 19,
     "metadata": {},
     "output_type": "execute_result"
    }
   ],
   "source": [
    "xs.shape"
   ]
  },
  {
   "cell_type": "code",
   "execution_count": 20,
   "metadata": {
    "deletable": false,
    "editable": false,
    "nbgrader": {
     "cell_type": "code",
     "checksum": "84f30aec4ebb491a7b47bc37f3c4428d",
     "grade": false,
     "grade_id": "cell-7e884148f06eed5d",
     "locked": true,
     "schema_version": 3,
     "solution": false
    }
   },
   "outputs": [
    {
     "data": {
      "text/plain": [
       "torch.Size([44504])"
      ]
     },
     "execution_count": 20,
     "metadata": {},
     "output_type": "execute_result"
    }
   ],
   "source": [
    "ys.shape"
   ]
  },
  {
   "cell_type": "markdown",
   "metadata": {
    "deletable": false,
    "editable": false,
    "nbgrader": {
     "cell_type": "markdown",
     "checksum": "d0ad8b82a67e3dae17a9dcf05d4886e3",
     "grade": false,
     "grade_id": "cell-0aa1483447535d5e",
     "locked": true,
     "schema_version": 3,
     "solution": false
    }
   },
   "source": [
    "Now we can create a dataset with these tensors."
   ]
  },
  {
   "cell_type": "code",
   "execution_count": 21,
   "metadata": {
    "deletable": false,
    "editable": false,
    "nbgrader": {
     "cell_type": "code",
     "checksum": "c11c5ff489587a4726ddeafa336d2265",
     "grade": false,
     "grade_id": "cell-6b352207c061f029",
     "locked": true,
     "schema_version": 3,
     "solution": false
    }
   },
   "outputs": [
    {
     "name": "stdout",
     "output_type": "stream",
     "text": [
      "Using cpu\n"
     ]
    }
   ],
   "source": [
    "from torch.utils.data import TensorDataset\n",
    "\n",
    "device = torch.device(\"cuda\" if torch.cuda.is_available() else \"cpu\")\n",
    "print(f\"Using {device}\")\n",
    "dataset = TensorDataset(xs.to(device), ys.to(device))"
   ]
  },
  {
   "cell_type": "markdown",
   "metadata": {
    "deletable": false,
    "editable": false,
    "nbgrader": {
     "cell_type": "markdown",
     "checksum": "86cdcef7c72b84485a13de4cf47e3dde",
     "grade": false,
     "grade_id": "cell-c20e8ae6ac70f92f",
     "locked": true,
     "schema_version": 3,
     "solution": false
    }
   },
   "source": [
    "And split it in training, validation, and test sets."
   ]
  },
  {
   "cell_type": "code",
   "execution_count": 22,
   "metadata": {
    "deletable": false,
    "editable": false,
    "nbgrader": {
     "cell_type": "code",
     "checksum": "eee2948e07aeee5fb4e585bf48160c6b",
     "grade": false,
     "grade_id": "cell-57448454a3d5dc19",
     "locked": true,
     "schema_version": 3,
     "solution": false
    }
   },
   "outputs": [],
   "source": [
    "from torch.utils.data import random_split\n",
    "\n",
    "val_ratio = 0.15\n",
    "test_ratio = 0.15\n",
    "\n",
    "n_samples = len(dataset)\n",
    "n_val_samples = int(n_samples * val_ratio)\n",
    "n_test_samples = int(n_samples * test_ratio)\n",
    "n_train_samples = n_samples - n_val_samples - n_test_samples\n",
    "\n",
    "train_dataset, val_dataset, test_dataset = random_split(\n",
    "    dataset, [n_train_samples, n_val_samples, n_test_samples]\n",
    ")\n",
    "\n"
   ]
  },
  {
   "cell_type": "markdown",
   "metadata": {
    "deletable": false,
    "editable": false,
    "nbgrader": {
     "cell_type": "markdown",
     "checksum": "da53c7a8fffae55f48861e3dd82bfb1f",
     "grade": false,
     "grade_id": "cell-485c36faf4913176",
     "locked": true,
     "schema_version": 3,
     "solution": false
    }
   },
   "source": [
    "### 1.3 Defining the optimization"
   ]
  },
  {
   "cell_type": "markdown",
   "metadata": {
    "deletable": false,
    "editable": false,
    "nbgrader": {
     "cell_type": "markdown",
     "checksum": "55b9eae950e59b122a032b8e99f8d4da",
     "grade": false,
     "grade_id": "cell-b2ed39f361f618c2",
     "locked": true,
     "schema_version": 3,
     "solution": false
    }
   },
   "source": [
    "Now we will define the model to be trained, that is, a single layer RNN. As usual, we will create a class for the model and inherit from `nn.Module`. Define in the next cell a class for an RNN that follows the equations:\n",
    "\n",
    "$$ h_t = \\text{tanh}(W_h x_t + U_h h_{t-1} + b_h) $$\n",
    "$$ y_t = \\log \\Big(\\text{Softmax}(W_y h_t + b_y)\\Big)~,$$\n",
    "\n",
    "where $h_t$ is the current hidden-state, $h_{t-1}$ is the previous hidden state, $x_t$ is the input, $y_t$ is the output, and $W_h, U_h, b_h, W_y, b_y$ are the trainable parts of the RNN. As explained before, we will use this RNN to classify names, inputting one character at each step and using the last output as the prediction for a distribution over probable countries for the name.\n",
    "\n",
    "*Hints:*\n",
    "\n",
    "- As you're probably aware by now, PyTorch [has a layer](https://pytorch.org/docs/stable/nn.html#logsoftmax) that already applies the log and the softmax in one pass.\n",
    "- If you get errors related to size mismatches when computing the forward-propagation in your model, try reading the documentation for the specific module where the problem is occurring (e.g. [`nn.Linear`](https://pytorch.org/docs/stable/nn.html#linear)), especially the part about the expected shape of inputs and outputs.\n",
    "\n",
    "**[1 point]**"
   ]
  },
  {
   "cell_type": "markdown",
   "metadata": {},
   "source": [
    "While creating our RNN we used this expression:\n",
    "\n",
    "$$ h_t = \\text{tanh}(W_h x_t + U_h h_{t-1} + b_h) \\quad \\rightarrow \\quad \\text{tanh}\\bigg(\\begin{bmatrix}W_h & U_h\\end{bmatrix} \\begin{bmatrix} x_t \\\\ h_{t-1}\\end{bmatrix} + b_h\\bigg)$$\n",
    "\n",
    "And as we can see, if we concatenate the weights for the input $x_t$ and hidden state $h_{t-1}$ we obtain an expression for a fully connected layer $z_t = W_{concat}x_{concat} + b$ where the size of the inputs are simply the sum of the input $x_t$ and the hidden state $h_{t-1}$. We call this layer input_to_hidden, or in short i2h. We then use this $z_t$ and pass it through the Tanh function to obtain our new hidden state $h_t$. Moreover we consider the expression:\n",
    "\n",
    "$$ y_t = \\log \\Big(\\text{Softmax}(W_y h_t + b_y)\\Big)~$$\n",
    "\n",
    "This uses the newly calculated $h_t$ as input for what also is structured as a fully connected layer. This layer has different weights and biases, and rthe input size is just the size of the hidden layer. The output size here however is just the size of the ouput (i.e 41). We call this layer hidden_2_output or ins short h2o. We use this reasoning while constructing the RNN class below\n",
    "\n",
    "/ Erik & Nicholas"
   ]
  },
  {
   "cell_type": "code",
   "execution_count": 23,
   "metadata": {
    "deletable": false,
    "nbgrader": {
     "cell_type": "code",
     "checksum": "0c96f0bb09ac33d4edfa364bb855271c",
     "grade": true,
     "grade_id": "cell-63759a1c550cd7e1",
     "locked": false,
     "points": 1,
     "schema_version": 3,
     "solution": true
    }
   },
   "outputs": [],
   "source": [
    "import torch.nn as nn\n",
    "\n",
    "\n",
    "class RNN(nn.Module):\n",
    "    def __init__(self, input_size: int, hidden_size: int, output_size: int):\n",
    "        \"\"\"\n",
    "        Inputs:\n",
    "            input_size     - Dimensionality of the input of this RNN.\n",
    "            hidden_size    - Dimensionality of the hidden state.\n",
    "            output_size    - Dimensionality of the output of this RNN.\n",
    "        \"\"\"\n",
    "\n",
    "        super(RNN, self).__init__()\n",
    "        self.hidden_size = hidden_size\n",
    "\n",
    "        # YOUR CODE HERE\n",
    "\n",
    "        # Create the fully connected layer for the hidden state\n",
    "        self.i2h = nn.Linear(in_features=input_size + hidden_size, out_features=hidden_size)\n",
    "\n",
    "        # Create the fully connected layer for the output\n",
    "        self.h2o = nn.Linear(in_features=hidden_size, out_features=output_size)\n",
    "\n",
    "        # Define functions / activation functions\n",
    "        self.log_softmax = nn.LogSoftmax(dim=1)     # dim=1 is important! since we do not want to do softmax over the batch (which is at dim=0) \n",
    "        self.tanh = nn.Tanh()\n",
    "\n",
    "\n",
    "    def forward(self, x: torch.tensor, h: torch.tensor) -> tuple[torch.tensor, torch.tensor]:\n",
    "        \"\"\"\n",
    "        Runs the RNN module for one time-step.\n",
    "        Inputs:\n",
    "            x              - Batch of one-hot encoded characters. \n",
    "                             Tensor of size (BATCH SIZE x CHARSET LENGTH).\n",
    "            h              - Batch of hidden states at previous time-step.\n",
    "                             Tensor of size (BATCH SIZE x `hidden_size`).\n",
    "        \n",
    "        Returns:\n",
    "            y              - Batch of outputs.\n",
    "                             Tensor of size (BATCH SIZE x NUMBER OF COUNTRIES).\n",
    "            new_h          - Batch of hidden states at current time-step.\n",
    "                             Tensor of size (BATCH SIZE x `hidden_size`).\n",
    "        \"\"\"\n",
    "\n",
    "        # YOUR CODE HERE\n",
    "        \n",
    "        # First we concatenate the tensors\n",
    "        combined = torch.cat((x, h), 1)\n",
    "\n",
    "        # Secondly we compute our concatenated z, we then pass this z to Tanh() to obtain the new hidden state h_t\n",
    "        z_hidden = self.i2h(combined)\n",
    "        new_h = self.tanh(z_hidden)\n",
    "\n",
    "        # Finally we use the h2o layer to compute the new z, then pass this through the log softmax to obtain the new output y\n",
    "        z_output = self.h2o(new_h)\n",
    "        y = self.log_softmax(z_output)\n",
    "\n",
    "        return y, new_h\n",
    "    "
   ]
  },
  {
   "cell_type": "markdown",
   "metadata": {
    "deletable": false,
    "editable": false,
    "nbgrader": {
     "cell_type": "markdown",
     "checksum": "ef6f13ee64c864145910c8c572c69619",
     "grade": false,
     "grade_id": "cell-41a6ab734e65e9e2",
     "locked": true,
     "schema_version": 3,
     "solution": false
    }
   },
   "source": [
    "Run the following cell to test whether the shape of your outputs are correct. Note that this *only* checks the shapes, not the content (one way you can check the actual computations of your network is to `print` the tensors as they pass through the layers, in order to check that the computations do what you expected)."
   ]
  },
  {
   "cell_type": "code",
   "execution_count": 24,
   "metadata": {
    "deletable": false,
    "editable": false,
    "nbgrader": {
     "cell_type": "code",
     "checksum": "b13549f6823038fcbdd83dcc4b043a82",
     "grade": false,
     "grade_id": "cell-0895e453938dcd22",
     "locked": true,
     "schema_version": 3,
     "solution": false
    }
   },
   "outputs": [
    {
     "name": "stdout",
     "output_type": "stream",
     "text": [
      "Test passed.\n"
     ]
    }
   ],
   "source": [
    "batch_size = 16\n",
    "# Create a test tensor of size (batch_size x CHARSET LENGTH)\n",
    "t = torch.ones((batch_size, len(charset))).to(device)\n",
    "\n",
    "# Forward-prop through the RNN\n",
    "rnn = RNN(len(charset), 3, len(names_dict)).to(device)\n",
    "h = torch.ones((batch_size, 3)).to(device)\n",
    "y, new_h = rnn(t, h)\n",
    "\n",
    "# Test dimensions of the outputs\n",
    "err_str = \"The {} has incorrect dimension. Dimension is {}, but should've been {}\"\n",
    "assert list(y.shape) == [batch_size, len(names_dict)], err_str.format(\n",
    "    \"output\", list(y.shape), [batch_size, len(names_dict)]\n",
    ")\n",
    "assert list(new_h.shape) == [batch_size, 3], err_str.format(\n",
    "    \"new hidden state\", list(new_h.shape), [batch_size, 3]\n",
    ")\n",
    "\n",
    "print(\"Test passed.\")\n",
    "\n"
   ]
  },
  {
   "cell_type": "markdown",
   "metadata": {
    "deletable": false,
    "editable": false,
    "nbgrader": {
     "cell_type": "markdown",
     "checksum": "b11e5934fe26e1176969794d05c7671f",
     "grade": false,
     "grade_id": "cell-f879b658d2fe97d5",
     "locked": true,
     "schema_version": 3,
     "solution": false
    }
   },
   "source": [
    "**[2 points]** Suppose we now create an RNN using the following call: `RNN(x, y, z)`. How many parameters would this model have in total?"
   ]
  },
  {
   "cell_type": "markdown",
   "metadata": {
    "deletable": false,
    "nbgrader": {
     "cell_type": "markdown",
     "checksum": "3a75752559679046eec4403fbd11df95",
     "grade": true,
     "grade_id": "cell-d359daf8f96289bc",
     "locked": false,
     "points": 2,
     "schema_version": 3,
     "solution": true
    }
   },
   "source": [
    "**Your answer:** (fill in here)"
   ]
  },
  {
   "cell_type": "markdown",
   "metadata": {
    "deletable": false,
    "editable": false,
    "nbgrader": {
     "cell_type": "markdown",
     "checksum": "0d5dc81f8efd4a09172a3480777b3273",
     "grade": false,
     "grade_id": "cell-e3ae784b6fd462cb",
     "locked": true,
     "schema_version": 3,
     "solution": false
    }
   },
   "source": [
    "We will use the Adam optimizer:"
   ]
  },
  {
   "cell_type": "code",
   "execution_count": 25,
   "metadata": {
    "deletable": false,
    "editable": false,
    "nbgrader": {
     "cell_type": "code",
     "checksum": "32abb30aecff746e6f8450bd2585ccd9",
     "grade": false,
     "grade_id": "cell-c8087333699def0c",
     "locked": true,
     "schema_version": 3,
     "solution": false
    }
   },
   "outputs": [],
   "source": [
    "from torch.optim import Adam"
   ]
  },
  {
   "cell_type": "markdown",
   "metadata": {
    "deletable": false,
    "editable": false,
    "nbgrader": {
     "cell_type": "markdown",
     "checksum": "76849f484a3adefd591bfca9ac7f9bbf",
     "grade": false,
     "grade_id": "cell-6411a391a74a5e36",
     "locked": true,
     "schema_version": 3,
     "solution": false
    }
   },
   "source": [
    "and since this is a classification problem we will use the negative log-likelihood loss ([`NLLLoss`](https://pytorch.org/docs/stable/generated/torch.nn.NLLLoss.html#torch.nn.NLLLoss)) to train the model. We should account for the fact that our dataset is imbalanced, and one way of dealing with this problem is to assign different weights to each class in our problem. "
   ]
  },
  {
   "cell_type": "code",
   "execution_count": 26,
   "metadata": {
    "deletable": false,
    "editable": false,
    "nbgrader": {
     "cell_type": "code",
     "checksum": "d5b7a4d07bf432bf1e03d2a0c68d3146",
     "grade": false,
     "grade_id": "cell-934166eac20acb50",
     "locked": true,
     "schema_version": 3,
     "solution": false
    }
   },
   "outputs": [],
   "source": [
    "# Compute weights for each class\n",
    "n_names_for_each_country = [len(v) for v in names_dict.values()]\n",
    "ns = torch.tensor(n_names_for_each_country, dtype=torch.float)\n",
    "w = 1.0 / ns\n",
    "w = w / w.sum()\n",
    "\n",
    "# Define loss\n",
    "criterion = nn.NLLLoss(weight=w.to(device))\n"
   ]
  },
  {
   "cell_type": "markdown",
   "metadata": {
    "deletable": false,
    "editable": false,
    "nbgrader": {
     "cell_type": "markdown",
     "checksum": "53ce890d1fddec319a2f1a498f8a0e01",
     "grade": false,
     "grade_id": "cell-b333a7e050fbe007",
     "locked": true,
     "schema_version": 3,
     "solution": false
    }
   },
   "source": [
    "**[2 points]** Why is it a problem that the dataset is imbalanced? What would be the consequence of not dealing with this problem?"
   ]
  },
  {
   "cell_type": "markdown",
   "metadata": {
    "deletable": false,
    "nbgrader": {
     "cell_type": "markdown",
     "checksum": "39b45db880f3a25283647535d49fed4f",
     "grade": true,
     "grade_id": "cell-a044d5b4e3bcf29b",
     "locked": false,
     "points": 2,
     "schema_version": 3,
     "solution": true
    }
   },
   "source": [
    "**Your answer:** (fill in here)"
   ]
  },
  {
   "cell_type": "markdown",
   "metadata": {
    "deletable": false,
    "editable": false,
    "nbgrader": {
     "cell_type": "markdown",
     "checksum": "c349e4191662336f20987e4ac762a737",
     "grade": false,
     "grade_id": "cell-0611001189dd369a",
     "locked": true,
     "schema_version": 3,
     "solution": false
    }
   },
   "source": [
    "**[3 points]** Why does assigning different weights to each class solve this problem? How should the weights be chosen?"
   ]
  },
  {
   "cell_type": "markdown",
   "metadata": {
    "deletable": false,
    "nbgrader": {
     "cell_type": "markdown",
     "checksum": "504304e6d0e5cafb4cca4a614fef9c22",
     "grade": true,
     "grade_id": "cell-f19ff5370ea1e86d",
     "locked": false,
     "points": 3,
     "schema_version": 3,
     "solution": true
    }
   },
   "source": [
    "**Your answer:** (fill in here)"
   ]
  },
  {
   "cell_type": "markdown",
   "metadata": {
    "deletable": false,
    "editable": false,
    "nbgrader": {
     "cell_type": "markdown",
     "checksum": "dab1c1395041673c28ae98f9c66bea2d",
     "grade": false,
     "grade_id": "cell-ced0796bf818f493",
     "locked": true,
     "schema_version": 3,
     "solution": false
    }
   },
   "source": [
    "**[3 points]** Is there any situation where *we would want* class imbalances? How could we create such a class imbalance in a balanced dataset (without changing the dataset itself)? "
   ]
  },
  {
   "cell_type": "markdown",
   "metadata": {
    "deletable": false,
    "nbgrader": {
     "cell_type": "markdown",
     "checksum": "e39a72245eba4ba1147edbb60d0312ec",
     "grade": true,
     "grade_id": "cell-821c6a2fb462d2f9",
     "locked": false,
     "points": 3,
     "schema_version": 3,
     "solution": true
    }
   },
   "source": [
    "**Your answer:** (fill in here)"
   ]
  },
  {
   "cell_type": "markdown",
   "metadata": {
    "deletable": false,
    "editable": false,
    "nbgrader": {
     "cell_type": "markdown",
     "checksum": "cbc3cc703eb376f0ad0be049bef4e506",
     "grade": false,
     "grade_id": "cell-95508ad6a5c542b5",
     "locked": true,
     "schema_version": 3,
     "solution": false
    }
   },
   "source": [
    "### 1.4 Helper functions for training"
   ]
  },
  {
   "cell_type": "markdown",
   "metadata": {
    "deletable": false,
    "editable": false,
    "nbgrader": {
     "cell_type": "markdown",
     "checksum": "58265723d45b24d2b45cf6afb91486e9",
     "grade": false,
     "grade_id": "cell-ccbb270d5fe1c30c",
     "locked": true,
     "schema_version": 3,
     "solution": false
    }
   },
   "source": [
    "Now that we defined the optimization problem, we can start creating the code to actually solve it. The first thing that we need is a function that, given a batch of samples, computes the output of the model for every sample and the average loss across all samples. \n",
    "\n",
    "Complete the function `batch_forward_prop` to produce this behavior.\n",
    "\n",
    "*Hints*:\n",
    "\n",
    "- Initialize the hidden state to a zero Tensor for the first forward-propagation.\n",
    "- If you get errors related to size mismatches when computing the forward-propagation in your model, try reading the documentation for the specific module where the problem is occurring (e.g. [`nn.Linear`](https://pytorch.org/docs/stable/nn.html#linear)), especially the part about the expected shape of inputs and outputs.\n",
    "- If you get errors related to size mismatches when computing the loss, try reading the [documentation for it](https://pytorch.org/docs/stable/nn.html#nllloss), especially the part about the expected shape of inputs and outputs.\n",
    "\n",
    "**[2 points]**"
   ]
  },
  {
   "cell_type": "code",
   "execution_count": 27,
   "metadata": {
    "deletable": false,
    "nbgrader": {
     "cell_type": "code",
     "checksum": "75648e70d6a7c1bf1efc1466ea579829",
     "grade": true,
     "grade_id": "cell-080aad948708672d",
     "locked": false,
     "points": 2,
     "schema_version": 3,
     "solution": true
    }
   },
   "outputs": [],
   "source": [
    "def batch_forward_prop(rnn: nn.Module, xs: torch.tensor, ys: torch.tensor, loss_fn: nn=criterion):  \n",
    "    \"\"\"\n",
    "    Inputs:\n",
    "        rnn            - The RNN model, instance of the RNN class.\n",
    "        xs             - Batch of input words.\n",
    "                         Tensor of shape (BATCH SIZE x `target_len` x CHARSET LENGTH).\n",
    "        ys             - Batch of ground-truth labels.\n",
    "                         Tensor of  shape (BATCH_SIZE).\n",
    "    \n",
    "    Returns:\n",
    "        output         - Output computed at the last character position in the batch.\n",
    "                         Tensor of shape (BATCH_SIZE x NUMBER OF COUNTRIES).\n",
    "        loss           - Value of the average loss across the predictions for this batch, later used for back-propagation.\n",
    "                         Tensor with a single element inside.\n",
    "    \"\"\"\n",
    "    \n",
    "    # YOUR CODE HERE\n",
    "\n",
    "    # Initialize hidden state for the batch\n",
    "    h = torch.zeros(xs.size(0), rnn.hidden_size).to(xs.device)\n",
    "\n",
    "    # Define the loss criterion (Negative Log Likelihood Loss)\n",
    "    loss_criterion = criterion\n",
    "\n",
    "    # Initialize a list to store individual losses for each sample in the batch\n",
    "    individual_losses = []\n",
    "    \n",
    "    # Loop over the sequence length\n",
    "    for t in range(xs.size(1)):\n",
    "        # Extract input at time step t\n",
    "        x_t = xs[:, t, :]\n",
    "        \n",
    "        # Forward pass through the RNN for one time step\n",
    "        y, h = rnn(x_t, h)\n",
    "        \n",
    "        # Append the loss for this time step to the list\n",
    "        individual_losses.append(loss_criterion(y, ys))\n",
    "    \n",
    "    # Stack individual losses along the time step dimension\n",
    "    all_losses = torch.stack(individual_losses, dim=0)\n",
    "    \n",
    "    # Compute the average loss across time steps and samples\n",
    "    loss = torch.mean(all_losses)\n",
    "    \n",
    "    # Take only the output at the last time step\n",
    "    output = y\n",
    "\n",
    "    return output, loss"
   ]
  },
  {
   "cell_type": "markdown",
   "metadata": {
    "deletable": false,
    "editable": false,
    "nbgrader": {
     "cell_type": "markdown",
     "checksum": "99ee062817c7b56e5180058437d2f26d",
     "grade": false,
     "grade_id": "cell-644f9d6aaa50e21c",
     "locked": true,
     "schema_version": 3,
     "solution": false
    }
   },
   "source": [
    "Run the following cell to test whether the shape of your outputs are correct. Note that this *only* checks the shapes, not the content."
   ]
  },
  {
   "cell_type": "code",
   "execution_count": 28,
   "metadata": {
    "deletable": false,
    "editable": false,
    "nbgrader": {
     "cell_type": "code",
     "checksum": "a3dbd376c434b09e3945c9d1ac43b803",
     "grade": false,
     "grade_id": "cell-02f7744a186b2ebe",
     "locked": true,
     "schema_version": 3,
     "solution": false
    }
   },
   "outputs": [
    {
     "name": "stdout",
     "output_type": "stream",
     "text": [
      "Test passed.\n"
     ]
    }
   ],
   "source": [
    "def test_rnn():\n",
    "    # Create two tensors\n",
    "    t1 = name2tensor('Unit')\n",
    "    t2 = name2tensor('Test')\n",
    "\n",
    "    # Add the batch dimension to them and concatenate\n",
    "    t = torch.cat([t1[None, :], t2[None, :]], dim=0)\n",
    "\n",
    "    # Create label tensor\n",
    "    l = torch.ones((2), dtype=torch.long)\n",
    "\n",
    "    # Create RNN\n",
    "    rnn = RNN(len(charset), 10, len(names_dict))\n",
    "\n",
    "    # Put everything in the correct device\n",
    "    t = t.to(device)\n",
    "    l = l.to(device)\n",
    "    rnn.to(device)\n",
    "\n",
    "    # Perform the forward-prop\n",
    "    y, loss = batch_forward_prop(rnn, t, l)\n",
    "\n",
    "    # Test dimensions of the outputs\n",
    "    err_str = 'The {} has incorrect dimension. Dimension is {}, but should\\'ve been {}'\n",
    "    assert list(y.shape) == [2, len(names_dict)], err_str.format('output', list(y.shape), [2, len(names_dict)])\n",
    "    assert list(loss.shape) == [], err_str.format('loss', list(loss.shape), [])\n",
    "\n",
    "    print('Test passed.')\n",
    "    \n",
    "test_rnn()"
   ]
  },
  {
   "cell_type": "markdown",
   "metadata": {
    "deletable": false,
    "editable": false,
    "nbgrader": {
     "cell_type": "markdown",
     "checksum": "d0829fc6b5254f539a66a81a3024bdfc",
     "grade": false,
     "grade_id": "cell-4010f6bcbc1e6245",
     "locked": true,
     "schema_version": 3,
     "solution": false
    }
   },
   "source": [
    "Using this function, it's straightforward to train on a single batch of data:"
   ]
  },
  {
   "cell_type": "code",
   "execution_count": 29,
   "metadata": {
    "deletable": false,
    "editable": false,
    "nbgrader": {
     "cell_type": "code",
     "checksum": "14bd8c317ed86e66c5c7ba211682f58b",
     "grade": false,
     "grade_id": "cell-78972c6d342b4da9",
     "locked": true,
     "schema_version": 3,
     "solution": false
    }
   },
   "outputs": [],
   "source": [
    "def train_batch(rnn, xs, ys, optimizer):\n",
    "\n",
    "    # Compute the output for all samples in the batch and the average loss\n",
    "    output, loss = batch_forward_prop(rnn, xs, ys)\n",
    "\n",
    "    # Zero gradients before computing backward-propagation\n",
    "    optimizer.zero_grad()\n",
    "\n",
    "    # Backward-propagation\n",
    "    loss.backward()\n",
    "\n",
    "    # Clip the gradient norm (optional, helps to stabilize training)\n",
    "    nn.utils.clip_grad_norm_(rnn.parameters(), 2)\n",
    "\n",
    "    # Perform one step of optimization\n",
    "    optimizer.step()\n",
    "\n",
    "    return output, loss\n"
   ]
  },
  {
   "cell_type": "markdown",
   "metadata": {
    "deletable": false,
    "editable": false,
    "nbgrader": {
     "cell_type": "markdown",
     "checksum": "576143bb6960f21f2b68bd6bb977a9f0",
     "grade": false,
     "grade_id": "cell-f2b194756febe3f1",
     "locked": true,
     "schema_version": 3,
     "solution": false
    }
   },
   "source": [
    "We will also need a function for computing metrics of interest in the validation set. In this case, we will plot both the loss and the F1-score in the validation set. The F1-score of a classifier is the [harmonic mean](https://en.wikipedia.org/wiki/Harmonic_mean) of its [precision and recall](https://en.wikipedia.org/wiki/Precision_and_recall), two metrics that are more useful than accuracy for imbalanced datasets. [This blog post](https://towardsdatascience.com/accuracy-precision-recall-or-f1-331fb37c5cb9) can help you to familiarize yourself with these new metrics."
   ]
  },
  {
   "cell_type": "code",
   "execution_count": 30,
   "metadata": {
    "deletable": false,
    "editable": false,
    "nbgrader": {
     "cell_type": "code",
     "checksum": "208a5f56500847a17c3da081f13fc9f6",
     "grade": false,
     "grade_id": "cell-94021e46113ec8cb",
     "locked": true,
     "schema_version": 3,
     "solution": false
    }
   },
   "outputs": [],
   "source": [
    "from sklearn.metrics import precision_recall_fscore_support\n",
    "\n",
    "\n",
    "def compute_metrics_on_validation_set(rnn, val_dataset):\n",
    "    # Get all the input and labels in the training set.\n",
    "    x_val, y_val = val_dataset[:]\n",
    "\n",
    "    # Perform forward-prop in the entire validation set, with autograd disabled\n",
    "    with torch.no_grad():\n",
    "        val_output, val_loss = batch_forward_prop(rnn, x_val, y_val)\n",
    "\n",
    "    # Get numpy arrays for the true labels and the predictions\n",
    "    y_true = y_val.cpu().numpy()\n",
    "    y_pred = val_output.argmax(dim=1).cpu().numpy()\n",
    "\n",
    "    # Compute precision, recall, and F-score\n",
    "    precision, recall, fscore, _ = precision_recall_fscore_support(\n",
    "        y_true, y_pred, average=\"macro\"\n",
    "    )\n",
    "\n",
    "    return val_loss, precision, recall, fscore\n"
   ]
  },
  {
   "cell_type": "markdown",
   "metadata": {
    "deletable": false,
    "editable": false,
    "nbgrader": {
     "cell_type": "markdown",
     "checksum": "06672da367df025e50d1fc66d1a14015",
     "grade": false,
     "grade_id": "cell-2e37e571600c2220",
     "locked": true,
     "schema_version": 3,
     "solution": false
    }
   },
   "source": [
    "Lastly, we define a function for plotting the metrics in real-time."
   ]
  },
  {
   "cell_type": "code",
   "execution_count": 31,
   "metadata": {
    "deletable": false,
    "editable": false,
    "nbgrader": {
     "cell_type": "code",
     "checksum": "9378a010371205dca7d327ef558bb638",
     "grade": false,
     "grade_id": "cell-2807fe4cfa2d8b29",
     "locked": true,
     "schema_version": 3,
     "solution": false
    }
   },
   "outputs": [],
   "source": [
    "def plot_metrics(fig, ax, ns, train_losses, train_fscores, val_losses, val_fscores):\n",
    "\n",
    "    # Plot losses\n",
    "    ax[0].clear()\n",
    "    ax[0].plot(ns, train_losses)\n",
    "    ax[0].plot(ns, val_losses)\n",
    "    ax[0].set_title('Loss')\n",
    "    ax[0].legend(['Train','Validation'])\n",
    "    ax[0].set_xlabel('Number of trained batches')\n",
    "    ax[0].grid()\n",
    "\n",
    "    # Plot F1-scores\n",
    "    ax[1].clear()\n",
    "    ax[1].plot(ns, train_fscores)\n",
    "    ax[1].plot(ns, val_fscores)\n",
    "    ax[1].plot(ns, [0.3]*len(ns), 'k--')\n",
    "    ax[1].set_title('Macro F1-score')\n",
    "    ax[1].legend(['Train','Validation', 'F1-score threshold'])\n",
    "    ax[1].set_xlabel('Number of trained batches')\n",
    "    ax[1].grid()\n",
    "    \n",
    "    \n",
    "    fig.canvas.draw()\n",
    "    "
   ]
  },
  {
   "cell_type": "markdown",
   "metadata": {
    "deletable": false,
    "editable": false,
    "nbgrader": {
     "cell_type": "markdown",
     "checksum": "520a4c1ba775bfc75e1ed71009bcf6b9",
     "grade": false,
     "grade_id": "cell-2a8edc5c0c4d13d6",
     "locked": true,
     "schema_version": 3,
     "solution": false
    }
   },
   "source": [
    "With these helper functions, the `train` function becomes:"
   ]
  },
  {
   "cell_type": "code",
   "execution_count": 32,
   "metadata": {
    "deletable": false,
    "editable": false,
    "nbgrader": {
     "cell_type": "code",
     "checksum": "1a9b23a5e750c299ed81585d822ad073",
     "grade": false,
     "grade_id": "cell-61029512380ba880",
     "locked": true,
     "schema_version": 3,
     "solution": false
    }
   },
   "outputs": [],
   "source": [
    "from torch.utils.data import DataLoader\n",
    "\n",
    "def train(rnn, n_epochs, learning_rate, batch_size, train_dataset, val_dataset):\n",
    "    \n",
    "    # Setup the figure for plotting progress during training\n",
    "    %matplotlib notebook\n",
    "    fig, ax = plt.subplots(ncols=2, figsize=(12,4))\n",
    "    plt.ion()\n",
    "    plot_interval = 100\n",
    "    \n",
    "    # Create arrays to average training metrics across batches\n",
    "    preds = []\n",
    "    labels = []\n",
    "    losses = []\n",
    "    \n",
    "    # Create dictionaries to hold the computed metrics in\n",
    "    train_data = {'losses': [], 'fscores': []}\n",
    "    val_data = {'losses': [], 'fscores': []}\n",
    "    \n",
    "    optimizer = Adam(rnn.parameters(), lr=learning_rate)\n",
    "    train_data_loader = DataLoader(train_dataset, batch_size=batch_size, shuffle=True, drop_last=True)\n",
    "    batch_idxs = []\n",
    "    \n",
    "    # Training loop\n",
    "    i_batch = 0\n",
    "    for n in range(n_epochs):\n",
    "\n",
    "        # Print current epoch\n",
    "        if n % 10  == 0:\n",
    "            print(f'\\nStarting Epoch: {n}')\n",
    "        for i, (x_batch, y_batch) in enumerate(train_data_loader):\n",
    "            i_batch += 1\n",
    "            \n",
    "            # Compute loss and outputs\n",
    "            output, loss = train_batch(rnn, x_batch, y_batch, optimizer)\n",
    "            \n",
    "            # Aggregate for later averaging\n",
    "            preds += output.argmax(dim=1).cpu().tolist()\n",
    "            labels += y_batch.cpu().tolist()\n",
    "            losses.append(loss)\n",
    "            \n",
    "            # Compute metrics and plot after every `plot_interval` batches\n",
    "            if i % plot_interval == 0:\n",
    "              \n",
    "                val_loss, _, _, val_fscore = compute_metrics_on_validation_set(rnn, val_dataset)\n",
    "                train_fscore = precision_recall_fscore_support(labels, preds, average='macro')[2]\n",
    "                \n",
    "                val_data['losses'].append(val_loss.cpu())\n",
    "                val_data['fscores'].append(val_fscore)\n",
    "                train_data['losses'].append((sum(losses)/len(losses)).item())\n",
    "                train_data['fscores'].append(train_fscore)\n",
    "                batch_idxs.append(i_batch)\n",
    "\n",
    "                preds = []\n",
    "                labels = []\n",
    "                losses = []\n",
    "\n",
    "                plot_metrics(fig, ax, batch_idxs, train_data['losses'], train_data['fscores'], val_data['losses'], val_data['fscores'])"
   ]
  },
  {
   "cell_type": "markdown",
   "metadata": {
    "deletable": false,
    "editable": false,
    "nbgrader": {
     "cell_type": "markdown",
     "checksum": "0f89bbf2c0e1f3ab9e64a937f8e24863",
     "grade": false,
     "grade_id": "cell-f92f1fd576a8a7cb",
     "locked": true,
     "schema_version": 3,
     "solution": false
    }
   },
   "source": [
    "Make sure that you completely understand the `train` function before proceeding (e.g. that we aggregate predictions from different batches and compute metrics only at a certain interval, etc)."
   ]
  },
  {
   "cell_type": "markdown",
   "metadata": {
    "deletable": false,
    "editable": false,
    "nbgrader": {
     "cell_type": "markdown",
     "checksum": "487f8bd9d91b0abeeae00e8c120a6f15",
     "grade": false,
     "grade_id": "cell-18f5c7620b914ebd",
     "locked": true,
     "schema_version": 3,
     "solution": false
    }
   },
   "source": [
    "### 1.5 Training!\n",
    "\n",
    "Now we're ready to train the network! Create an RNN and use the `train` function to train it.\n",
    "\n",
    "*Hints*:\n",
    "\n",
    "- Tuning the hyper-parameters (number of hidden units, learning rate, batch size, etc) will take some trial-and-error. Try simple things first, and then once you manage to train them, start scaling up. Also, have in mind the bias-variance tradeoff mentioned in the lectures.\n",
    "- When tuning the learning rate, focus first on being able to decrease the training loss. Keep decreasing the learning rate until that starts happening.\n",
    "- You should use a GPU for fast training times. Using a CPU, training a network can take ~5-10 minutes with suitable hyper-parameters. With a GPU training takes ~1 minute with the same hyper-parameters."
   ]
  },
  {
   "cell_type": "code",
   "execution_count": 33,
   "metadata": {
    "deletable": false,
    "nbgrader": {
     "cell_type": "code",
     "checksum": "0e3d64e9c5c79168399628331405b8ed",
     "grade": true,
     "grade_id": "cell-937381af9dcaf490",
     "locked": false,
     "points": 0,
     "schema_version": 3,
     "solution": true
    }
   },
   "outputs": [
    {
     "data": {
      "application/javascript": [
       "/* Put everything inside the global mpl namespace */\n",
       "/* global mpl */\n",
       "window.mpl = {};\n",
       "\n",
       "mpl.get_websocket_type = function () {\n",
       "    if (typeof WebSocket !== 'undefined') {\n",
       "        return WebSocket;\n",
       "    } else if (typeof MozWebSocket !== 'undefined') {\n",
       "        return MozWebSocket;\n",
       "    } else {\n",
       "        alert(\n",
       "            'Your browser does not have WebSocket support. ' +\n",
       "                'Please try Chrome, Safari or Firefox ≥ 6. ' +\n",
       "                'Firefox 4 and 5 are also supported but you ' +\n",
       "                'have to enable WebSockets in about:config.'\n",
       "        );\n",
       "    }\n",
       "};\n",
       "\n",
       "mpl.figure = function (figure_id, websocket, ondownload, parent_element) {\n",
       "    this.id = figure_id;\n",
       "\n",
       "    this.ws = websocket;\n",
       "\n",
       "    this.supports_binary = this.ws.binaryType !== undefined;\n",
       "\n",
       "    if (!this.supports_binary) {\n",
       "        var warnings = document.getElementById('mpl-warnings');\n",
       "        if (warnings) {\n",
       "            warnings.style.display = 'block';\n",
       "            warnings.textContent =\n",
       "                'This browser does not support binary websocket messages. ' +\n",
       "                'Performance may be slow.';\n",
       "        }\n",
       "    }\n",
       "\n",
       "    this.imageObj = new Image();\n",
       "\n",
       "    this.context = undefined;\n",
       "    this.message = undefined;\n",
       "    this.canvas = undefined;\n",
       "    this.rubberband_canvas = undefined;\n",
       "    this.rubberband_context = undefined;\n",
       "    this.format_dropdown = undefined;\n",
       "\n",
       "    this.image_mode = 'full';\n",
       "\n",
       "    this.root = document.createElement('div');\n",
       "    this.root.setAttribute('style', 'display: inline-block');\n",
       "    this._root_extra_style(this.root);\n",
       "\n",
       "    parent_element.appendChild(this.root);\n",
       "\n",
       "    this._init_header(this);\n",
       "    this._init_canvas(this);\n",
       "    this._init_toolbar(this);\n",
       "\n",
       "    var fig = this;\n",
       "\n",
       "    this.waiting = false;\n",
       "\n",
       "    this.ws.onopen = function () {\n",
       "        fig.send_message('supports_binary', { value: fig.supports_binary });\n",
       "        fig.send_message('send_image_mode', {});\n",
       "        if (fig.ratio !== 1) {\n",
       "            fig.send_message('set_device_pixel_ratio', {\n",
       "                device_pixel_ratio: fig.ratio,\n",
       "            });\n",
       "        }\n",
       "        fig.send_message('refresh', {});\n",
       "    };\n",
       "\n",
       "    this.imageObj.onload = function () {\n",
       "        if (fig.image_mode === 'full') {\n",
       "            // Full images could contain transparency (where diff images\n",
       "            // almost always do), so we need to clear the canvas so that\n",
       "            // there is no ghosting.\n",
       "            fig.context.clearRect(0, 0, fig.canvas.width, fig.canvas.height);\n",
       "        }\n",
       "        fig.context.drawImage(fig.imageObj, 0, 0);\n",
       "    };\n",
       "\n",
       "    this.imageObj.onunload = function () {\n",
       "        fig.ws.close();\n",
       "    };\n",
       "\n",
       "    this.ws.onmessage = this._make_on_message_function(this);\n",
       "\n",
       "    this.ondownload = ondownload;\n",
       "};\n",
       "\n",
       "mpl.figure.prototype._init_header = function () {\n",
       "    var titlebar = document.createElement('div');\n",
       "    titlebar.classList =\n",
       "        'ui-dialog-titlebar ui-widget-header ui-corner-all ui-helper-clearfix';\n",
       "    var titletext = document.createElement('div');\n",
       "    titletext.classList = 'ui-dialog-title';\n",
       "    titletext.setAttribute(\n",
       "        'style',\n",
       "        'width: 100%; text-align: center; padding: 3px;'\n",
       "    );\n",
       "    titlebar.appendChild(titletext);\n",
       "    this.root.appendChild(titlebar);\n",
       "    this.header = titletext;\n",
       "};\n",
       "\n",
       "mpl.figure.prototype._canvas_extra_style = function (_canvas_div) {};\n",
       "\n",
       "mpl.figure.prototype._root_extra_style = function (_canvas_div) {};\n",
       "\n",
       "mpl.figure.prototype._init_canvas = function () {\n",
       "    var fig = this;\n",
       "\n",
       "    var canvas_div = (this.canvas_div = document.createElement('div'));\n",
       "    canvas_div.setAttribute('tabindex', '0');\n",
       "    canvas_div.setAttribute(\n",
       "        'style',\n",
       "        'border: 1px solid #ddd;' +\n",
       "            'box-sizing: content-box;' +\n",
       "            'clear: both;' +\n",
       "            'min-height: 1px;' +\n",
       "            'min-width: 1px;' +\n",
       "            'outline: 0;' +\n",
       "            'overflow: hidden;' +\n",
       "            'position: relative;' +\n",
       "            'resize: both;' +\n",
       "            'z-index: 2;'\n",
       "    );\n",
       "\n",
       "    function on_keyboard_event_closure(name) {\n",
       "        return function (event) {\n",
       "            return fig.key_event(event, name);\n",
       "        };\n",
       "    }\n",
       "\n",
       "    canvas_div.addEventListener(\n",
       "        'keydown',\n",
       "        on_keyboard_event_closure('key_press')\n",
       "    );\n",
       "    canvas_div.addEventListener(\n",
       "        'keyup',\n",
       "        on_keyboard_event_closure('key_release')\n",
       "    );\n",
       "\n",
       "    this._canvas_extra_style(canvas_div);\n",
       "    this.root.appendChild(canvas_div);\n",
       "\n",
       "    var canvas = (this.canvas = document.createElement('canvas'));\n",
       "    canvas.classList.add('mpl-canvas');\n",
       "    canvas.setAttribute(\n",
       "        'style',\n",
       "        'box-sizing: content-box;' +\n",
       "            'pointer-events: none;' +\n",
       "            'position: relative;' +\n",
       "            'z-index: 0;'\n",
       "    );\n",
       "\n",
       "    this.context = canvas.getContext('2d');\n",
       "\n",
       "    var backingStore =\n",
       "        this.context.backingStorePixelRatio ||\n",
       "        this.context.webkitBackingStorePixelRatio ||\n",
       "        this.context.mozBackingStorePixelRatio ||\n",
       "        this.context.msBackingStorePixelRatio ||\n",
       "        this.context.oBackingStorePixelRatio ||\n",
       "        this.context.backingStorePixelRatio ||\n",
       "        1;\n",
       "\n",
       "    this.ratio = (window.devicePixelRatio || 1) / backingStore;\n",
       "\n",
       "    var rubberband_canvas = (this.rubberband_canvas = document.createElement(\n",
       "        'canvas'\n",
       "    ));\n",
       "    rubberband_canvas.setAttribute(\n",
       "        'style',\n",
       "        'box-sizing: content-box;' +\n",
       "            'left: 0;' +\n",
       "            'pointer-events: none;' +\n",
       "            'position: absolute;' +\n",
       "            'top: 0;' +\n",
       "            'z-index: 1;'\n",
       "    );\n",
       "\n",
       "    // Apply a ponyfill if ResizeObserver is not implemented by browser.\n",
       "    if (this.ResizeObserver === undefined) {\n",
       "        if (window.ResizeObserver !== undefined) {\n",
       "            this.ResizeObserver = window.ResizeObserver;\n",
       "        } else {\n",
       "            var obs = _JSXTOOLS_RESIZE_OBSERVER({});\n",
       "            this.ResizeObserver = obs.ResizeObserver;\n",
       "        }\n",
       "    }\n",
       "\n",
       "    this.resizeObserverInstance = new this.ResizeObserver(function (entries) {\n",
       "        var nentries = entries.length;\n",
       "        for (var i = 0; i < nentries; i++) {\n",
       "            var entry = entries[i];\n",
       "            var width, height;\n",
       "            if (entry.contentBoxSize) {\n",
       "                if (entry.contentBoxSize instanceof Array) {\n",
       "                    // Chrome 84 implements new version of spec.\n",
       "                    width = entry.contentBoxSize[0].inlineSize;\n",
       "                    height = entry.contentBoxSize[0].blockSize;\n",
       "                } else {\n",
       "                    // Firefox implements old version of spec.\n",
       "                    width = entry.contentBoxSize.inlineSize;\n",
       "                    height = entry.contentBoxSize.blockSize;\n",
       "                }\n",
       "            } else {\n",
       "                // Chrome <84 implements even older version of spec.\n",
       "                width = entry.contentRect.width;\n",
       "                height = entry.contentRect.height;\n",
       "            }\n",
       "\n",
       "            // Keep the size of the canvas and rubber band canvas in sync with\n",
       "            // the canvas container.\n",
       "            if (entry.devicePixelContentBoxSize) {\n",
       "                // Chrome 84 implements new version of spec.\n",
       "                canvas.setAttribute(\n",
       "                    'width',\n",
       "                    entry.devicePixelContentBoxSize[0].inlineSize\n",
       "                );\n",
       "                canvas.setAttribute(\n",
       "                    'height',\n",
       "                    entry.devicePixelContentBoxSize[0].blockSize\n",
       "                );\n",
       "            } else {\n",
       "                canvas.setAttribute('width', width * fig.ratio);\n",
       "                canvas.setAttribute('height', height * fig.ratio);\n",
       "            }\n",
       "            /* This rescales the canvas back to display pixels, so that it\n",
       "             * appears correct on HiDPI screens. */\n",
       "            canvas.style.width = width + 'px';\n",
       "            canvas.style.height = height + 'px';\n",
       "\n",
       "            rubberband_canvas.setAttribute('width', width);\n",
       "            rubberband_canvas.setAttribute('height', height);\n",
       "\n",
       "            // And update the size in Python. We ignore the initial 0/0 size\n",
       "            // that occurs as the element is placed into the DOM, which should\n",
       "            // otherwise not happen due to the minimum size styling.\n",
       "            if (fig.ws.readyState == 1 && width != 0 && height != 0) {\n",
       "                fig.request_resize(width, height);\n",
       "            }\n",
       "        }\n",
       "    });\n",
       "    this.resizeObserverInstance.observe(canvas_div);\n",
       "\n",
       "    function on_mouse_event_closure(name) {\n",
       "        /* User Agent sniffing is bad, but WebKit is busted:\n",
       "         * https://bugs.webkit.org/show_bug.cgi?id=144526\n",
       "         * https://bugs.webkit.org/show_bug.cgi?id=181818\n",
       "         * The worst that happens here is that they get an extra browser\n",
       "         * selection when dragging, if this check fails to catch them.\n",
       "         */\n",
       "        var UA = navigator.userAgent;\n",
       "        var isWebKit = /AppleWebKit/.test(UA) && !/Chrome/.test(UA);\n",
       "        if(isWebKit) {\n",
       "            return function (event) {\n",
       "                /* This prevents the web browser from automatically changing to\n",
       "                 * the text insertion cursor when the button is pressed. We\n",
       "                 * want to control all of the cursor setting manually through\n",
       "                 * the 'cursor' event from matplotlib */\n",
       "                event.preventDefault()\n",
       "                return fig.mouse_event(event, name);\n",
       "            };\n",
       "        } else {\n",
       "            return function (event) {\n",
       "                return fig.mouse_event(event, name);\n",
       "            };\n",
       "        }\n",
       "    }\n",
       "\n",
       "    canvas_div.addEventListener(\n",
       "        'mousedown',\n",
       "        on_mouse_event_closure('button_press')\n",
       "    );\n",
       "    canvas_div.addEventListener(\n",
       "        'mouseup',\n",
       "        on_mouse_event_closure('button_release')\n",
       "    );\n",
       "    canvas_div.addEventListener(\n",
       "        'dblclick',\n",
       "        on_mouse_event_closure('dblclick')\n",
       "    );\n",
       "    // Throttle sequential mouse events to 1 every 20ms.\n",
       "    canvas_div.addEventListener(\n",
       "        'mousemove',\n",
       "        on_mouse_event_closure('motion_notify')\n",
       "    );\n",
       "\n",
       "    canvas_div.addEventListener(\n",
       "        'mouseenter',\n",
       "        on_mouse_event_closure('figure_enter')\n",
       "    );\n",
       "    canvas_div.addEventListener(\n",
       "        'mouseleave',\n",
       "        on_mouse_event_closure('figure_leave')\n",
       "    );\n",
       "\n",
       "    canvas_div.addEventListener('wheel', function (event) {\n",
       "        if (event.deltaY < 0) {\n",
       "            event.step = 1;\n",
       "        } else {\n",
       "            event.step = -1;\n",
       "        }\n",
       "        on_mouse_event_closure('scroll')(event);\n",
       "    });\n",
       "\n",
       "    canvas_div.appendChild(canvas);\n",
       "    canvas_div.appendChild(rubberband_canvas);\n",
       "\n",
       "    this.rubberband_context = rubberband_canvas.getContext('2d');\n",
       "    this.rubberband_context.strokeStyle = '#000000';\n",
       "\n",
       "    this._resize_canvas = function (width, height, forward) {\n",
       "        if (forward) {\n",
       "            canvas_div.style.width = width + 'px';\n",
       "            canvas_div.style.height = height + 'px';\n",
       "        }\n",
       "    };\n",
       "\n",
       "    // Disable right mouse context menu.\n",
       "    canvas_div.addEventListener('contextmenu', function (_e) {\n",
       "        event.preventDefault();\n",
       "        return false;\n",
       "    });\n",
       "\n",
       "    function set_focus() {\n",
       "        canvas.focus();\n",
       "        canvas_div.focus();\n",
       "    }\n",
       "\n",
       "    window.setTimeout(set_focus, 100);\n",
       "};\n",
       "\n",
       "mpl.figure.prototype._init_toolbar = function () {\n",
       "    var fig = this;\n",
       "\n",
       "    var toolbar = document.createElement('div');\n",
       "    toolbar.classList = 'mpl-toolbar';\n",
       "    this.root.appendChild(toolbar);\n",
       "\n",
       "    function on_click_closure(name) {\n",
       "        return function (_event) {\n",
       "            return fig.toolbar_button_onclick(name);\n",
       "        };\n",
       "    }\n",
       "\n",
       "    function on_mouseover_closure(tooltip) {\n",
       "        return function (event) {\n",
       "            if (!event.currentTarget.disabled) {\n",
       "                return fig.toolbar_button_onmouseover(tooltip);\n",
       "            }\n",
       "        };\n",
       "    }\n",
       "\n",
       "    fig.buttons = {};\n",
       "    var buttonGroup = document.createElement('div');\n",
       "    buttonGroup.classList = 'mpl-button-group';\n",
       "    for (var toolbar_ind in mpl.toolbar_items) {\n",
       "        var name = mpl.toolbar_items[toolbar_ind][0];\n",
       "        var tooltip = mpl.toolbar_items[toolbar_ind][1];\n",
       "        var image = mpl.toolbar_items[toolbar_ind][2];\n",
       "        var method_name = mpl.toolbar_items[toolbar_ind][3];\n",
       "\n",
       "        if (!name) {\n",
       "            /* Instead of a spacer, we start a new button group. */\n",
       "            if (buttonGroup.hasChildNodes()) {\n",
       "                toolbar.appendChild(buttonGroup);\n",
       "            }\n",
       "            buttonGroup = document.createElement('div');\n",
       "            buttonGroup.classList = 'mpl-button-group';\n",
       "            continue;\n",
       "        }\n",
       "\n",
       "        var button = (fig.buttons[name] = document.createElement('button'));\n",
       "        button.classList = 'mpl-widget';\n",
       "        button.setAttribute('role', 'button');\n",
       "        button.setAttribute('aria-disabled', 'false');\n",
       "        button.addEventListener('click', on_click_closure(method_name));\n",
       "        button.addEventListener('mouseover', on_mouseover_closure(tooltip));\n",
       "\n",
       "        var icon_img = document.createElement('img');\n",
       "        icon_img.src = '_images/' + image + '.png';\n",
       "        icon_img.srcset = '_images/' + image + '_large.png 2x';\n",
       "        icon_img.alt = tooltip;\n",
       "        button.appendChild(icon_img);\n",
       "\n",
       "        buttonGroup.appendChild(button);\n",
       "    }\n",
       "\n",
       "    if (buttonGroup.hasChildNodes()) {\n",
       "        toolbar.appendChild(buttonGroup);\n",
       "    }\n",
       "\n",
       "    var fmt_picker = document.createElement('select');\n",
       "    fmt_picker.classList = 'mpl-widget';\n",
       "    toolbar.appendChild(fmt_picker);\n",
       "    this.format_dropdown = fmt_picker;\n",
       "\n",
       "    for (var ind in mpl.extensions) {\n",
       "        var fmt = mpl.extensions[ind];\n",
       "        var option = document.createElement('option');\n",
       "        option.selected = fmt === mpl.default_extension;\n",
       "        option.innerHTML = fmt;\n",
       "        fmt_picker.appendChild(option);\n",
       "    }\n",
       "\n",
       "    var status_bar = document.createElement('span');\n",
       "    status_bar.classList = 'mpl-message';\n",
       "    toolbar.appendChild(status_bar);\n",
       "    this.message = status_bar;\n",
       "};\n",
       "\n",
       "mpl.figure.prototype.request_resize = function (x_pixels, y_pixels) {\n",
       "    // Request matplotlib to resize the figure. Matplotlib will then trigger a resize in the client,\n",
       "    // which will in turn request a refresh of the image.\n",
       "    this.send_message('resize', { width: x_pixels, height: y_pixels });\n",
       "};\n",
       "\n",
       "mpl.figure.prototype.send_message = function (type, properties) {\n",
       "    properties['type'] = type;\n",
       "    properties['figure_id'] = this.id;\n",
       "    this.ws.send(JSON.stringify(properties));\n",
       "};\n",
       "\n",
       "mpl.figure.prototype.send_draw_message = function () {\n",
       "    if (!this.waiting) {\n",
       "        this.waiting = true;\n",
       "        this.ws.send(JSON.stringify({ type: 'draw', figure_id: this.id }));\n",
       "    }\n",
       "};\n",
       "\n",
       "mpl.figure.prototype.handle_save = function (fig, _msg) {\n",
       "    var format_dropdown = fig.format_dropdown;\n",
       "    var format = format_dropdown.options[format_dropdown.selectedIndex].value;\n",
       "    fig.ondownload(fig, format);\n",
       "};\n",
       "\n",
       "mpl.figure.prototype.handle_resize = function (fig, msg) {\n",
       "    var size = msg['size'];\n",
       "    if (size[0] !== fig.canvas.width || size[1] !== fig.canvas.height) {\n",
       "        fig._resize_canvas(size[0], size[1], msg['forward']);\n",
       "        fig.send_message('refresh', {});\n",
       "    }\n",
       "};\n",
       "\n",
       "mpl.figure.prototype.handle_rubberband = function (fig, msg) {\n",
       "    var x0 = msg['x0'] / fig.ratio;\n",
       "    var y0 = (fig.canvas.height - msg['y0']) / fig.ratio;\n",
       "    var x1 = msg['x1'] / fig.ratio;\n",
       "    var y1 = (fig.canvas.height - msg['y1']) / fig.ratio;\n",
       "    x0 = Math.floor(x0) + 0.5;\n",
       "    y0 = Math.floor(y0) + 0.5;\n",
       "    x1 = Math.floor(x1) + 0.5;\n",
       "    y1 = Math.floor(y1) + 0.5;\n",
       "    var min_x = Math.min(x0, x1);\n",
       "    var min_y = Math.min(y0, y1);\n",
       "    var width = Math.abs(x1 - x0);\n",
       "    var height = Math.abs(y1 - y0);\n",
       "\n",
       "    fig.rubberband_context.clearRect(\n",
       "        0,\n",
       "        0,\n",
       "        fig.canvas.width / fig.ratio,\n",
       "        fig.canvas.height / fig.ratio\n",
       "    );\n",
       "\n",
       "    fig.rubberband_context.strokeRect(min_x, min_y, width, height);\n",
       "};\n",
       "\n",
       "mpl.figure.prototype.handle_figure_label = function (fig, msg) {\n",
       "    // Updates the figure title.\n",
       "    fig.header.textContent = msg['label'];\n",
       "};\n",
       "\n",
       "mpl.figure.prototype.handle_cursor = function (fig, msg) {\n",
       "    fig.canvas_div.style.cursor = msg['cursor'];\n",
       "};\n",
       "\n",
       "mpl.figure.prototype.handle_message = function (fig, msg) {\n",
       "    fig.message.textContent = msg['message'];\n",
       "};\n",
       "\n",
       "mpl.figure.prototype.handle_draw = function (fig, _msg) {\n",
       "    // Request the server to send over a new figure.\n",
       "    fig.send_draw_message();\n",
       "};\n",
       "\n",
       "mpl.figure.prototype.handle_image_mode = function (fig, msg) {\n",
       "    fig.image_mode = msg['mode'];\n",
       "};\n",
       "\n",
       "mpl.figure.prototype.handle_history_buttons = function (fig, msg) {\n",
       "    for (var key in msg) {\n",
       "        if (!(key in fig.buttons)) {\n",
       "            continue;\n",
       "        }\n",
       "        fig.buttons[key].disabled = !msg[key];\n",
       "        fig.buttons[key].setAttribute('aria-disabled', !msg[key]);\n",
       "    }\n",
       "};\n",
       "\n",
       "mpl.figure.prototype.handle_navigate_mode = function (fig, msg) {\n",
       "    if (msg['mode'] === 'PAN') {\n",
       "        fig.buttons['Pan'].classList.add('active');\n",
       "        fig.buttons['Zoom'].classList.remove('active');\n",
       "    } else if (msg['mode'] === 'ZOOM') {\n",
       "        fig.buttons['Pan'].classList.remove('active');\n",
       "        fig.buttons['Zoom'].classList.add('active');\n",
       "    } else {\n",
       "        fig.buttons['Pan'].classList.remove('active');\n",
       "        fig.buttons['Zoom'].classList.remove('active');\n",
       "    }\n",
       "};\n",
       "\n",
       "mpl.figure.prototype.updated_canvas_event = function () {\n",
       "    // Called whenever the canvas gets updated.\n",
       "    this.send_message('ack', {});\n",
       "};\n",
       "\n",
       "// A function to construct a web socket function for onmessage handling.\n",
       "// Called in the figure constructor.\n",
       "mpl.figure.prototype._make_on_message_function = function (fig) {\n",
       "    return function socket_on_message(evt) {\n",
       "        if (evt.data instanceof Blob) {\n",
       "            var img = evt.data;\n",
       "            if (img.type !== 'image/png') {\n",
       "                /* FIXME: We get \"Resource interpreted as Image but\n",
       "                 * transferred with MIME type text/plain:\" errors on\n",
       "                 * Chrome.  But how to set the MIME type?  It doesn't seem\n",
       "                 * to be part of the websocket stream */\n",
       "                img.type = 'image/png';\n",
       "            }\n",
       "\n",
       "            /* Free the memory for the previous frames */\n",
       "            if (fig.imageObj.src) {\n",
       "                (window.URL || window.webkitURL).revokeObjectURL(\n",
       "                    fig.imageObj.src\n",
       "                );\n",
       "            }\n",
       "\n",
       "            fig.imageObj.src = (window.URL || window.webkitURL).createObjectURL(\n",
       "                img\n",
       "            );\n",
       "            fig.updated_canvas_event();\n",
       "            fig.waiting = false;\n",
       "            return;\n",
       "        } else if (\n",
       "            typeof evt.data === 'string' &&\n",
       "            evt.data.slice(0, 21) === 'data:image/png;base64'\n",
       "        ) {\n",
       "            fig.imageObj.src = evt.data;\n",
       "            fig.updated_canvas_event();\n",
       "            fig.waiting = false;\n",
       "            return;\n",
       "        }\n",
       "\n",
       "        var msg = JSON.parse(evt.data);\n",
       "        var msg_type = msg['type'];\n",
       "\n",
       "        // Call the  \"handle_{type}\" callback, which takes\n",
       "        // the figure and JSON message as its only arguments.\n",
       "        try {\n",
       "            var callback = fig['handle_' + msg_type];\n",
       "        } catch (e) {\n",
       "            console.log(\n",
       "                \"No handler for the '\" + msg_type + \"' message type: \",\n",
       "                msg\n",
       "            );\n",
       "            return;\n",
       "        }\n",
       "\n",
       "        if (callback) {\n",
       "            try {\n",
       "                // console.log(\"Handling '\" + msg_type + \"' message: \", msg);\n",
       "                callback(fig, msg);\n",
       "            } catch (e) {\n",
       "                console.log(\n",
       "                    \"Exception inside the 'handler_\" + msg_type + \"' callback:\",\n",
       "                    e,\n",
       "                    e.stack,\n",
       "                    msg\n",
       "                );\n",
       "            }\n",
       "        }\n",
       "    };\n",
       "};\n",
       "\n",
       "function getModifiers(event) {\n",
       "    var mods = [];\n",
       "    if (event.ctrlKey) {\n",
       "        mods.push('ctrl');\n",
       "    }\n",
       "    if (event.altKey) {\n",
       "        mods.push('alt');\n",
       "    }\n",
       "    if (event.shiftKey) {\n",
       "        mods.push('shift');\n",
       "    }\n",
       "    if (event.metaKey) {\n",
       "        mods.push('meta');\n",
       "    }\n",
       "    return mods;\n",
       "}\n",
       "\n",
       "/*\n",
       " * return a copy of an object with only non-object keys\n",
       " * we need this to avoid circular references\n",
       " * https://stackoverflow.com/a/24161582/3208463\n",
       " */\n",
       "function simpleKeys(original) {\n",
       "    return Object.keys(original).reduce(function (obj, key) {\n",
       "        if (typeof original[key] !== 'object') {\n",
       "            obj[key] = original[key];\n",
       "        }\n",
       "        return obj;\n",
       "    }, {});\n",
       "}\n",
       "\n",
       "mpl.figure.prototype.mouse_event = function (event, name) {\n",
       "    if (name === 'button_press') {\n",
       "        this.canvas.focus();\n",
       "        this.canvas_div.focus();\n",
       "    }\n",
       "\n",
       "    // from https://stackoverflow.com/q/1114465\n",
       "    var boundingRect = this.canvas.getBoundingClientRect();\n",
       "    var x = (event.clientX - boundingRect.left) * this.ratio;\n",
       "    var y = (event.clientY - boundingRect.top) * this.ratio;\n",
       "\n",
       "    this.send_message(name, {\n",
       "        x: x,\n",
       "        y: y,\n",
       "        button: event.button,\n",
       "        step: event.step,\n",
       "        modifiers: getModifiers(event),\n",
       "        guiEvent: simpleKeys(event),\n",
       "    });\n",
       "\n",
       "    return false;\n",
       "};\n",
       "\n",
       "mpl.figure.prototype._key_event_extra = function (_event, _name) {\n",
       "    // Handle any extra behaviour associated with a key event\n",
       "};\n",
       "\n",
       "mpl.figure.prototype.key_event = function (event, name) {\n",
       "    // Prevent repeat events\n",
       "    if (name === 'key_press') {\n",
       "        if (event.key === this._key) {\n",
       "            return;\n",
       "        } else {\n",
       "            this._key = event.key;\n",
       "        }\n",
       "    }\n",
       "    if (name === 'key_release') {\n",
       "        this._key = null;\n",
       "    }\n",
       "\n",
       "    var value = '';\n",
       "    if (event.ctrlKey && event.key !== 'Control') {\n",
       "        value += 'ctrl+';\n",
       "    }\n",
       "    else if (event.altKey && event.key !== 'Alt') {\n",
       "        value += 'alt+';\n",
       "    }\n",
       "    else if (event.shiftKey && event.key !== 'Shift') {\n",
       "        value += 'shift+';\n",
       "    }\n",
       "\n",
       "    value += 'k' + event.key;\n",
       "\n",
       "    this._key_event_extra(event, name);\n",
       "\n",
       "    this.send_message(name, { key: value, guiEvent: simpleKeys(event) });\n",
       "    return false;\n",
       "};\n",
       "\n",
       "mpl.figure.prototype.toolbar_button_onclick = function (name) {\n",
       "    if (name === 'download') {\n",
       "        this.handle_save(this, null);\n",
       "    } else {\n",
       "        this.send_message('toolbar_button', { name: name });\n",
       "    }\n",
       "};\n",
       "\n",
       "mpl.figure.prototype.toolbar_button_onmouseover = function (tooltip) {\n",
       "    this.message.textContent = tooltip;\n",
       "};\n",
       "\n",
       "///////////////// REMAINING CONTENT GENERATED BY embed_js.py /////////////////\n",
       "// prettier-ignore\n",
       "var _JSXTOOLS_RESIZE_OBSERVER=function(A){var t,i=new WeakMap,n=new WeakMap,a=new WeakMap,r=new WeakMap,o=new Set;function s(e){if(!(this instanceof s))throw new TypeError(\"Constructor requires 'new' operator\");i.set(this,e)}function h(){throw new TypeError(\"Function is not a constructor\")}function c(e,t,i,n){e=0 in arguments?Number(arguments[0]):0,t=1 in arguments?Number(arguments[1]):0,i=2 in arguments?Number(arguments[2]):0,n=3 in arguments?Number(arguments[3]):0,this.right=(this.x=this.left=e)+(this.width=i),this.bottom=(this.y=this.top=t)+(this.height=n),Object.freeze(this)}function d(){t=requestAnimationFrame(d);var s=new WeakMap,p=new Set;o.forEach((function(t){r.get(t).forEach((function(i){var r=t instanceof window.SVGElement,o=a.get(t),d=r?0:parseFloat(o.paddingTop),f=r?0:parseFloat(o.paddingRight),l=r?0:parseFloat(o.paddingBottom),u=r?0:parseFloat(o.paddingLeft),g=r?0:parseFloat(o.borderTopWidth),m=r?0:parseFloat(o.borderRightWidth),w=r?0:parseFloat(o.borderBottomWidth),b=u+f,F=d+l,v=(r?0:parseFloat(o.borderLeftWidth))+m,W=g+w,y=r?0:t.offsetHeight-W-t.clientHeight,E=r?0:t.offsetWidth-v-t.clientWidth,R=b+v,z=F+W,M=r?t.width:parseFloat(o.width)-R-E,O=r?t.height:parseFloat(o.height)-z-y;if(n.has(t)){var k=n.get(t);if(k[0]===M&&k[1]===O)return}n.set(t,[M,O]);var S=Object.create(h.prototype);S.target=t,S.contentRect=new c(u,d,M,O),s.has(i)||(s.set(i,[]),p.add(i)),s.get(i).push(S)}))})),p.forEach((function(e){i.get(e).call(e,s.get(e),e)}))}return s.prototype.observe=function(i){if(i instanceof window.Element){r.has(i)||(r.set(i,new Set),o.add(i),a.set(i,window.getComputedStyle(i)));var n=r.get(i);n.has(this)||n.add(this),cancelAnimationFrame(t),t=requestAnimationFrame(d)}},s.prototype.unobserve=function(i){if(i instanceof window.Element&&r.has(i)){var n=r.get(i);n.has(this)&&(n.delete(this),n.size||(r.delete(i),o.delete(i))),n.size||r.delete(i),o.size||cancelAnimationFrame(t)}},A.DOMRectReadOnly=c,A.ResizeObserver=s,A.ResizeObserverEntry=h,A}; // eslint-disable-line\n",
       "mpl.toolbar_items = [[\"Home\", \"Reset original view\", \"fa fa-home\", \"home\"], [\"Back\", \"Back to previous view\", \"fa fa-arrow-left\", \"back\"], [\"Forward\", \"Forward to next view\", \"fa fa-arrow-right\", \"forward\"], [\"\", \"\", \"\", \"\"], [\"Pan\", \"Left button pans, Right button zooms\\nx/y fixes axis, CTRL fixes aspect\", \"fa fa-arrows\", \"pan\"], [\"Zoom\", \"Zoom to rectangle\\nx/y fixes axis\", \"fa fa-square-o\", \"zoom\"], [\"\", \"\", \"\", \"\"], [\"Download\", \"Download plot\", \"fa fa-floppy-o\", \"download\"]];\n",
       "\n",
       "mpl.extensions = [\"eps\", \"jpeg\", \"pgf\", \"pdf\", \"png\", \"ps\", \"raw\", \"svg\", \"tif\", \"webp\"];\n",
       "\n",
       "mpl.default_extension = \"png\";/* global mpl */\n",
       "\n",
       "var comm_websocket_adapter = function (comm) {\n",
       "    // Create a \"websocket\"-like object which calls the given IPython comm\n",
       "    // object with the appropriate methods. Currently this is a non binary\n",
       "    // socket, so there is still some room for performance tuning.\n",
       "    var ws = {};\n",
       "\n",
       "    ws.binaryType = comm.kernel.ws.binaryType;\n",
       "    ws.readyState = comm.kernel.ws.readyState;\n",
       "    function updateReadyState(_event) {\n",
       "        if (comm.kernel.ws) {\n",
       "            ws.readyState = comm.kernel.ws.readyState;\n",
       "        } else {\n",
       "            ws.readyState = 3; // Closed state.\n",
       "        }\n",
       "    }\n",
       "    comm.kernel.ws.addEventListener('open', updateReadyState);\n",
       "    comm.kernel.ws.addEventListener('close', updateReadyState);\n",
       "    comm.kernel.ws.addEventListener('error', updateReadyState);\n",
       "\n",
       "    ws.close = function () {\n",
       "        comm.close();\n",
       "    };\n",
       "    ws.send = function (m) {\n",
       "        //console.log('sending', m);\n",
       "        comm.send(m);\n",
       "    };\n",
       "    // Register the callback with on_msg.\n",
       "    comm.on_msg(function (msg) {\n",
       "        //console.log('receiving', msg['content']['data'], msg);\n",
       "        var data = msg['content']['data'];\n",
       "        if (data['blob'] !== undefined) {\n",
       "            data = {\n",
       "                data: new Blob(msg['buffers'], { type: data['blob'] }),\n",
       "            };\n",
       "        }\n",
       "        // Pass the mpl event to the overridden (by mpl) onmessage function.\n",
       "        ws.onmessage(data);\n",
       "    });\n",
       "    return ws;\n",
       "};\n",
       "\n",
       "mpl.mpl_figure_comm = function (comm, msg) {\n",
       "    // This is the function which gets called when the mpl process\n",
       "    // starts-up an IPython Comm through the \"matplotlib\" channel.\n",
       "\n",
       "    var id = msg.content.data.id;\n",
       "    // Get hold of the div created by the display call when the Comm\n",
       "    // socket was opened in Python.\n",
       "    var element = document.getElementById(id);\n",
       "    var ws_proxy = comm_websocket_adapter(comm);\n",
       "\n",
       "    function ondownload(figure, _format) {\n",
       "        window.open(figure.canvas.toDataURL());\n",
       "    }\n",
       "\n",
       "    var fig = new mpl.figure(id, ws_proxy, ondownload, element);\n",
       "\n",
       "    // Call onopen now - mpl needs it, as it is assuming we've passed it a real\n",
       "    // web socket which is closed, not our websocket->open comm proxy.\n",
       "    ws_proxy.onopen();\n",
       "\n",
       "    fig.parent_element = element;\n",
       "    fig.cell_info = mpl.find_output_cell(\"<div id='\" + id + \"'></div>\");\n",
       "    if (!fig.cell_info) {\n",
       "        console.error('Failed to find cell for figure', id, fig);\n",
       "        return;\n",
       "    }\n",
       "    fig.cell_info[0].output_area.element.on(\n",
       "        'cleared',\n",
       "        { fig: fig },\n",
       "        fig._remove_fig_handler\n",
       "    );\n",
       "};\n",
       "\n",
       "mpl.figure.prototype.handle_close = function (fig, msg) {\n",
       "    var width = fig.canvas.width / fig.ratio;\n",
       "    fig.cell_info[0].output_area.element.off(\n",
       "        'cleared',\n",
       "        fig._remove_fig_handler\n",
       "    );\n",
       "    fig.resizeObserverInstance.unobserve(fig.canvas_div);\n",
       "\n",
       "    // Update the output cell to use the data from the current canvas.\n",
       "    fig.push_to_output();\n",
       "    var dataURL = fig.canvas.toDataURL();\n",
       "    // Re-enable the keyboard manager in IPython - without this line, in FF,\n",
       "    // the notebook keyboard shortcuts fail.\n",
       "    IPython.keyboard_manager.enable();\n",
       "    fig.parent_element.innerHTML =\n",
       "        '<img src=\"' + dataURL + '\" width=\"' + width + '\">';\n",
       "    fig.close_ws(fig, msg);\n",
       "};\n",
       "\n",
       "mpl.figure.prototype.close_ws = function (fig, msg) {\n",
       "    fig.send_message('closing', msg);\n",
       "    // fig.ws.close()\n",
       "};\n",
       "\n",
       "mpl.figure.prototype.push_to_output = function (_remove_interactive) {\n",
       "    // Turn the data on the canvas into data in the output cell.\n",
       "    var width = this.canvas.width / this.ratio;\n",
       "    var dataURL = this.canvas.toDataURL();\n",
       "    this.cell_info[1]['text/html'] =\n",
       "        '<img src=\"' + dataURL + '\" width=\"' + width + '\">';\n",
       "};\n",
       "\n",
       "mpl.figure.prototype.updated_canvas_event = function () {\n",
       "    // Tell IPython that the notebook contents must change.\n",
       "    IPython.notebook.set_dirty(true);\n",
       "    this.send_message('ack', {});\n",
       "    var fig = this;\n",
       "    // Wait a second, then push the new image to the DOM so\n",
       "    // that it is saved nicely (might be nice to debounce this).\n",
       "    setTimeout(function () {\n",
       "        fig.push_to_output();\n",
       "    }, 1000);\n",
       "};\n",
       "\n",
       "mpl.figure.prototype._init_toolbar = function () {\n",
       "    var fig = this;\n",
       "\n",
       "    var toolbar = document.createElement('div');\n",
       "    toolbar.classList = 'btn-toolbar';\n",
       "    this.root.appendChild(toolbar);\n",
       "\n",
       "    function on_click_closure(name) {\n",
       "        return function (_event) {\n",
       "            return fig.toolbar_button_onclick(name);\n",
       "        };\n",
       "    }\n",
       "\n",
       "    function on_mouseover_closure(tooltip) {\n",
       "        return function (event) {\n",
       "            if (!event.currentTarget.disabled) {\n",
       "                return fig.toolbar_button_onmouseover(tooltip);\n",
       "            }\n",
       "        };\n",
       "    }\n",
       "\n",
       "    fig.buttons = {};\n",
       "    var buttonGroup = document.createElement('div');\n",
       "    buttonGroup.classList = 'btn-group';\n",
       "    var button;\n",
       "    for (var toolbar_ind in mpl.toolbar_items) {\n",
       "        var name = mpl.toolbar_items[toolbar_ind][0];\n",
       "        var tooltip = mpl.toolbar_items[toolbar_ind][1];\n",
       "        var image = mpl.toolbar_items[toolbar_ind][2];\n",
       "        var method_name = mpl.toolbar_items[toolbar_ind][3];\n",
       "\n",
       "        if (!name) {\n",
       "            /* Instead of a spacer, we start a new button group. */\n",
       "            if (buttonGroup.hasChildNodes()) {\n",
       "                toolbar.appendChild(buttonGroup);\n",
       "            }\n",
       "            buttonGroup = document.createElement('div');\n",
       "            buttonGroup.classList = 'btn-group';\n",
       "            continue;\n",
       "        }\n",
       "\n",
       "        button = fig.buttons[name] = document.createElement('button');\n",
       "        button.classList = 'btn btn-default';\n",
       "        button.href = '#';\n",
       "        button.title = name;\n",
       "        button.innerHTML = '<i class=\"fa ' + image + ' fa-lg\"></i>';\n",
       "        button.addEventListener('click', on_click_closure(method_name));\n",
       "        button.addEventListener('mouseover', on_mouseover_closure(tooltip));\n",
       "        buttonGroup.appendChild(button);\n",
       "    }\n",
       "\n",
       "    if (buttonGroup.hasChildNodes()) {\n",
       "        toolbar.appendChild(buttonGroup);\n",
       "    }\n",
       "\n",
       "    // Add the status bar.\n",
       "    var status_bar = document.createElement('span');\n",
       "    status_bar.classList = 'mpl-message pull-right';\n",
       "    toolbar.appendChild(status_bar);\n",
       "    this.message = status_bar;\n",
       "\n",
       "    // Add the close button to the window.\n",
       "    var buttongrp = document.createElement('div');\n",
       "    buttongrp.classList = 'btn-group inline pull-right';\n",
       "    button = document.createElement('button');\n",
       "    button.classList = 'btn btn-mini btn-primary';\n",
       "    button.href = '#';\n",
       "    button.title = 'Stop Interaction';\n",
       "    button.innerHTML = '<i class=\"fa fa-power-off icon-remove icon-large\"></i>';\n",
       "    button.addEventListener('click', function (_evt) {\n",
       "        fig.handle_close(fig, {});\n",
       "    });\n",
       "    button.addEventListener(\n",
       "        'mouseover',\n",
       "        on_mouseover_closure('Stop Interaction')\n",
       "    );\n",
       "    buttongrp.appendChild(button);\n",
       "    var titlebar = this.root.querySelector('.ui-dialog-titlebar');\n",
       "    titlebar.insertBefore(buttongrp, titlebar.firstChild);\n",
       "};\n",
       "\n",
       "mpl.figure.prototype._remove_fig_handler = function (event) {\n",
       "    var fig = event.data.fig;\n",
       "    if (event.target !== this) {\n",
       "        // Ignore bubbled events from children.\n",
       "        return;\n",
       "    }\n",
       "    fig.close_ws(fig, {});\n",
       "};\n",
       "\n",
       "mpl.figure.prototype._root_extra_style = function (el) {\n",
       "    el.style.boxSizing = 'content-box'; // override notebook setting of border-box.\n",
       "};\n",
       "\n",
       "mpl.figure.prototype._canvas_extra_style = function (el) {\n",
       "    // this is important to make the div 'focusable\n",
       "    el.setAttribute('tabindex', 0);\n",
       "    // reach out to IPython and tell the keyboard manager to turn it's self\n",
       "    // off when our div gets focus\n",
       "\n",
       "    // location in version 3\n",
       "    if (IPython.notebook.keyboard_manager) {\n",
       "        IPython.notebook.keyboard_manager.register_events(el);\n",
       "    } else {\n",
       "        // location in version 2\n",
       "        IPython.keyboard_manager.register_events(el);\n",
       "    }\n",
       "};\n",
       "\n",
       "mpl.figure.prototype._key_event_extra = function (event, _name) {\n",
       "    // Check for shift+enter\n",
       "    if (event.shiftKey && event.which === 13) {\n",
       "        this.canvas_div.blur();\n",
       "        // select the cell after this one\n",
       "        var index = IPython.notebook.find_cell_index(this.cell_info[0]);\n",
       "        IPython.notebook.select(index + 1);\n",
       "    }\n",
       "};\n",
       "\n",
       "mpl.figure.prototype.handle_save = function (fig, _msg) {\n",
       "    fig.ondownload(fig, null);\n",
       "};\n",
       "\n",
       "mpl.find_output_cell = function (html_output) {\n",
       "    // Return the cell and output element which can be found *uniquely* in the notebook.\n",
       "    // Note - this is a bit hacky, but it is done because the \"notebook_saving.Notebook\"\n",
       "    // IPython event is triggered only after the cells have been serialised, which for\n",
       "    // our purposes (turning an active figure into a static one), is too late.\n",
       "    var cells = IPython.notebook.get_cells();\n",
       "    var ncells = cells.length;\n",
       "    for (var i = 0; i < ncells; i++) {\n",
       "        var cell = cells[i];\n",
       "        if (cell.cell_type === 'code') {\n",
       "            for (var j = 0; j < cell.output_area.outputs.length; j++) {\n",
       "                var data = cell.output_area.outputs[j];\n",
       "                if (data.data) {\n",
       "                    // IPython >= 3 moved mimebundle to data attribute of output\n",
       "                    data = data.data;\n",
       "                }\n",
       "                if (data['text/html'] === html_output) {\n",
       "                    return [cell, data, j];\n",
       "                }\n",
       "            }\n",
       "        }\n",
       "    }\n",
       "};\n",
       "\n",
       "// Register the function which deals with the matplotlib target/channel.\n",
       "// The kernel may be null if the page has been refreshed.\n",
       "if (IPython.notebook.kernel !== null) {\n",
       "    IPython.notebook.kernel.comm_manager.register_target(\n",
       "        'matplotlib',\n",
       "        mpl.mpl_figure_comm\n",
       "    );\n",
       "}\n"
      ],
      "text/plain": [
       "<IPython.core.display.Javascript object>"
      ]
     },
     "metadata": {},
     "output_type": "display_data"
    },
    {
     "data": {
      "text/html": [
       "<img src=\"data:image/png;base64,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\" width=\"1200\">"
      ],
      "text/plain": [
       "<IPython.core.display.HTML object>"
      ]
     },
     "metadata": {},
     "output_type": "display_data"
    },
    {
     "name": "stdout",
     "output_type": "stream",
     "text": [
      "\n",
      "Starting Epoch: 0\n",
      "\n",
      "Starting Epoch: 10\n",
      "\n",
      "Starting Epoch: 20\n",
      "\n",
      "Starting Epoch: 30\n",
      "\n",
      "Starting Epoch: 40\n",
      "\n",
      "Starting Epoch: 50\n",
      "\n",
      "Starting Epoch: 60\n",
      "\n",
      "Starting Epoch: 70\n",
      "\n",
      "Starting Epoch: 80\n",
      "\n",
      "Starting Epoch: 90\n",
      "\n",
      "Starting Epoch: 100\n",
      "\n",
      "Starting Epoch: 110\n",
      "\n",
      "Starting Epoch: 120\n",
      "\n",
      "Starting Epoch: 130\n",
      "\n",
      "Starting Epoch: 140\n"
     ]
    }
   ],
   "source": [
    "# YOUR CODE HERE\n",
    "import warnings\n",
    "warnings.filterwarnings('ignore')\n",
    "\n",
    "rnn = RNN(input_size=57, hidden_size=256, output_size=41)\n",
    "batch_size = 2**13           # 2**12    2*13     2**12\n",
    "n_epochs = 200               # 200      400      400\n",
    "learning_rate = 0.005        # 0.005    0.005    0.005\n",
    "\n",
    "train(rnn, n_epochs, learning_rate, batch_size, train_dataset, val_dataset)"
   ]
  },
  {
   "cell_type": "markdown",
   "metadata": {
    "deletable": false,
    "editable": false,
    "nbgrader": {
     "cell_type": "markdown",
     "checksum": "ec7510ce50876d9072ff172b5a6bed05",
     "grade": false,
     "grade_id": "cell-b59e32abfa0bf9ef",
     "locked": true,
     "schema_version": 3,
     "solution": false
    }
   },
   "source": [
    "Make sure you obtain at least 0.3 F1-score in the validation set before proceeding."
   ]
  },
  {
   "cell_type": "code",
   "execution_count": 34,
   "metadata": {},
   "outputs": [],
   "source": [
    "plt.show()"
   ]
  },
  {
   "cell_type": "markdown",
   "metadata": {
    "deletable": false,
    "editable": false,
    "nbgrader": {
     "cell_type": "markdown",
     "checksum": "0c90c4448ae9e3cfffa5e8dc30b21411",
     "grade": false,
     "grade_id": "cell-09fe0d5786ed0073",
     "locked": true,
     "schema_version": 3,
     "solution": false
    }
   },
   "source": [
    "### 1.6 Evaluation"
   ]
  },
  {
   "cell_type": "markdown",
   "metadata": {
    "deletable": false,
    "editable": false,
    "nbgrader": {
     "cell_type": "markdown",
     "checksum": "32ba20bdba94d72537d559f5d7fed869",
     "grade": false,
     "grade_id": "cell-098308391c682cd8",
     "locked": true,
     "schema_version": 3,
     "solution": false
    }
   },
   "source": [
    "Now that our model is trained, we can evaluate its predictions on the test set. "
   ]
  },
  {
   "cell_type": "code",
   "execution_count": 36,
   "metadata": {
    "deletable": false,
    "editable": false,
    "nbgrader": {
     "cell_type": "code",
     "checksum": "d028367fa4f2b8e07b9f412bc0dc82cc",
     "grade": false,
     "grade_id": "cell-ee9fecbd4fc5e6cd",
     "locked": true,
     "schema_version": 3,
     "solution": false
    }
   },
   "outputs": [],
   "source": [
    "# Get all samples from the test set\n",
    "x_test, y_test = test_dataset[:]\n",
    "\n",
    "# Compute predictions\n",
    "with torch.no_grad():\n",
    "    test_out, _ = batch_forward_prop(rnn, x_test, y_test)\n",
    "\n",
    "# Transform them into hard predictions\n",
    "preds = test_out.argmax(dim=1)\n",
    "\n",
    "# Get `preds` as a numpy array\n",
    "preds = preds.cpu().numpy()"
   ]
  },
  {
   "cell_type": "markdown",
   "metadata": {
    "deletable": false,
    "editable": false,
    "nbgrader": {
     "cell_type": "markdown",
     "checksum": "5fdeb2d6a4e4a5402f0feb9554634e15",
     "grade": false,
     "grade_id": "cell-6968066e3b5b4085",
     "locked": true,
     "schema_version": 3,
     "solution": false
    }
   },
   "source": [
    "Using these predictions, we can compute the confusion matrix on the test set as follows."
   ]
  },
  {
   "cell_type": "code",
   "execution_count": 37,
   "metadata": {
    "deletable": false,
    "editable": false,
    "nbgrader": {
     "cell_type": "code",
     "checksum": "2ca8a97e26fea408fe09e4eed8350526",
     "grade": false,
     "grade_id": "cell-003dfbe728ab93f4",
     "locked": true,
     "schema_version": 3,
     "solution": false
    }
   },
   "outputs": [
    {
     "data": {
      "text/plain": [
       "array([[0.04545455, 0.01948052, 0.01948052, ..., 0.00649351, 0.01948052,\n",
       "        0.01298701],\n",
       "       [0.        , 0.10714286, 0.        , ..., 0.03571429, 0.        ,\n",
       "        0.        ],\n",
       "       [0.0202952 , 0.00922509, 0.04612546, ..., 0.01107011, 0.00553506,\n",
       "        0.01291513],\n",
       "       ...,\n",
       "       [0.00510204, 0.01020408, 0.        , ..., 0.67346939, 0.00510204,\n",
       "        0.01020408],\n",
       "       [0.00510204, 0.01020408, 0.        , ..., 0.05102041, 0.55102041,\n",
       "        0.0255102 ],\n",
       "       [0.        , 0.02380952, 0.02380952, ..., 0.14285714, 0.14285714,\n",
       "        0.16666667]])"
      ]
     },
     "execution_count": 37,
     "metadata": {},
     "output_type": "execute_result"
    }
   ],
   "source": [
    "from sklearn.metrics import confusion_matrix\n",
    "\n",
    "# Compute the confusion matrix\n",
    "y_true = y_test.cpu().numpy()\n",
    "cm = confusion_matrix(y_true, preds)\n",
    "cm = cm.astype('float64')\n",
    "\n",
    "# Normalize each row\n",
    "for i in range(cm.shape[0]):\n",
    "    cm[i, :] = cm[i, :] / sum(cm[i, :])\n",
    "    \n",
    "cm"
   ]
  },
  {
   "cell_type": "markdown",
   "metadata": {
    "deletable": false,
    "editable": false,
    "nbgrader": {
     "cell_type": "markdown",
     "checksum": "498ae92e6253b9951570fd782bb67f28",
     "grade": false,
     "grade_id": "cell-d0a5d53862716ff5",
     "locked": true,
     "schema_version": 3,
     "solution": false
    }
   },
   "source": [
    "In order to make this easier to visualize, let's plot it as a heat map:"
   ]
  },
  {
   "cell_type": "code",
   "execution_count": 38,
   "metadata": {
    "deletable": false,
    "editable": false,
    "nbgrader": {
     "cell_type": "code",
     "checksum": "5eed47cfe9145966604d70f8a0ae1ab5",
     "grade": false,
     "grade_id": "cell-0ac30bac8eee0481",
     "locked": true,
     "schema_version": 3,
     "solution": false
    }
   },
   "outputs": [
    {
     "data": {
      "application/javascript": [
       "/* Put everything inside the global mpl namespace */\n",
       "/* global mpl */\n",
       "window.mpl = {};\n",
       "\n",
       "mpl.get_websocket_type = function () {\n",
       "    if (typeof WebSocket !== 'undefined') {\n",
       "        return WebSocket;\n",
       "    } else if (typeof MozWebSocket !== 'undefined') {\n",
       "        return MozWebSocket;\n",
       "    } else {\n",
       "        alert(\n",
       "            'Your browser does not have WebSocket support. ' +\n",
       "                'Please try Chrome, Safari or Firefox ≥ 6. ' +\n",
       "                'Firefox 4 and 5 are also supported but you ' +\n",
       "                'have to enable WebSockets in about:config.'\n",
       "        );\n",
       "    }\n",
       "};\n",
       "\n",
       "mpl.figure = function (figure_id, websocket, ondownload, parent_element) {\n",
       "    this.id = figure_id;\n",
       "\n",
       "    this.ws = websocket;\n",
       "\n",
       "    this.supports_binary = this.ws.binaryType !== undefined;\n",
       "\n",
       "    if (!this.supports_binary) {\n",
       "        var warnings = document.getElementById('mpl-warnings');\n",
       "        if (warnings) {\n",
       "            warnings.style.display = 'block';\n",
       "            warnings.textContent =\n",
       "                'This browser does not support binary websocket messages. ' +\n",
       "                'Performance may be slow.';\n",
       "        }\n",
       "    }\n",
       "\n",
       "    this.imageObj = new Image();\n",
       "\n",
       "    this.context = undefined;\n",
       "    this.message = undefined;\n",
       "    this.canvas = undefined;\n",
       "    this.rubberband_canvas = undefined;\n",
       "    this.rubberband_context = undefined;\n",
       "    this.format_dropdown = undefined;\n",
       "\n",
       "    this.image_mode = 'full';\n",
       "\n",
       "    this.root = document.createElement('div');\n",
       "    this.root.setAttribute('style', 'display: inline-block');\n",
       "    this._root_extra_style(this.root);\n",
       "\n",
       "    parent_element.appendChild(this.root);\n",
       "\n",
       "    this._init_header(this);\n",
       "    this._init_canvas(this);\n",
       "    this._init_toolbar(this);\n",
       "\n",
       "    var fig = this;\n",
       "\n",
       "    this.waiting = false;\n",
       "\n",
       "    this.ws.onopen = function () {\n",
       "        fig.send_message('supports_binary', { value: fig.supports_binary });\n",
       "        fig.send_message('send_image_mode', {});\n",
       "        if (fig.ratio !== 1) {\n",
       "            fig.send_message('set_device_pixel_ratio', {\n",
       "                device_pixel_ratio: fig.ratio,\n",
       "            });\n",
       "        }\n",
       "        fig.send_message('refresh', {});\n",
       "    };\n",
       "\n",
       "    this.imageObj.onload = function () {\n",
       "        if (fig.image_mode === 'full') {\n",
       "            // Full images could contain transparency (where diff images\n",
       "            // almost always do), so we need to clear the canvas so that\n",
       "            // there is no ghosting.\n",
       "            fig.context.clearRect(0, 0, fig.canvas.width, fig.canvas.height);\n",
       "        }\n",
       "        fig.context.drawImage(fig.imageObj, 0, 0);\n",
       "    };\n",
       "\n",
       "    this.imageObj.onunload = function () {\n",
       "        fig.ws.close();\n",
       "    };\n",
       "\n",
       "    this.ws.onmessage = this._make_on_message_function(this);\n",
       "\n",
       "    this.ondownload = ondownload;\n",
       "};\n",
       "\n",
       "mpl.figure.prototype._init_header = function () {\n",
       "    var titlebar = document.createElement('div');\n",
       "    titlebar.classList =\n",
       "        'ui-dialog-titlebar ui-widget-header ui-corner-all ui-helper-clearfix';\n",
       "    var titletext = document.createElement('div');\n",
       "    titletext.classList = 'ui-dialog-title';\n",
       "    titletext.setAttribute(\n",
       "        'style',\n",
       "        'width: 100%; text-align: center; padding: 3px;'\n",
       "    );\n",
       "    titlebar.appendChild(titletext);\n",
       "    this.root.appendChild(titlebar);\n",
       "    this.header = titletext;\n",
       "};\n",
       "\n",
       "mpl.figure.prototype._canvas_extra_style = function (_canvas_div) {};\n",
       "\n",
       "mpl.figure.prototype._root_extra_style = function (_canvas_div) {};\n",
       "\n",
       "mpl.figure.prototype._init_canvas = function () {\n",
       "    var fig = this;\n",
       "\n",
       "    var canvas_div = (this.canvas_div = document.createElement('div'));\n",
       "    canvas_div.setAttribute('tabindex', '0');\n",
       "    canvas_div.setAttribute(\n",
       "        'style',\n",
       "        'border: 1px solid #ddd;' +\n",
       "            'box-sizing: content-box;' +\n",
       "            'clear: both;' +\n",
       "            'min-height: 1px;' +\n",
       "            'min-width: 1px;' +\n",
       "            'outline: 0;' +\n",
       "            'overflow: hidden;' +\n",
       "            'position: relative;' +\n",
       "            'resize: both;' +\n",
       "            'z-index: 2;'\n",
       "    );\n",
       "\n",
       "    function on_keyboard_event_closure(name) {\n",
       "        return function (event) {\n",
       "            return fig.key_event(event, name);\n",
       "        };\n",
       "    }\n",
       "\n",
       "    canvas_div.addEventListener(\n",
       "        'keydown',\n",
       "        on_keyboard_event_closure('key_press')\n",
       "    );\n",
       "    canvas_div.addEventListener(\n",
       "        'keyup',\n",
       "        on_keyboard_event_closure('key_release')\n",
       "    );\n",
       "\n",
       "    this._canvas_extra_style(canvas_div);\n",
       "    this.root.appendChild(canvas_div);\n",
       "\n",
       "    var canvas = (this.canvas = document.createElement('canvas'));\n",
       "    canvas.classList.add('mpl-canvas');\n",
       "    canvas.setAttribute(\n",
       "        'style',\n",
       "        'box-sizing: content-box;' +\n",
       "            'pointer-events: none;' +\n",
       "            'position: relative;' +\n",
       "            'z-index: 0;'\n",
       "    );\n",
       "\n",
       "    this.context = canvas.getContext('2d');\n",
       "\n",
       "    var backingStore =\n",
       "        this.context.backingStorePixelRatio ||\n",
       "        this.context.webkitBackingStorePixelRatio ||\n",
       "        this.context.mozBackingStorePixelRatio ||\n",
       "        this.context.msBackingStorePixelRatio ||\n",
       "        this.context.oBackingStorePixelRatio ||\n",
       "        this.context.backingStorePixelRatio ||\n",
       "        1;\n",
       "\n",
       "    this.ratio = (window.devicePixelRatio || 1) / backingStore;\n",
       "\n",
       "    var rubberband_canvas = (this.rubberband_canvas = document.createElement(\n",
       "        'canvas'\n",
       "    ));\n",
       "    rubberband_canvas.setAttribute(\n",
       "        'style',\n",
       "        'box-sizing: content-box;' +\n",
       "            'left: 0;' +\n",
       "            'pointer-events: none;' +\n",
       "            'position: absolute;' +\n",
       "            'top: 0;' +\n",
       "            'z-index: 1;'\n",
       "    );\n",
       "\n",
       "    // Apply a ponyfill if ResizeObserver is not implemented by browser.\n",
       "    if (this.ResizeObserver === undefined) {\n",
       "        if (window.ResizeObserver !== undefined) {\n",
       "            this.ResizeObserver = window.ResizeObserver;\n",
       "        } else {\n",
       "            var obs = _JSXTOOLS_RESIZE_OBSERVER({});\n",
       "            this.ResizeObserver = obs.ResizeObserver;\n",
       "        }\n",
       "    }\n",
       "\n",
       "    this.resizeObserverInstance = new this.ResizeObserver(function (entries) {\n",
       "        var nentries = entries.length;\n",
       "        for (var i = 0; i < nentries; i++) {\n",
       "            var entry = entries[i];\n",
       "            var width, height;\n",
       "            if (entry.contentBoxSize) {\n",
       "                if (entry.contentBoxSize instanceof Array) {\n",
       "                    // Chrome 84 implements new version of spec.\n",
       "                    width = entry.contentBoxSize[0].inlineSize;\n",
       "                    height = entry.contentBoxSize[0].blockSize;\n",
       "                } else {\n",
       "                    // Firefox implements old version of spec.\n",
       "                    width = entry.contentBoxSize.inlineSize;\n",
       "                    height = entry.contentBoxSize.blockSize;\n",
       "                }\n",
       "            } else {\n",
       "                // Chrome <84 implements even older version of spec.\n",
       "                width = entry.contentRect.width;\n",
       "                height = entry.contentRect.height;\n",
       "            }\n",
       "\n",
       "            // Keep the size of the canvas and rubber band canvas in sync with\n",
       "            // the canvas container.\n",
       "            if (entry.devicePixelContentBoxSize) {\n",
       "                // Chrome 84 implements new version of spec.\n",
       "                canvas.setAttribute(\n",
       "                    'width',\n",
       "                    entry.devicePixelContentBoxSize[0].inlineSize\n",
       "                );\n",
       "                canvas.setAttribute(\n",
       "                    'height',\n",
       "                    entry.devicePixelContentBoxSize[0].blockSize\n",
       "                );\n",
       "            } else {\n",
       "                canvas.setAttribute('width', width * fig.ratio);\n",
       "                canvas.setAttribute('height', height * fig.ratio);\n",
       "            }\n",
       "            /* This rescales the canvas back to display pixels, so that it\n",
       "             * appears correct on HiDPI screens. */\n",
       "            canvas.style.width = width + 'px';\n",
       "            canvas.style.height = height + 'px';\n",
       "\n",
       "            rubberband_canvas.setAttribute('width', width);\n",
       "            rubberband_canvas.setAttribute('height', height);\n",
       "\n",
       "            // And update the size in Python. We ignore the initial 0/0 size\n",
       "            // that occurs as the element is placed into the DOM, which should\n",
       "            // otherwise not happen due to the minimum size styling.\n",
       "            if (fig.ws.readyState == 1 && width != 0 && height != 0) {\n",
       "                fig.request_resize(width, height);\n",
       "            }\n",
       "        }\n",
       "    });\n",
       "    this.resizeObserverInstance.observe(canvas_div);\n",
       "\n",
       "    function on_mouse_event_closure(name) {\n",
       "        /* User Agent sniffing is bad, but WebKit is busted:\n",
       "         * https://bugs.webkit.org/show_bug.cgi?id=144526\n",
       "         * https://bugs.webkit.org/show_bug.cgi?id=181818\n",
       "         * The worst that happens here is that they get an extra browser\n",
       "         * selection when dragging, if this check fails to catch them.\n",
       "         */\n",
       "        var UA = navigator.userAgent;\n",
       "        var isWebKit = /AppleWebKit/.test(UA) && !/Chrome/.test(UA);\n",
       "        if(isWebKit) {\n",
       "            return function (event) {\n",
       "                /* This prevents the web browser from automatically changing to\n",
       "                 * the text insertion cursor when the button is pressed. We\n",
       "                 * want to control all of the cursor setting manually through\n",
       "                 * the 'cursor' event from matplotlib */\n",
       "                event.preventDefault()\n",
       "                return fig.mouse_event(event, name);\n",
       "            };\n",
       "        } else {\n",
       "            return function (event) {\n",
       "                return fig.mouse_event(event, name);\n",
       "            };\n",
       "        }\n",
       "    }\n",
       "\n",
       "    canvas_div.addEventListener(\n",
       "        'mousedown',\n",
       "        on_mouse_event_closure('button_press')\n",
       "    );\n",
       "    canvas_div.addEventListener(\n",
       "        'mouseup',\n",
       "        on_mouse_event_closure('button_release')\n",
       "    );\n",
       "    canvas_div.addEventListener(\n",
       "        'dblclick',\n",
       "        on_mouse_event_closure('dblclick')\n",
       "    );\n",
       "    // Throttle sequential mouse events to 1 every 20ms.\n",
       "    canvas_div.addEventListener(\n",
       "        'mousemove',\n",
       "        on_mouse_event_closure('motion_notify')\n",
       "    );\n",
       "\n",
       "    canvas_div.addEventListener(\n",
       "        'mouseenter',\n",
       "        on_mouse_event_closure('figure_enter')\n",
       "    );\n",
       "    canvas_div.addEventListener(\n",
       "        'mouseleave',\n",
       "        on_mouse_event_closure('figure_leave')\n",
       "    );\n",
       "\n",
       "    canvas_div.addEventListener('wheel', function (event) {\n",
       "        if (event.deltaY < 0) {\n",
       "            event.step = 1;\n",
       "        } else {\n",
       "            event.step = -1;\n",
       "        }\n",
       "        on_mouse_event_closure('scroll')(event);\n",
       "    });\n",
       "\n",
       "    canvas_div.appendChild(canvas);\n",
       "    canvas_div.appendChild(rubberband_canvas);\n",
       "\n",
       "    this.rubberband_context = rubberband_canvas.getContext('2d');\n",
       "    this.rubberband_context.strokeStyle = '#000000';\n",
       "\n",
       "    this._resize_canvas = function (width, height, forward) {\n",
       "        if (forward) {\n",
       "            canvas_div.style.width = width + 'px';\n",
       "            canvas_div.style.height = height + 'px';\n",
       "        }\n",
       "    };\n",
       "\n",
       "    // Disable right mouse context menu.\n",
       "    canvas_div.addEventListener('contextmenu', function (_e) {\n",
       "        event.preventDefault();\n",
       "        return false;\n",
       "    });\n",
       "\n",
       "    function set_focus() {\n",
       "        canvas.focus();\n",
       "        canvas_div.focus();\n",
       "    }\n",
       "\n",
       "    window.setTimeout(set_focus, 100);\n",
       "};\n",
       "\n",
       "mpl.figure.prototype._init_toolbar = function () {\n",
       "    var fig = this;\n",
       "\n",
       "    var toolbar = document.createElement('div');\n",
       "    toolbar.classList = 'mpl-toolbar';\n",
       "    this.root.appendChild(toolbar);\n",
       "\n",
       "    function on_click_closure(name) {\n",
       "        return function (_event) {\n",
       "            return fig.toolbar_button_onclick(name);\n",
       "        };\n",
       "    }\n",
       "\n",
       "    function on_mouseover_closure(tooltip) {\n",
       "        return function (event) {\n",
       "            if (!event.currentTarget.disabled) {\n",
       "                return fig.toolbar_button_onmouseover(tooltip);\n",
       "            }\n",
       "        };\n",
       "    }\n",
       "\n",
       "    fig.buttons = {};\n",
       "    var buttonGroup = document.createElement('div');\n",
       "    buttonGroup.classList = 'mpl-button-group';\n",
       "    for (var toolbar_ind in mpl.toolbar_items) {\n",
       "        var name = mpl.toolbar_items[toolbar_ind][0];\n",
       "        var tooltip = mpl.toolbar_items[toolbar_ind][1];\n",
       "        var image = mpl.toolbar_items[toolbar_ind][2];\n",
       "        var method_name = mpl.toolbar_items[toolbar_ind][3];\n",
       "\n",
       "        if (!name) {\n",
       "            /* Instead of a spacer, we start a new button group. */\n",
       "            if (buttonGroup.hasChildNodes()) {\n",
       "                toolbar.appendChild(buttonGroup);\n",
       "            }\n",
       "            buttonGroup = document.createElement('div');\n",
       "            buttonGroup.classList = 'mpl-button-group';\n",
       "            continue;\n",
       "        }\n",
       "\n",
       "        var button = (fig.buttons[name] = document.createElement('button'));\n",
       "        button.classList = 'mpl-widget';\n",
       "        button.setAttribute('role', 'button');\n",
       "        button.setAttribute('aria-disabled', 'false');\n",
       "        button.addEventListener('click', on_click_closure(method_name));\n",
       "        button.addEventListener('mouseover', on_mouseover_closure(tooltip));\n",
       "\n",
       "        var icon_img = document.createElement('img');\n",
       "        icon_img.src = '_images/' + image + '.png';\n",
       "        icon_img.srcset = '_images/' + image + '_large.png 2x';\n",
       "        icon_img.alt = tooltip;\n",
       "        button.appendChild(icon_img);\n",
       "\n",
       "        buttonGroup.appendChild(button);\n",
       "    }\n",
       "\n",
       "    if (buttonGroup.hasChildNodes()) {\n",
       "        toolbar.appendChild(buttonGroup);\n",
       "    }\n",
       "\n",
       "    var fmt_picker = document.createElement('select');\n",
       "    fmt_picker.classList = 'mpl-widget';\n",
       "    toolbar.appendChild(fmt_picker);\n",
       "    this.format_dropdown = fmt_picker;\n",
       "\n",
       "    for (var ind in mpl.extensions) {\n",
       "        var fmt = mpl.extensions[ind];\n",
       "        var option = document.createElement('option');\n",
       "        option.selected = fmt === mpl.default_extension;\n",
       "        option.innerHTML = fmt;\n",
       "        fmt_picker.appendChild(option);\n",
       "    }\n",
       "\n",
       "    var status_bar = document.createElement('span');\n",
       "    status_bar.classList = 'mpl-message';\n",
       "    toolbar.appendChild(status_bar);\n",
       "    this.message = status_bar;\n",
       "};\n",
       "\n",
       "mpl.figure.prototype.request_resize = function (x_pixels, y_pixels) {\n",
       "    // Request matplotlib to resize the figure. Matplotlib will then trigger a resize in the client,\n",
       "    // which will in turn request a refresh of the image.\n",
       "    this.send_message('resize', { width: x_pixels, height: y_pixels });\n",
       "};\n",
       "\n",
       "mpl.figure.prototype.send_message = function (type, properties) {\n",
       "    properties['type'] = type;\n",
       "    properties['figure_id'] = this.id;\n",
       "    this.ws.send(JSON.stringify(properties));\n",
       "};\n",
       "\n",
       "mpl.figure.prototype.send_draw_message = function () {\n",
       "    if (!this.waiting) {\n",
       "        this.waiting = true;\n",
       "        this.ws.send(JSON.stringify({ type: 'draw', figure_id: this.id }));\n",
       "    }\n",
       "};\n",
       "\n",
       "mpl.figure.prototype.handle_save = function (fig, _msg) {\n",
       "    var format_dropdown = fig.format_dropdown;\n",
       "    var format = format_dropdown.options[format_dropdown.selectedIndex].value;\n",
       "    fig.ondownload(fig, format);\n",
       "};\n",
       "\n",
       "mpl.figure.prototype.handle_resize = function (fig, msg) {\n",
       "    var size = msg['size'];\n",
       "    if (size[0] !== fig.canvas.width || size[1] !== fig.canvas.height) {\n",
       "        fig._resize_canvas(size[0], size[1], msg['forward']);\n",
       "        fig.send_message('refresh', {});\n",
       "    }\n",
       "};\n",
       "\n",
       "mpl.figure.prototype.handle_rubberband = function (fig, msg) {\n",
       "    var x0 = msg['x0'] / fig.ratio;\n",
       "    var y0 = (fig.canvas.height - msg['y0']) / fig.ratio;\n",
       "    var x1 = msg['x1'] / fig.ratio;\n",
       "    var y1 = (fig.canvas.height - msg['y1']) / fig.ratio;\n",
       "    x0 = Math.floor(x0) + 0.5;\n",
       "    y0 = Math.floor(y0) + 0.5;\n",
       "    x1 = Math.floor(x1) + 0.5;\n",
       "    y1 = Math.floor(y1) + 0.5;\n",
       "    var min_x = Math.min(x0, x1);\n",
       "    var min_y = Math.min(y0, y1);\n",
       "    var width = Math.abs(x1 - x0);\n",
       "    var height = Math.abs(y1 - y0);\n",
       "\n",
       "    fig.rubberband_context.clearRect(\n",
       "        0,\n",
       "        0,\n",
       "        fig.canvas.width / fig.ratio,\n",
       "        fig.canvas.height / fig.ratio\n",
       "    );\n",
       "\n",
       "    fig.rubberband_context.strokeRect(min_x, min_y, width, height);\n",
       "};\n",
       "\n",
       "mpl.figure.prototype.handle_figure_label = function (fig, msg) {\n",
       "    // Updates the figure title.\n",
       "    fig.header.textContent = msg['label'];\n",
       "};\n",
       "\n",
       "mpl.figure.prototype.handle_cursor = function (fig, msg) {\n",
       "    fig.canvas_div.style.cursor = msg['cursor'];\n",
       "};\n",
       "\n",
       "mpl.figure.prototype.handle_message = function (fig, msg) {\n",
       "    fig.message.textContent = msg['message'];\n",
       "};\n",
       "\n",
       "mpl.figure.prototype.handle_draw = function (fig, _msg) {\n",
       "    // Request the server to send over a new figure.\n",
       "    fig.send_draw_message();\n",
       "};\n",
       "\n",
       "mpl.figure.prototype.handle_image_mode = function (fig, msg) {\n",
       "    fig.image_mode = msg['mode'];\n",
       "};\n",
       "\n",
       "mpl.figure.prototype.handle_history_buttons = function (fig, msg) {\n",
       "    for (var key in msg) {\n",
       "        if (!(key in fig.buttons)) {\n",
       "            continue;\n",
       "        }\n",
       "        fig.buttons[key].disabled = !msg[key];\n",
       "        fig.buttons[key].setAttribute('aria-disabled', !msg[key]);\n",
       "    }\n",
       "};\n",
       "\n",
       "mpl.figure.prototype.handle_navigate_mode = function (fig, msg) {\n",
       "    if (msg['mode'] === 'PAN') {\n",
       "        fig.buttons['Pan'].classList.add('active');\n",
       "        fig.buttons['Zoom'].classList.remove('active');\n",
       "    } else if (msg['mode'] === 'ZOOM') {\n",
       "        fig.buttons['Pan'].classList.remove('active');\n",
       "        fig.buttons['Zoom'].classList.add('active');\n",
       "    } else {\n",
       "        fig.buttons['Pan'].classList.remove('active');\n",
       "        fig.buttons['Zoom'].classList.remove('active');\n",
       "    }\n",
       "};\n",
       "\n",
       "mpl.figure.prototype.updated_canvas_event = function () {\n",
       "    // Called whenever the canvas gets updated.\n",
       "    this.send_message('ack', {});\n",
       "};\n",
       "\n",
       "// A function to construct a web socket function for onmessage handling.\n",
       "// Called in the figure constructor.\n",
       "mpl.figure.prototype._make_on_message_function = function (fig) {\n",
       "    return function socket_on_message(evt) {\n",
       "        if (evt.data instanceof Blob) {\n",
       "            var img = evt.data;\n",
       "            if (img.type !== 'image/png') {\n",
       "                /* FIXME: We get \"Resource interpreted as Image but\n",
       "                 * transferred with MIME type text/plain:\" errors on\n",
       "                 * Chrome.  But how to set the MIME type?  It doesn't seem\n",
       "                 * to be part of the websocket stream */\n",
       "                img.type = 'image/png';\n",
       "            }\n",
       "\n",
       "            /* Free the memory for the previous frames */\n",
       "            if (fig.imageObj.src) {\n",
       "                (window.URL || window.webkitURL).revokeObjectURL(\n",
       "                    fig.imageObj.src\n",
       "                );\n",
       "            }\n",
       "\n",
       "            fig.imageObj.src = (window.URL || window.webkitURL).createObjectURL(\n",
       "                img\n",
       "            );\n",
       "            fig.updated_canvas_event();\n",
       "            fig.waiting = false;\n",
       "            return;\n",
       "        } else if (\n",
       "            typeof evt.data === 'string' &&\n",
       "            evt.data.slice(0, 21) === 'data:image/png;base64'\n",
       "        ) {\n",
       "            fig.imageObj.src = evt.data;\n",
       "            fig.updated_canvas_event();\n",
       "            fig.waiting = false;\n",
       "            return;\n",
       "        }\n",
       "\n",
       "        var msg = JSON.parse(evt.data);\n",
       "        var msg_type = msg['type'];\n",
       "\n",
       "        // Call the  \"handle_{type}\" callback, which takes\n",
       "        // the figure and JSON message as its only arguments.\n",
       "        try {\n",
       "            var callback = fig['handle_' + msg_type];\n",
       "        } catch (e) {\n",
       "            console.log(\n",
       "                \"No handler for the '\" + msg_type + \"' message type: \",\n",
       "                msg\n",
       "            );\n",
       "            return;\n",
       "        }\n",
       "\n",
       "        if (callback) {\n",
       "            try {\n",
       "                // console.log(\"Handling '\" + msg_type + \"' message: \", msg);\n",
       "                callback(fig, msg);\n",
       "            } catch (e) {\n",
       "                console.log(\n",
       "                    \"Exception inside the 'handler_\" + msg_type + \"' callback:\",\n",
       "                    e,\n",
       "                    e.stack,\n",
       "                    msg\n",
       "                );\n",
       "            }\n",
       "        }\n",
       "    };\n",
       "};\n",
       "\n",
       "function getModifiers(event) {\n",
       "    var mods = [];\n",
       "    if (event.ctrlKey) {\n",
       "        mods.push('ctrl');\n",
       "    }\n",
       "    if (event.altKey) {\n",
       "        mods.push('alt');\n",
       "    }\n",
       "    if (event.shiftKey) {\n",
       "        mods.push('shift');\n",
       "    }\n",
       "    if (event.metaKey) {\n",
       "        mods.push('meta');\n",
       "    }\n",
       "    return mods;\n",
       "}\n",
       "\n",
       "/*\n",
       " * return a copy of an object with only non-object keys\n",
       " * we need this to avoid circular references\n",
       " * https://stackoverflow.com/a/24161582/3208463\n",
       " */\n",
       "function simpleKeys(original) {\n",
       "    return Object.keys(original).reduce(function (obj, key) {\n",
       "        if (typeof original[key] !== 'object') {\n",
       "            obj[key] = original[key];\n",
       "        }\n",
       "        return obj;\n",
       "    }, {});\n",
       "}\n",
       "\n",
       "mpl.figure.prototype.mouse_event = function (event, name) {\n",
       "    if (name === 'button_press') {\n",
       "        this.canvas.focus();\n",
       "        this.canvas_div.focus();\n",
       "    }\n",
       "\n",
       "    // from https://stackoverflow.com/q/1114465\n",
       "    var boundingRect = this.canvas.getBoundingClientRect();\n",
       "    var x = (event.clientX - boundingRect.left) * this.ratio;\n",
       "    var y = (event.clientY - boundingRect.top) * this.ratio;\n",
       "\n",
       "    this.send_message(name, {\n",
       "        x: x,\n",
       "        y: y,\n",
       "        button: event.button,\n",
       "        step: event.step,\n",
       "        modifiers: getModifiers(event),\n",
       "        guiEvent: simpleKeys(event),\n",
       "    });\n",
       "\n",
       "    return false;\n",
       "};\n",
       "\n",
       "mpl.figure.prototype._key_event_extra = function (_event, _name) {\n",
       "    // Handle any extra behaviour associated with a key event\n",
       "};\n",
       "\n",
       "mpl.figure.prototype.key_event = function (event, name) {\n",
       "    // Prevent repeat events\n",
       "    if (name === 'key_press') {\n",
       "        if (event.key === this._key) {\n",
       "            return;\n",
       "        } else {\n",
       "            this._key = event.key;\n",
       "        }\n",
       "    }\n",
       "    if (name === 'key_release') {\n",
       "        this._key = null;\n",
       "    }\n",
       "\n",
       "    var value = '';\n",
       "    if (event.ctrlKey && event.key !== 'Control') {\n",
       "        value += 'ctrl+';\n",
       "    }\n",
       "    else if (event.altKey && event.key !== 'Alt') {\n",
       "        value += 'alt+';\n",
       "    }\n",
       "    else if (event.shiftKey && event.key !== 'Shift') {\n",
       "        value += 'shift+';\n",
       "    }\n",
       "\n",
       "    value += 'k' + event.key;\n",
       "\n",
       "    this._key_event_extra(event, name);\n",
       "\n",
       "    this.send_message(name, { key: value, guiEvent: simpleKeys(event) });\n",
       "    return false;\n",
       "};\n",
       "\n",
       "mpl.figure.prototype.toolbar_button_onclick = function (name) {\n",
       "    if (name === 'download') {\n",
       "        this.handle_save(this, null);\n",
       "    } else {\n",
       "        this.send_message('toolbar_button', { name: name });\n",
       "    }\n",
       "};\n",
       "\n",
       "mpl.figure.prototype.toolbar_button_onmouseover = function (tooltip) {\n",
       "    this.message.textContent = tooltip;\n",
       "};\n",
       "\n",
       "///////////////// REMAINING CONTENT GENERATED BY embed_js.py /////////////////\n",
       "// prettier-ignore\n",
       "var _JSXTOOLS_RESIZE_OBSERVER=function(A){var t,i=new WeakMap,n=new WeakMap,a=new WeakMap,r=new WeakMap,o=new Set;function s(e){if(!(this instanceof s))throw new TypeError(\"Constructor requires 'new' operator\");i.set(this,e)}function h(){throw new TypeError(\"Function is not a constructor\")}function c(e,t,i,n){e=0 in arguments?Number(arguments[0]):0,t=1 in arguments?Number(arguments[1]):0,i=2 in arguments?Number(arguments[2]):0,n=3 in arguments?Number(arguments[3]):0,this.right=(this.x=this.left=e)+(this.width=i),this.bottom=(this.y=this.top=t)+(this.height=n),Object.freeze(this)}function d(){t=requestAnimationFrame(d);var s=new WeakMap,p=new Set;o.forEach((function(t){r.get(t).forEach((function(i){var r=t instanceof window.SVGElement,o=a.get(t),d=r?0:parseFloat(o.paddingTop),f=r?0:parseFloat(o.paddingRight),l=r?0:parseFloat(o.paddingBottom),u=r?0:parseFloat(o.paddingLeft),g=r?0:parseFloat(o.borderTopWidth),m=r?0:parseFloat(o.borderRightWidth),w=r?0:parseFloat(o.borderBottomWidth),b=u+f,F=d+l,v=(r?0:parseFloat(o.borderLeftWidth))+m,W=g+w,y=r?0:t.offsetHeight-W-t.clientHeight,E=r?0:t.offsetWidth-v-t.clientWidth,R=b+v,z=F+W,M=r?t.width:parseFloat(o.width)-R-E,O=r?t.height:parseFloat(o.height)-z-y;if(n.has(t)){var k=n.get(t);if(k[0]===M&&k[1]===O)return}n.set(t,[M,O]);var S=Object.create(h.prototype);S.target=t,S.contentRect=new c(u,d,M,O),s.has(i)||(s.set(i,[]),p.add(i)),s.get(i).push(S)}))})),p.forEach((function(e){i.get(e).call(e,s.get(e),e)}))}return s.prototype.observe=function(i){if(i instanceof window.Element){r.has(i)||(r.set(i,new Set),o.add(i),a.set(i,window.getComputedStyle(i)));var n=r.get(i);n.has(this)||n.add(this),cancelAnimationFrame(t),t=requestAnimationFrame(d)}},s.prototype.unobserve=function(i){if(i instanceof window.Element&&r.has(i)){var n=r.get(i);n.has(this)&&(n.delete(this),n.size||(r.delete(i),o.delete(i))),n.size||r.delete(i),o.size||cancelAnimationFrame(t)}},A.DOMRectReadOnly=c,A.ResizeObserver=s,A.ResizeObserverEntry=h,A}; // eslint-disable-line\n",
       "mpl.toolbar_items = [[\"Home\", \"Reset original view\", \"fa fa-home\", \"home\"], [\"Back\", \"Back to previous view\", \"fa fa-arrow-left\", \"back\"], [\"Forward\", \"Forward to next view\", \"fa fa-arrow-right\", \"forward\"], [\"\", \"\", \"\", \"\"], [\"Pan\", \"Left button pans, Right button zooms\\nx/y fixes axis, CTRL fixes aspect\", \"fa fa-arrows\", \"pan\"], [\"Zoom\", \"Zoom to rectangle\\nx/y fixes axis\", \"fa fa-square-o\", \"zoom\"], [\"\", \"\", \"\", \"\"], [\"Download\", \"Download plot\", \"fa fa-floppy-o\", \"download\"]];\n",
       "\n",
       "mpl.extensions = [\"eps\", \"jpeg\", \"pgf\", \"pdf\", \"png\", \"ps\", \"raw\", \"svg\", \"tif\", \"webp\"];\n",
       "\n",
       "mpl.default_extension = \"png\";/* global mpl */\n",
       "\n",
       "var comm_websocket_adapter = function (comm) {\n",
       "    // Create a \"websocket\"-like object which calls the given IPython comm\n",
       "    // object with the appropriate methods. Currently this is a non binary\n",
       "    // socket, so there is still some room for performance tuning.\n",
       "    var ws = {};\n",
       "\n",
       "    ws.binaryType = comm.kernel.ws.binaryType;\n",
       "    ws.readyState = comm.kernel.ws.readyState;\n",
       "    function updateReadyState(_event) {\n",
       "        if (comm.kernel.ws) {\n",
       "            ws.readyState = comm.kernel.ws.readyState;\n",
       "        } else {\n",
       "            ws.readyState = 3; // Closed state.\n",
       "        }\n",
       "    }\n",
       "    comm.kernel.ws.addEventListener('open', updateReadyState);\n",
       "    comm.kernel.ws.addEventListener('close', updateReadyState);\n",
       "    comm.kernel.ws.addEventListener('error', updateReadyState);\n",
       "\n",
       "    ws.close = function () {\n",
       "        comm.close();\n",
       "    };\n",
       "    ws.send = function (m) {\n",
       "        //console.log('sending', m);\n",
       "        comm.send(m);\n",
       "    };\n",
       "    // Register the callback with on_msg.\n",
       "    comm.on_msg(function (msg) {\n",
       "        //console.log('receiving', msg['content']['data'], msg);\n",
       "        var data = msg['content']['data'];\n",
       "        if (data['blob'] !== undefined) {\n",
       "            data = {\n",
       "                data: new Blob(msg['buffers'], { type: data['blob'] }),\n",
       "            };\n",
       "        }\n",
       "        // Pass the mpl event to the overridden (by mpl) onmessage function.\n",
       "        ws.onmessage(data);\n",
       "    });\n",
       "    return ws;\n",
       "};\n",
       "\n",
       "mpl.mpl_figure_comm = function (comm, msg) {\n",
       "    // This is the function which gets called when the mpl process\n",
       "    // starts-up an IPython Comm through the \"matplotlib\" channel.\n",
       "\n",
       "    var id = msg.content.data.id;\n",
       "    // Get hold of the div created by the display call when the Comm\n",
       "    // socket was opened in Python.\n",
       "    var element = document.getElementById(id);\n",
       "    var ws_proxy = comm_websocket_adapter(comm);\n",
       "\n",
       "    function ondownload(figure, _format) {\n",
       "        window.open(figure.canvas.toDataURL());\n",
       "    }\n",
       "\n",
       "    var fig = new mpl.figure(id, ws_proxy, ondownload, element);\n",
       "\n",
       "    // Call onopen now - mpl needs it, as it is assuming we've passed it a real\n",
       "    // web socket which is closed, not our websocket->open comm proxy.\n",
       "    ws_proxy.onopen();\n",
       "\n",
       "    fig.parent_element = element;\n",
       "    fig.cell_info = mpl.find_output_cell(\"<div id='\" + id + \"'></div>\");\n",
       "    if (!fig.cell_info) {\n",
       "        console.error('Failed to find cell for figure', id, fig);\n",
       "        return;\n",
       "    }\n",
       "    fig.cell_info[0].output_area.element.on(\n",
       "        'cleared',\n",
       "        { fig: fig },\n",
       "        fig._remove_fig_handler\n",
       "    );\n",
       "};\n",
       "\n",
       "mpl.figure.prototype.handle_close = function (fig, msg) {\n",
       "    var width = fig.canvas.width / fig.ratio;\n",
       "    fig.cell_info[0].output_area.element.off(\n",
       "        'cleared',\n",
       "        fig._remove_fig_handler\n",
       "    );\n",
       "    fig.resizeObserverInstance.unobserve(fig.canvas_div);\n",
       "\n",
       "    // Update the output cell to use the data from the current canvas.\n",
       "    fig.push_to_output();\n",
       "    var dataURL = fig.canvas.toDataURL();\n",
       "    // Re-enable the keyboard manager in IPython - without this line, in FF,\n",
       "    // the notebook keyboard shortcuts fail.\n",
       "    IPython.keyboard_manager.enable();\n",
       "    fig.parent_element.innerHTML =\n",
       "        '<img src=\"' + dataURL + '\" width=\"' + width + '\">';\n",
       "    fig.close_ws(fig, msg);\n",
       "};\n",
       "\n",
       "mpl.figure.prototype.close_ws = function (fig, msg) {\n",
       "    fig.send_message('closing', msg);\n",
       "    // fig.ws.close()\n",
       "};\n",
       "\n",
       "mpl.figure.prototype.push_to_output = function (_remove_interactive) {\n",
       "    // Turn the data on the canvas into data in the output cell.\n",
       "    var width = this.canvas.width / this.ratio;\n",
       "    var dataURL = this.canvas.toDataURL();\n",
       "    this.cell_info[1]['text/html'] =\n",
       "        '<img src=\"' + dataURL + '\" width=\"' + width + '\">';\n",
       "};\n",
       "\n",
       "mpl.figure.prototype.updated_canvas_event = function () {\n",
       "    // Tell IPython that the notebook contents must change.\n",
       "    IPython.notebook.set_dirty(true);\n",
       "    this.send_message('ack', {});\n",
       "    var fig = this;\n",
       "    // Wait a second, then push the new image to the DOM so\n",
       "    // that it is saved nicely (might be nice to debounce this).\n",
       "    setTimeout(function () {\n",
       "        fig.push_to_output();\n",
       "    }, 1000);\n",
       "};\n",
       "\n",
       "mpl.figure.prototype._init_toolbar = function () {\n",
       "    var fig = this;\n",
       "\n",
       "    var toolbar = document.createElement('div');\n",
       "    toolbar.classList = 'btn-toolbar';\n",
       "    this.root.appendChild(toolbar);\n",
       "\n",
       "    function on_click_closure(name) {\n",
       "        return function (_event) {\n",
       "            return fig.toolbar_button_onclick(name);\n",
       "        };\n",
       "    }\n",
       "\n",
       "    function on_mouseover_closure(tooltip) {\n",
       "        return function (event) {\n",
       "            if (!event.currentTarget.disabled) {\n",
       "                return fig.toolbar_button_onmouseover(tooltip);\n",
       "            }\n",
       "        };\n",
       "    }\n",
       "\n",
       "    fig.buttons = {};\n",
       "    var buttonGroup = document.createElement('div');\n",
       "    buttonGroup.classList = 'btn-group';\n",
       "    var button;\n",
       "    for (var toolbar_ind in mpl.toolbar_items) {\n",
       "        var name = mpl.toolbar_items[toolbar_ind][0];\n",
       "        var tooltip = mpl.toolbar_items[toolbar_ind][1];\n",
       "        var image = mpl.toolbar_items[toolbar_ind][2];\n",
       "        var method_name = mpl.toolbar_items[toolbar_ind][3];\n",
       "\n",
       "        if (!name) {\n",
       "            /* Instead of a spacer, we start a new button group. */\n",
       "            if (buttonGroup.hasChildNodes()) {\n",
       "                toolbar.appendChild(buttonGroup);\n",
       "            }\n",
       "            buttonGroup = document.createElement('div');\n",
       "            buttonGroup.classList = 'btn-group';\n",
       "            continue;\n",
       "        }\n",
       "\n",
       "        button = fig.buttons[name] = document.createElement('button');\n",
       "        button.classList = 'btn btn-default';\n",
       "        button.href = '#';\n",
       "        button.title = name;\n",
       "        button.innerHTML = '<i class=\"fa ' + image + ' fa-lg\"></i>';\n",
       "        button.addEventListener('click', on_click_closure(method_name));\n",
       "        button.addEventListener('mouseover', on_mouseover_closure(tooltip));\n",
       "        buttonGroup.appendChild(button);\n",
       "    }\n",
       "\n",
       "    if (buttonGroup.hasChildNodes()) {\n",
       "        toolbar.appendChild(buttonGroup);\n",
       "    }\n",
       "\n",
       "    // Add the status bar.\n",
       "    var status_bar = document.createElement('span');\n",
       "    status_bar.classList = 'mpl-message pull-right';\n",
       "    toolbar.appendChild(status_bar);\n",
       "    this.message = status_bar;\n",
       "\n",
       "    // Add the close button to the window.\n",
       "    var buttongrp = document.createElement('div');\n",
       "    buttongrp.classList = 'btn-group inline pull-right';\n",
       "    button = document.createElement('button');\n",
       "    button.classList = 'btn btn-mini btn-primary';\n",
       "    button.href = '#';\n",
       "    button.title = 'Stop Interaction';\n",
       "    button.innerHTML = '<i class=\"fa fa-power-off icon-remove icon-large\"></i>';\n",
       "    button.addEventListener('click', function (_evt) {\n",
       "        fig.handle_close(fig, {});\n",
       "    });\n",
       "    button.addEventListener(\n",
       "        'mouseover',\n",
       "        on_mouseover_closure('Stop Interaction')\n",
       "    );\n",
       "    buttongrp.appendChild(button);\n",
       "    var titlebar = this.root.querySelector('.ui-dialog-titlebar');\n",
       "    titlebar.insertBefore(buttongrp, titlebar.firstChild);\n",
       "};\n",
       "\n",
       "mpl.figure.prototype._remove_fig_handler = function (event) {\n",
       "    var fig = event.data.fig;\n",
       "    if (event.target !== this) {\n",
       "        // Ignore bubbled events from children.\n",
       "        return;\n",
       "    }\n",
       "    fig.close_ws(fig, {});\n",
       "};\n",
       "\n",
       "mpl.figure.prototype._root_extra_style = function (el) {\n",
       "    el.style.boxSizing = 'content-box'; // override notebook setting of border-box.\n",
       "};\n",
       "\n",
       "mpl.figure.prototype._canvas_extra_style = function (el) {\n",
       "    // this is important to make the div 'focusable\n",
       "    el.setAttribute('tabindex', 0);\n",
       "    // reach out to IPython and tell the keyboard manager to turn it's self\n",
       "    // off when our div gets focus\n",
       "\n",
       "    // location in version 3\n",
       "    if (IPython.notebook.keyboard_manager) {\n",
       "        IPython.notebook.keyboard_manager.register_events(el);\n",
       "    } else {\n",
       "        // location in version 2\n",
       "        IPython.keyboard_manager.register_events(el);\n",
       "    }\n",
       "};\n",
       "\n",
       "mpl.figure.prototype._key_event_extra = function (event, _name) {\n",
       "    // Check for shift+enter\n",
       "    if (event.shiftKey && event.which === 13) {\n",
       "        this.canvas_div.blur();\n",
       "        // select the cell after this one\n",
       "        var index = IPython.notebook.find_cell_index(this.cell_info[0]);\n",
       "        IPython.notebook.select(index + 1);\n",
       "    }\n",
       "};\n",
       "\n",
       "mpl.figure.prototype.handle_save = function (fig, _msg) {\n",
       "    fig.ondownload(fig, null);\n",
       "};\n",
       "\n",
       "mpl.find_output_cell = function (html_output) {\n",
       "    // Return the cell and output element which can be found *uniquely* in the notebook.\n",
       "    // Note - this is a bit hacky, but it is done because the \"notebook_saving.Notebook\"\n",
       "    // IPython event is triggered only after the cells have been serialised, which for\n",
       "    // our purposes (turning an active figure into a static one), is too late.\n",
       "    var cells = IPython.notebook.get_cells();\n",
       "    var ncells = cells.length;\n",
       "    for (var i = 0; i < ncells; i++) {\n",
       "        var cell = cells[i];\n",
       "        if (cell.cell_type === 'code') {\n",
       "            for (var j = 0; j < cell.output_area.outputs.length; j++) {\n",
       "                var data = cell.output_area.outputs[j];\n",
       "                if (data.data) {\n",
       "                    // IPython >= 3 moved mimebundle to data attribute of output\n",
       "                    data = data.data;\n",
       "                }\n",
       "                if (data['text/html'] === html_output) {\n",
       "                    return [cell, data, j];\n",
       "                }\n",
       "            }\n",
       "        }\n",
       "    }\n",
       "};\n",
       "\n",
       "// Register the function which deals with the matplotlib target/channel.\n",
       "// The kernel may be null if the page has been refreshed.\n",
       "if (IPython.notebook.kernel !== null) {\n",
       "    IPython.notebook.kernel.comm_manager.register_target(\n",
       "        'matplotlib',\n",
       "        mpl.mpl_figure_comm\n",
       "    );\n",
       "}\n"
      ],
      "text/plain": [
       "<IPython.core.display.Javascript object>"
      ]
     },
     "metadata": {},
     "output_type": "display_data"
    },
    {
     "data": {
      "text/html": [
       "<img src=\"data:image/png;base64,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\" width=\"1200\">"
      ],
      "text/plain": [
       "<IPython.core.display.HTML object>"
      ]
     },
     "metadata": {},
     "output_type": "display_data"
    },
    {
     "data": {
      "image/png": "[encoded data removed]",
      "text/plain": [
       "<Figure size 1000x1000 with 1 Axes>"
      ]
     },
     "metadata": {},
     "output_type": "display_data"
    }
   ],
   "source": [
    "%matplotlib inline\n",
    "plt.figure(figsize=(10, 10))\n",
    "plt.imshow(cm)\n",
    "plt.xticks(range(len(names_dict)), names_dict.keys(), rotation='vertical')\n",
    "plt.yticks(range(len(names_dict)), names_dict.keys())\n",
    "plt.xlabel('Predicted label')\n",
    "plt.ylabel('True label')\n",
    "plt.show()"
   ]
  },
  {
   "cell_type": "markdown",
   "metadata": {
    "deletable": false,
    "editable": false,
    "nbgrader": {
     "cell_type": "markdown",
     "checksum": "699749612d8cf6acf9f342e8fdc00ec9",
     "grade": false,
     "grade_id": "cell-baa17f34d2c98af3",
     "locked": true,
     "schema_version": 3,
     "solution": false
    }
   },
   "source": [
    "**[1 point]** Why did we normalize the rows of the confusion matrix? "
   ]
  },
  {
   "cell_type": "markdown",
   "metadata": {
    "deletable": false,
    "nbgrader": {
     "cell_type": "markdown",
     "checksum": "8809376b54c2dbd1c37e038a54589d97",
     "grade": true,
     "grade_id": "cell-5e952f1af1335cd1",
     "locked": false,
     "points": 1,
     "schema_version": 3,
     "solution": true
    }
   },
   "source": [
    "**Your answer:** (fill in here)"
   ]
  },
  {
   "cell_type": "markdown",
   "metadata": {
    "deletable": false,
    "editable": false,
    "nbgrader": {
     "cell_type": "markdown",
     "checksum": "b3ce186431569960c43df0a99a34d0d4",
     "grade": false,
     "grade_id": "cell-b56067b9a8f982ed",
     "locked": true,
     "schema_version": 3,
     "solution": false
    }
   },
   "source": [
    "**[2 points]** What can you conclude from this confusion matrix? Which classes are easy/hard to classify? Which classes are being confused?"
   ]
  },
  {
   "cell_type": "markdown",
   "metadata": {
    "deletable": false,
    "nbgrader": {
     "cell_type": "markdown",
     "checksum": "c83e6f1c4e0c6e0f64d1d9b0a3235d78",
     "grade": true,
     "grade_id": "cell-e3597dc61426d8a3",
     "locked": false,
     "points": 2,
     "schema_version": 3,
     "solution": true
    }
   },
   "source": [
    "**Your answer:** (fill in here)"
   ]
  },
  {
   "cell_type": "markdown",
   "metadata": {
    "deletable": false,
    "editable": false,
    "nbgrader": {
     "cell_type": "markdown",
     "checksum": "9ff548903b15da02335b1f0111ac9c4a",
     "grade": false,
     "grade_id": "cell-a1cd31c6856025a5",
     "locked": true,
     "schema_version": 3,
     "solution": false
    }
   },
   "source": [
    "To end this task, we can now define a function to perform predictions on any input name we provide (as long as the name contains only characters in our character set)."
   ]
  },
  {
   "cell_type": "code",
   "execution_count": 39,
   "metadata": {
    "deletable": false,
    "editable": false,
    "nbgrader": {
     "cell_type": "code",
     "checksum": "16ff9962bca7277a96de8620d03b1264",
     "grade": false,
     "grade_id": "cell-07f9089a7c996db0",
     "locked": true,
     "schema_version": 3,
     "solution": false
    }
   },
   "outputs": [],
   "source": [
    "def evaluate(name_tensor):\n",
    "    with torch.no_grad():\n",
    "        hidden = torch.zeros(1, rnn.hidden_size).to(device)\n",
    "        for i in range(name_tensor.shape[1]):\n",
    "            output, hidden = rnn(name_tensor[:, i, :], hidden)\n",
    "    return output.exp()\n",
    "\n",
    "def predict(input_line, n_predictions=5):\n",
    "    tensor = name2tensor(input_line).to(device)[None, :]\n",
    "    output = evaluate(tensor)\n",
    "\n",
    "    # Get top N categories\n",
    "    topv, topi = output.topk(n_predictions, 1, True)\n",
    "    topv, topi = topv[0], topi[0]\n",
    "        \n",
    "    cats = [list(names_dict.keys())[i] for i in topi.cpu().numpy()]\n",
    "    vs = topv.cpu().numpy()\n",
    "\n",
    "    plt.figure(figsize=(10,3))\n",
    "    plt.bar(range(len(vs)), vs)\n",
    "    plt.xticks(range(len(vs)), cats)"
   ]
  },
  {
   "cell_type": "code",
   "execution_count": 40,
   "metadata": {
    "deletable": false,
    "editable": false,
    "nbgrader": {
     "cell_type": "code",
     "checksum": "663d002913d786ae06797435cabb49b3",
     "grade": false,
     "grade_id": "cell-ee607ec26d687e7a",
     "locked": true,
     "schema_version": 3,
     "solution": false
    }
   },
   "outputs": [
    {
     "data": {
      "image/png": "[encoded data removed]",
      "text/plain": [
       "<Figure size 1000x300 with 1 Axes>"
      ]
     },
     "metadata": {},
     "output_type": "display_data"
    }
   ],
   "source": [
    "predict('Åsakvi')"
   ]
  },
  {
   "cell_type": "code",
   "execution_count": 42,
   "metadata": {
    "deletable": false,
    "editable": false,
    "nbgrader": {
     "cell_type": "code",
     "checksum": "de6ea4fca69dcdfafe0989d3c5a18f2b",
     "grade": false,
     "grade_id": "cell-fcc84c5b71d65216",
     "locked": true,
     "schema_version": 3,
     "solution": false
    }
   },
   "outputs": [
    {
     "data": {
      "image/png": "[encoded data removed]",
      "text/plain": [
       "<Figure size 1000x300 with 1 Axes>"
      ]
     },
     "metadata": {},
     "output_type": "display_data"
    }
   ],
   "source": [
    "predict('Harakabim')"
   ]
  },
  {
   "cell_type": "code",
   "execution_count": 41,
   "metadata": {
    "deletable": false,
    "editable": false,
    "nbgrader": {
     "cell_type": "code",
     "checksum": "8677e866517c65d978435ec0bd2c7213",
     "grade": false,
     "grade_id": "cell-d8af5b38ed527dc0",
     "locked": true,
     "schema_version": 3,
     "solution": false
    }
   },
   "outputs": [
    {
     "data": {
      "image/png": "[encoded data removed]",
      "text/plain": [
       "<Figure size 1000x300 with 1 Axes>"
      ]
     },
     "metadata": {},
     "output_type": "display_data"
    }
   ],
   "source": [
    "predict('Alakazam')"
   ]
  },
  {
   "cell_type": "code",
   "execution_count": 43,
   "metadata": {
    "deletable": false,
    "editable": false,
    "nbgrader": {
     "cell_type": "code",
     "checksum": "8aeaf021219a2f4697067d2fd4a41506",
     "grade": false,
     "grade_id": "cell-608a1a0a87fdcfbc",
     "locked": true,
     "schema_version": 3,
     "solution": false
    }
   },
   "outputs": [
    {
     "data": {
      "image/png": "[encoded data removed]",
      "text/plain": [
       "<Figure size 1000x300 with 1 Axes>"
      ]
     },
     "metadata": {},
     "output_type": "display_data"
    }
   ],
   "source": [
    "predict('Jin Quaio')"
   ]
  },
  {
   "cell_type": "code",
   "execution_count": 44,
   "metadata": {
    "deletable": false,
    "editable": false,
    "nbgrader": {
     "cell_type": "code",
     "checksum": "82b217f4a574a2cc23ad6233505d1d3e",
     "grade": false,
     "grade_id": "cell-9e46296a62c4ad3b",
     "locked": true,
     "schema_version": 3,
     "solution": false
    }
   },
   "outputs": [
    {
     "data": {
      "image/png": "[encoded data removed]",
      "text/plain": [
       "<Figure size 1000x300 with 1 Axes>"
      ]
     },
     "metadata": {},
     "output_type": "display_data"
    }
   ],
   "source": [
    "predict('Leonardino')"
   ]
  },
  {
   "cell_type": "code",
   "execution_count": 45,
   "metadata": {
    "deletable": false,
    "editable": false,
    "nbgrader": {
     "cell_type": "code",
     "checksum": "e2cbe7f4dcf0f10d6f011dca38976ec9",
     "grade": false,
     "grade_id": "cell-7107524e76e71c41",
     "locked": true,
     "schema_version": 3,
     "solution": false
    }
   },
   "outputs": [
    {
     "data": {
      "image/png": "[encoded data removed]",
      "text/plain": [
       "<Figure size 1000x300 with 1 Axes>"
      ]
     },
     "metadata": {},
     "output_type": "display_data"
    }
   ],
   "source": [
    "predict('Kim Sung')"
   ]
  },
  {
   "cell_type": "code",
   "execution_count": 46,
   "metadata": {
    "deletable": false,
    "editable": false,
    "nbgrader": {
     "cell_type": "code",
     "checksum": "aafceedc4f3f9ddbacf4b76548e8aa95",
     "grade": false,
     "grade_id": "cell-e5c047f1d1960750",
     "locked": true,
     "schema_version": 3,
     "solution": false
    }
   },
   "outputs": [
    {
     "data": {
      "image/png": "[encoded data removed]",
      "text/plain": [
       "<Figure size 1000x300 with 1 Axes>"
      ]
     },
     "metadata": {},
     "output_type": "display_data"
    }
   ],
   "source": [
    "predict('Thanos')"
   ]
  },
  {
   "cell_type": "code",
   "execution_count": null,
   "metadata": {
    "deletable": false,
    "editable": false,
    "nbgrader": {
     "cell_type": "code",
     "checksum": "7c82ec8b8c895b208611f139201ac560",
     "grade": false,
     "grade_id": "cell-fc41f7e0ab00a192",
     "locked": true,
     "schema_version": 3,
     "solution": false
    }
   },
   "outputs": [],
   "source": [
    "predict('Viiviika')"
   ]
  },
  {
   "cell_type": "markdown",
   "metadata": {
    "deletable": false,
    "editable": false,
    "nbgrader": {
     "cell_type": "markdown",
     "checksum": "bdf82da73d54b9f9e00cb0f323dcf206",
     "grade": false,
     "grade_id": "cell-5b8cdb44355a89df",
     "locked": true,
     "schema_version": 3,
     "solution": false
    }
   },
   "source": [
    "Experiment on new names using the next cell:"
   ]
  }
 ],
 "metadata": {
  "kernelspec": {
   "display_name": "Python 3 (ipykernel)",
   "language": "python",
   "name": "python3"
  },
  "language_info": {
   "codemirror_mode": {
    "name": "ipython",
    "version": 3
   },
   "file_extension": ".py",
   "mimetype": "text/x-python",
   "name": "python",
   "nbconvert_exporter": "python",
   "pygments_lexer": "ipython3",
   "version": "3.9.18"
  },
  "vscode": {
   "interpreter": {
    "hash": "d94bb5ce8f1aac59beba206cd685a74cc957e1538cbbfce7cec92ea121e47d25"
   }
  }
 },
 "nbformat": 4,
 "nbformat_minor": 4
}
