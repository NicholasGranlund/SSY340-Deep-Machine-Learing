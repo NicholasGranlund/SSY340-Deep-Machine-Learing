{
 "cells": [
  {
   "cell_type": "markdown",
   "metadata": {
    "deletable": false,
    "editable": false,
    "nbgrader": {
     "cell_type": "markdown",
     "checksum": "20a4d65ee77906a86bc39bc4046a2a36",
     "grade": false,
     "grade_id": "cell-5690119ead85e67e",
     "locked": true,
     "schema_version": 3,
     "solution": false,
     "task": false
    }
   },
   "source": [
    "### Checklist for submission\n",
    "\n",
    "It is extremely important to make sure that:\n",
    "\n",
    "1. Everything runs as expected (no bugs when running cells);\n",
    "2. The output from each cell corresponds to its code (don't change any cell's contents without rerunning it afterwards);\n",
    "3. All outputs are present (don't delete any of the outputs);\n",
    "4. Fill in all the places that say `# YOUR CODE HERE`, or \"**Your answer:** (fill in here)\".\n",
    "5. Never copy/paste any notebook cells. Inserting new cells is allowed, but it should not be necessary.\n",
    "6. The notebook contains some hidden metadata which is important during our grading process. **Make sure not to corrupt any of this metadata!** The metadata may for example be corrupted if you copy/paste any notebook cells, or if you perform an unsuccessful git merge / git pull. It may also be pruned completely if using Google Colab, so watch out for this. Searching for \"nbgrader\" when opening the notebook in a text editor should take you to the important metadata entries.\n",
    "7. Although we will try our very best to avoid this, it may happen that bugs are found after an assignment is released, and that we will push an updated version of the assignment to GitHub. If this happens, it is important that you update to the new version, while making sure the notebook metadata is properly updated as well. The safest way to make sure nothing gets messed up is to start from scratch on a clean updated version of the notebook, copy/pasting your code from the cells of the previous version into the cells of the new version.\n",
    "8. If you need to have multiple parallel versions of this notebook, make sure not to move them to another directory.\n",
    "9. Although not forced to work exclusively in the course `conda` environment, you need to make sure that the notebook will run in that environment, i.e. that you have not added any additional dependencies.\n",
    "\n",
    "**FOR HA1, HA2, HA3 ONLY:** Failing to meet any of these requirements might lead to either a subtraction of POEs (at best) or a request for resubmission (at worst).\n",
    "\n",
    "We advise you to perform the following steps before submission to ensure that requirements 1, 2, and 3 are always met: **Restart the kernel** (in the menubar, select Kernel$\\rightarrow$Restart) and then **run all cells** (in the menubar, select Cell$\\rightarrow$Run All). This might require a bit of time, so plan ahead for this (and possibly use a cloud GPU in HA1 and HA2 for this step). Finally press the \"Save and Checkout\" button before handing in, to make sure that all your changes are saved to this .ipynb file."
   ]
  },
  {
   "cell_type": "markdown",
   "metadata": {
    "deletable": false,
    "editable": false,
    "nbgrader": {
     "cell_type": "markdown",
     "checksum": "a6bb874a16c1ff767ac0f37ce0491265",
     "grade": false,
     "grade_id": "cell-774c93bf6433de68",
     "locked": true,
     "schema_version": 3,
     "solution": false,
     "task": false
    }
   },
   "source": [
    "### Fill in name of notebook file\n",
    "This might seem silly, but the version check below needs to know the filename of the current notebook, which is not trivial to find out programmatically.\n",
    "\n",
    "You might want to have several parallel versions of the notebook, and it is fine to rename the notebook as long as it stays in the same directory. **However**, if you do rename it, you also need to update its own filename below:"
   ]
  },
  {
   "cell_type": "code",
   "execution_count": 562,
   "metadata": {},
   "outputs": [],
   "source": [
    "nb_fname = \"HA2-Part1.ipynb\""
   ]
  },
  {
   "cell_type": "markdown",
   "metadata": {
    "deletable": false,
    "editable": false,
    "nbgrader": {
     "cell_type": "markdown",
     "checksum": "879883c2ea755808ffd00aeee5c77a00",
     "grade": false,
     "grade_id": "cell-5676bcf768a7f9be",
     "locked": true,
     "schema_version": 3,
     "solution": false,
     "task": false
    }
   },
   "source": [
    "### Fill in group number and member names (use NAME2 and GROUP only for HA1, HA2 and HA3):"
   ]
  },
  {
   "cell_type": "code",
   "execution_count": 563,
   "metadata": {},
   "outputs": [],
   "source": [
    "NAME1 = \"Erik Laitala\" \n",
    "NAME2 = \"Nicholas Granlund\"\n",
    "GROUP = \"21\""
   ]
  },
  {
   "cell_type": "markdown",
   "metadata": {
    "deletable": false,
    "editable": false,
    "nbgrader": {
     "cell_type": "markdown",
     "checksum": "42f960a95815e1aa3ce8132fcec59cd9",
     "grade": false,
     "grade_id": "cell-a15fe781533d9590",
     "locked": true,
     "schema_version": 3,
     "solution": false,
     "task": false
    }
   },
   "source": [
    "### Check Python version"
   ]
  },
  {
   "cell_type": "code",
   "execution_count": 564,
   "metadata": {
    "deletable": false,
    "editable": false,
    "nbgrader": {
     "cell_type": "code",
     "checksum": "736e393ef62f60d5e70432726e7209e0",
     "grade": false,
     "grade_id": "cell-2b9c2390ee464c39",
     "locked": true,
     "schema_version": 3,
     "solution": false,
     "task": false
    }
   },
   "outputs": [],
   "source": [
    "from platform import python_version_tuple\n",
    "assert python_version_tuple()[:2] == ('3','9'), \"You are not running Python 3.9. Make sure to run Python through the course Conda environment.\""
   ]
  },
  {
   "cell_type": "markdown",
   "metadata": {
    "deletable": false,
    "editable": false,
    "nbgrader": {
     "cell_type": "markdown",
     "checksum": "15ec4309f1e85f6e17bda73b9b6f48a2",
     "grade": false,
     "grade_id": "cell-4869b45600ce82f8",
     "locked": true,
     "schema_version": 3,
     "solution": false,
     "task": false
    }
   },
   "source": [
    "### Check that notebook server has access to all required resources, and that notebook has not moved"
   ]
  },
  {
   "cell_type": "code",
   "execution_count": 565,
   "metadata": {
    "deletable": false,
    "editable": false,
    "nbgrader": {
     "cell_type": "code",
     "checksum": "a2d199303c73ec86d25177caf39e385f",
     "grade": false,
     "grade_id": "cell-122ac3d9100b8afb",
     "locked": true,
     "schema_version": 3,
     "solution": false,
     "task": false
    }
   },
   "outputs": [],
   "source": [
    "import os\n",
    "nb_dirname = os.path.abspath('')\n",
    "assignment_name = os.path.basename(nb_dirname)\n",
    "assert assignment_name in ['IHA1', 'IHA2', 'HA1', 'HA2', 'HA3'], \\\n",
    "    '[ERROR] The notebook appears to have been moved from its original directory'"
   ]
  },
  {
   "cell_type": "markdown",
   "metadata": {
    "deletable": false,
    "editable": false,
    "nbgrader": {
     "cell_type": "markdown",
     "checksum": "f09f40b5350db83232189137c550f0a1",
     "grade": false,
     "grade_id": "cell-2455deee513cd39c",
     "locked": true,
     "schema_version": 3,
     "solution": false,
     "task": false
    }
   },
   "source": [
    "### Verify correct nb_fname"
   ]
  },
  {
   "cell_type": "code",
   "execution_count": 566,
   "metadata": {
    "deletable": false,
    "editable": false,
    "nbgrader": {
     "cell_type": "code",
     "checksum": "a78c7227b049bb147e6c363affb6dae8",
     "grade": false,
     "grade_id": "cell-0472e2fd710f1d72",
     "locked": true,
     "schema_version": 3,
     "solution": false,
     "task": false
    }
   },
   "outputs": [
    {
     "data": {
      "text/html": [
       "<script>if(\"HA2-Part1.ipynb\" != IPython.notebook.notebook_name) { alert(\"You have filled in nb_fname = \\\"HA2-Part1.ipynb\\\", but this does not seem to match the notebook filename \\\"\" + IPython.notebook.notebook_name + \"\\\".\"); }</script>"
      ],
      "text/plain": [
       "<IPython.core.display.HTML object>"
      ]
     },
     "metadata": {},
     "output_type": "display_data"
    }
   ],
   "source": [
    "from IPython.display import display, HTML\n",
    "try:\n",
    "    display(HTML(r'<script>if(\"{nb_fname}\" != IPython.notebook.notebook_name) {{ alert(\"You have filled in nb_fname = \\\"{nb_fname}\\\", but this does not seem to match the notebook filename \\\"\" + IPython.notebook.notebook_name + \"\\\".\"); }}</script>'.format(nb_fname=nb_fname)))\n",
    "except NameError:\n",
    "    assert False, 'Make sure to fill in the nb_fname variable above!'"
   ]
  },
  {
   "cell_type": "markdown",
   "metadata": {
    "deletable": false,
    "editable": false,
    "nbgrader": {
     "cell_type": "markdown",
     "checksum": "98d88d8e8da19693053764f29dcc591d",
     "grade": false,
     "grade_id": "cell-ceacb1adcae4783d",
     "locked": true,
     "schema_version": 3,
     "solution": false,
     "task": false
    }
   },
   "source": [
    "### Verify that your notebook is up-to-date and not corrupted in any way"
   ]
  },
  {
   "cell_type": "code",
   "execution_count": 567,
   "metadata": {
    "deletable": false,
    "editable": false,
    "nbgrader": {
     "cell_type": "code",
     "checksum": "bb700528d4644601c1a8c91ef1d84635",
     "grade": false,
     "grade_id": "cell-f5a59288e11b4aec",
     "locked": true,
     "schema_version": 3,
     "solution": false,
     "task": false
    }
   },
   "outputs": [
    {
     "name": "stdout",
     "output_type": "stream",
     "text": [
      "Matching current notebook against the following URL:\n",
      "http://raw.githubusercontent.com/dml-cth/deep-machine-learning/master/home-assignments/HA2/HA2-Part1.ipynb\n",
      "[SUCCESS] No major notebook mismatch found when comparing to latest GitHub version. (There might be minor updates, but even that is the case, submitting your work based on this notebook version would be acceptable.)\n"
     ]
    }
   ],
   "source": [
    "import sys\n",
    "sys.path.append('..')\n",
    "from ha_utils import check_notebook_uptodate_and_not_corrupted\n",
    "check_notebook_uptodate_and_not_corrupted(nb_dirname, nb_fname)"
   ]
  },
  {
   "cell_type": "markdown",
   "metadata": {
    "deletable": false,
    "editable": false,
    "nbgrader": {
     "cell_type": "markdown",
     "checksum": "1a3d4c3586543ada9e989a70ca0b714f",
     "grade": false,
     "grade_id": "cell-64e1db7b9018bb3c",
     "locked": true,
     "schema_version": 3,
     "solution": false
    }
   },
   "source": [
    "# HA2 - Recurrent Neural Networks"
   ]
  },
  {
   "cell_type": "markdown",
   "metadata": {
    "deletable": false,
    "editable": false,
    "nbgrader": {
     "cell_type": "markdown",
     "checksum": "ede543ca35a8a171477021feba7cac50",
     "grade": false,
     "grade_id": "cell-2a56acd8b54adbc7",
     "locked": true,
     "schema_version": 3,
     "solution": false
    }
   },
   "source": [
    "This assignment is divided into two parts. In the first one, you will implement a vanilla RNN module from scratch using PyTorch to perform the task of predicting the nationality of a given name. In the second, you will implement many of the components in a Transformer block, and use it to classify movie reviews as positive or negative. \n",
    "\n",
    "For efficient use of GPU hours, you can do all development up until the training on a CPU. You can then run the training on a GPU for faster training times. "
   ]
  },
  {
   "cell_type": "markdown",
   "metadata": {
    "deletable": false,
    "editable": false,
    "nbgrader": {
     "cell_type": "markdown",
     "checksum": "b230b916db79763c4ae31f10fb3834ed",
     "grade": false,
     "grade_id": "cell-a7a1fe5598d08eae",
     "locked": true,
     "schema_version": 3,
     "solution": false
    }
   },
   "source": [
    "## Task 1 - Predicting Nationalities"
   ]
  },
  {
   "cell_type": "markdown",
   "metadata": {
    "deletable": false,
    "editable": false,
    "nbgrader": {
     "cell_type": "markdown",
     "checksum": "f6d2792c8867f0fd983839444067a2e1",
     "grade": false,
     "grade_id": "cell-aad0c935c03346c9",
     "locked": true,
     "schema_version": 3,
     "solution": false
    }
   },
   "source": [
    "In this task, you will create an RNN module using PyTorch, and train it to predict the nationality of a given input name. Your RNN will process each character of an input name at a time, and at the last character output a probability mass function over the possible countries.\n",
    "\n",
    "The data for this task is present in the file `data/nam_dict.txt`. After parsing it we will have around 44k names from 41 different countries."
   ]
  },
  {
   "cell_type": "markdown",
   "metadata": {
    "deletable": false,
    "editable": false,
    "nbgrader": {
     "cell_type": "markdown",
     "checksum": "88e94a32152c5c6447c42352b00c56f6",
     "grade": false,
     "grade_id": "cell-781c35fef278ad47",
     "locked": true,
     "schema_version": 3,
     "solution": false
    }
   },
   "source": [
    "### 1.1 Loading the data"
   ]
  },
  {
   "cell_type": "markdown",
   "metadata": {
    "deletable": false,
    "editable": false,
    "nbgrader": {
     "cell_type": "markdown",
     "checksum": "ef4e3f8191d07d16c7129210867e1cc4",
     "grade": false,
     "grade_id": "cell-12c085211bc03428",
     "locked": true,
     "schema_version": 3,
     "solution": false
    }
   },
   "source": [
    "We'll start by loading the data from the `nam_dict.txt` file, using the provided method `get_data_from_file`."
   ]
  },
  {
   "cell_type": "code",
   "execution_count": 568,
   "metadata": {
    "deletable": false,
    "editable": false,
    "nbgrader": {
     "cell_type": "code",
     "checksum": "578b8dc7fef786bb9d0eb9bfd9804796",
     "grade": false,
     "grade_id": "cell-7c9a70be36d77bde",
     "locked": true,
     "schema_version": 3,
     "solution": false
    }
   },
   "outputs": [],
   "source": [
    "from utils.load_names import get_data_from_file\n",
    "names_dict = get_data_from_file('data/nam_dict.txt')"
   ]
  },
  {
   "cell_type": "markdown",
   "metadata": {
    "deletable": false,
    "editable": false,
    "nbgrader": {
     "cell_type": "markdown",
     "checksum": "e4396ec5026f36d2d897eb28273fa47c",
     "grade": false,
     "grade_id": "cell-3d6450ecfff464cf",
     "locked": true,
     "schema_version": 3,
     "solution": false
    }
   },
   "source": [
    "The newly-created variable `names_dict` is a dictionary where each country is a key, and the value is the corresponding list of names from that country."
   ]
  },
  {
   "cell_type": "code",
   "execution_count": 569,
   "metadata": {
    "deletable": false,
    "editable": false,
    "nbgrader": {
     "cell_type": "code",
     "checksum": "0a3c16d045a6e3ea16cae84c8f4039b8",
     "grade": false,
     "grade_id": "cell-2979a922e5fd9032",
     "locked": true,
     "schema_version": 3,
     "solution": false
    }
   },
   "outputs": [
    {
     "data": {
      "text/plain": [
       "dict_keys(['Great Britain', 'Ireland', 'U.S.A.', 'Italy', 'Portugal', 'Spain', 'France', 'the Netherlands', 'East Frisia', 'Germany', 'Swiss', 'Iceland', 'Denmark', 'Norway', 'Sweden', 'Finland', 'Estonia', 'Latvia', 'Lithuania', 'Hungary', 'Romania', 'Bulgaria', 'Bosnia and Herzegovina', 'Croatia', 'Kosovo', 'Serbia', 'Albania', 'Greece', 'Russia', 'Ukraine', 'Armenia', 'Azerbaijan', 'Kazakhstan/Uzbekistan,etc.', 'Turkey', 'Arabia/Persia', 'Israel', 'China', 'India/Sri Lanka', 'Japan', 'Korea', 'Vietnam'])"
      ]
     },
     "execution_count": 569,
     "metadata": {},
     "output_type": "execute_result"
    }
   ],
   "source": [
    "names_dict.keys()"
   ]
  },
  {
   "cell_type": "code",
   "execution_count": 570,
   "metadata": {
    "deletable": false,
    "editable": false,
    "nbgrader": {
     "cell_type": "code",
     "checksum": "fabffeb8a60ded472b3ab0996e6acd34",
     "grade": false,
     "grade_id": "cell-b9578aa61d75938e",
     "locked": true,
     "schema_version": 3,
     "solution": false
    }
   },
   "outputs": [
    {
     "data": {
      "text/plain": [
       "['Achilleas',\n",
       " 'Achillefs',\n",
       " 'Adamantia',\n",
       " 'Adamantini',\n",
       " 'Adamantios',\n",
       " 'Aeneas',\n",
       " 'Afroditi',\n",
       " 'Agapi',\n",
       " 'Agapios',\n",
       " 'Agathi']"
      ]
     },
     "execution_count": 570,
     "metadata": {},
     "output_type": "execute_result"
    }
   ],
   "source": [
    "names_dict['Greece'][:10]"
   ]
  },
  {
   "cell_type": "markdown",
   "metadata": {
    "deletable": false,
    "editable": false,
    "nbgrader": {
     "cell_type": "markdown",
     "checksum": "298f96dbddf1b6528aba07514a1442de",
     "grade": false,
     "grade_id": "cell-172dd5d6a5c41971",
     "locked": true,
     "schema_version": 3,
     "solution": false
    }
   },
   "source": [
    "Let's look at the dataset in more detail. Plot the number of names in each country using a [bar plot](https://matplotlib.org/3.1.1/api/_as_gen/matplotlib.pyplot.bar.html).\n",
    "\n",
    "*Hints*:\n",
    "\n",
    "- You can put labels in the x-axis using the method [`xticks`](https://matplotlib.org/3.1.1/api/_as_gen/matplotlib.pyplot.xticks.html).\n",
    "- The `xticks` method accepts a keyword argument named `rotation`."
   ]
  },
  {
   "cell_type": "code",
   "execution_count": 571,
   "metadata": {
    "deletable": false,
    "nbgrader": {
     "cell_type": "code",
     "checksum": "239562267cb4dc6cbc5bdd6e1fa817be",
     "grade": true,
     "grade_id": "cell-ff582e8e844bfb50",
     "locked": false,
     "points": 0,
     "schema_version": 3,
     "solution": true
    }
   },
   "outputs": [
    {
     "name": "stdout",
     "output_type": "stream",
     "text": [
      "[('China', 7321), ('U.S.A.', 3845), ('Italy', 2445)]\n"
     ]
    },
    {
     "data": {
      "image/png": "[encoded data removed]",
      "text/plain": [
       "<Figure size 640x480 with 1 Axes>"
      ]
     },
     "metadata": {},
     "output_type": "display_data"
    }
   ],
   "source": [
    "%matplotlib inline\n",
    "import matplotlib.pyplot as plt\n",
    "\n",
    "# YOUR CODE HERE\n",
    "\n",
    "# Compute the number of names for each country.\n",
    "names_per_country = {key: len(values) for key, values in names_dict.items()}\n",
    "\n",
    "# Create a figure with one axes.\n",
    "fig, ax = plt.subplots()\n",
    "ax.bar(names_per_country.keys(), names_per_country.values(), width=0.5)\n",
    "\n",
    "# Rotate the ticks\n",
    "_, _ = plt.xticks(rotation=90)\n",
    "plt.grid(visible=True, axis='y')\n",
    "\n",
    "# Identify the top 3 contries\n",
    "print(sorted(names_per_country.items(), key=lambda x: x[1], reverse=True)[:3])\n"
   ]
  },
  {
   "cell_type": "markdown",
   "metadata": {
    "deletable": false,
    "editable": false,
    "nbgrader": {
     "cell_type": "markdown",
     "checksum": "49ae44d43070a2af47e3d5fc76723983",
     "grade": false,
     "grade_id": "cell-390475b6777ce344",
     "locked": true,
     "schema_version": 3,
     "solution": false
    }
   },
   "source": [
    "**[1 point]** Is this dataset balanced? If not, which are the top-3 countries with most names?"
   ]
  },
  {
   "cell_type": "markdown",
   "metadata": {
    "deletable": false,
    "nbgrader": {
     "cell_type": "markdown",
     "checksum": "d6423fd1b8b08bade86d7733d2c62a87",
     "grade": true,
     "grade_id": "cell-e70912fa2bf69d84",
     "locked": false,
     "points": 1,
     "schema_version": 3,
     "solution": true
    }
   },
   "source": [
    "**Your answer:** (fill in here)\n",
    "\n",
    "No it is not balanced, according to the bar plot there are some countries with more entries (names) than other countries. For example the top 3 are China, U.S.A. and Italy.\n",
    "\n",
    "/ Erik & Nicholas"
   ]
  },
  {
   "cell_type": "markdown",
   "metadata": {
    "deletable": false,
    "editable": false,
    "nbgrader": {
     "cell_type": "markdown",
     "checksum": "1db6be82caa3a09c812b3158187adcf8",
     "grade": false,
     "grade_id": "cell-b332445688db5846",
     "locked": true,
     "schema_version": 3,
     "solution": false
    }
   },
   "source": [
    "### 1.2 Pre-processing"
   ]
  },
  {
   "cell_type": "markdown",
   "metadata": {
    "deletable": false,
    "editable": false,
    "nbgrader": {
     "cell_type": "markdown",
     "checksum": "8e9d2c3be16a91407c9403684b28ddfe",
     "grade": false,
     "grade_id": "cell-0248575eadc7e93e",
     "locked": true,
     "schema_version": 3,
     "solution": false
    }
   },
   "source": [
    "We will train an RNN which takes as input one character at each time-step. In order to do so, we will encode every character in the input names into a one-hot representation that is more suited to be fed to neural networks. \n",
    "\n",
    "The first thing we need to do is to decide the size of the alphabet used for the one-hot encoding. To do so, let's take a look at all the characters used in the dataset. A simple way to do so is putting all names in the same string and then using a `set` to get the unique values. We'll treat upper-case and lower-case characters as being the same."
   ]
  },
  {
   "cell_type": "code",
   "execution_count": 572,
   "metadata": {
    "deletable": false,
    "editable": false,
    "nbgrader": {
     "cell_type": "code",
     "checksum": "09994757b29a7eef77096b060629fb89",
     "grade": false,
     "grade_id": "cell-6b58e326e17e53f5",
     "locked": true,
     "schema_version": 3,
     "solution": false
    }
   },
   "outputs": [
    {
     "name": "stdout",
     "output_type": "stream",
     "text": [
      "57 characters:\n"
     ]
    },
    {
     "data": {
      "text/plain": [
       "[' ',\n",
       " \"'\",\n",
       " '-',\n",
       " 'a',\n",
       " 'b',\n",
       " 'c',\n",
       " 'd',\n",
       " 'e',\n",
       " 'f',\n",
       " 'g',\n",
       " 'h',\n",
       " 'i',\n",
       " 'j',\n",
       " 'k',\n",
       " 'l',\n",
       " 'm',\n",
       " 'n',\n",
       " 'o',\n",
       " 'p',\n",
       " 'q',\n",
       " 'r',\n",
       " 's',\n",
       " 't',\n",
       " 'u',\n",
       " 'v',\n",
       " 'w',\n",
       " 'x',\n",
       " 'y',\n",
       " 'z',\n",
       " 'ß',\n",
       " 'à',\n",
       " 'á',\n",
       " 'â',\n",
       " 'ã',\n",
       " 'ä',\n",
       " 'å',\n",
       " 'æ',\n",
       " 'ç',\n",
       " 'è',\n",
       " 'é',\n",
       " 'ê',\n",
       " 'ë',\n",
       " 'í',\n",
       " 'î',\n",
       " 'ï',\n",
       " 'ð',\n",
       " 'ñ',\n",
       " 'ò',\n",
       " 'ó',\n",
       " 'ô',\n",
       " 'õ',\n",
       " 'ö',\n",
       " 'ø',\n",
       " 'ú',\n",
       " 'ü',\n",
       " 'ý',\n",
       " 'þ']"
      ]
     },
     "execution_count": 572,
     "metadata": {},
     "output_type": "execute_result"
    }
   ],
   "source": [
    "temp = \" \"\n",
    "for name_list in names_dict.values():\n",
    "    for name in name_list:\n",
    "        temp += name.lower()\n",
    "charset = sorted(set(temp))\n",
    "print(f\"{len(charset)} characters:\")\n",
    "charset"
   ]
  },
  {
   "cell_type": "markdown",
   "metadata": {
    "deletable": false,
    "editable": false,
    "nbgrader": {
     "cell_type": "markdown",
     "checksum": "aa26ef5d12faceb8d330856b41769a40",
     "grade": false,
     "grade_id": "cell-c28ba53b5126e2f5",
     "locked": true,
     "schema_version": 3,
     "solution": false
    }
   },
   "source": [
    "Now we can create a function that takes as input a name, and outputs a `(name length) x (charset length)` tensor."
   ]
  },
  {
   "cell_type": "code",
   "execution_count": 573,
   "metadata": {
    "deletable": false,
    "editable": false,
    "nbgrader": {
     "cell_type": "code",
     "checksum": "14585ce3bdfe1f68870f92fa78e537ad",
     "grade": false,
     "grade_id": "cell-e078bcfbef92ef2d",
     "locked": true,
     "schema_version": 3,
     "solution": false
    }
   },
   "outputs": [],
   "source": [
    "import torch"
   ]
  },
  {
   "cell_type": "code",
   "execution_count": 574,
   "metadata": {
    "deletable": false,
    "editable": false,
    "nbgrader": {
     "cell_type": "code",
     "checksum": "650bc6a662a9ecae216e389f1f540591",
     "grade": false,
     "grade_id": "cell-28b1f4faf5fe75a3",
     "locked": true,
     "schema_version": 3,
     "solution": false
    }
   },
   "outputs": [],
   "source": [
    "def name2tensor(name):\n",
    "    name = name.lower()\n",
    "\n",
    "    # Create tensor of correct size filled with zeros\n",
    "    tensor = torch.zeros(len(name), len(charset))\n",
    "\n",
    "    # For each letter, fill in the tensor with a 1 in the position corresponding to the character index in the charset\n",
    "    for i, letter in enumerate(name):\n",
    "        char_index = charset.index(letter)\n",
    "        tensor[i][char_index] = 1\n",
    "\n",
    "    return tensor\n"
   ]
  },
  {
   "cell_type": "code",
   "execution_count": 575,
   "metadata": {
    "deletable": false,
    "editable": false,
    "nbgrader": {
     "cell_type": "code",
     "checksum": "8a9bbbdc34b5d27a2f3187bda44fa59f",
     "grade": false,
     "grade_id": "cell-5d8cbbfaa7917f2c",
     "locked": true,
     "schema_version": 3,
     "solution": false
    }
   },
   "outputs": [
    {
     "data": {
      "text/plain": [
       "tensor([[0., 0., 0., 1., 0., 0., 0., 0., 0., 0., 0., 0., 0., 0., 0., 0., 0., 0.,\n",
       "         0., 0., 0., 0., 0., 0., 0., 0., 0., 0., 0., 0., 0., 0., 0., 0., 0., 0.,\n",
       "         0., 0., 0., 0., 0., 0., 0., 0., 0., 0., 0., 0., 0., 0., 0., 0., 0., 0.,\n",
       "         0., 0., 0.],\n",
       "        [0., 0., 0., 0., 0., 0., 0., 0., 0., 0., 0., 0., 0., 0., 1., 0., 0., 0.,\n",
       "         0., 0., 0., 0., 0., 0., 0., 0., 0., 0., 0., 0., 0., 0., 0., 0., 0., 0.,\n",
       "         0., 0., 0., 0., 0., 0., 0., 0., 0., 0., 0., 0., 0., 0., 0., 0., 0., 0.,\n",
       "         0., 0., 0.],\n",
       "        [0., 0., 0., 0., 0., 0., 0., 0., 0., 0., 0., 1., 0., 0., 0., 0., 0., 0.,\n",
       "         0., 0., 0., 0., 0., 0., 0., 0., 0., 0., 0., 0., 0., 0., 0., 0., 0., 0.,\n",
       "         0., 0., 0., 0., 0., 0., 0., 0., 0., 0., 0., 0., 0., 0., 0., 0., 0., 0.,\n",
       "         0., 0., 0.]])"
      ]
     },
     "execution_count": 575,
     "metadata": {},
     "output_type": "execute_result"
    }
   ],
   "source": [
    "name2tensor('Ali')"
   ]
  },
  {
   "cell_type": "markdown",
   "metadata": {
    "deletable": false,
    "editable": false,
    "nbgrader": {
     "cell_type": "markdown",
     "checksum": "20d3d8b2de876fd7d1160298362838a2",
     "grade": false,
     "grade_id": "cell-21a59eb745d70bfd",
     "locked": true,
     "schema_version": 3,
     "solution": false,
     "task": false
    }
   },
   "source": [
    "Why does the above output tensor contain a 1 at position (0,3)?"
   ]
  },
  {
   "cell_type": "markdown",
   "metadata": {
    "deletable": false,
    "nbgrader": {
     "cell_type": "markdown",
     "checksum": "49c4292927f944a5edca1db964fcd7f3",
     "grade": true,
     "grade_id": "cell-39860df3e01f0204",
     "locked": false,
     "points": 0,
     "schema_version": 3,
     "solution": true,
     "task": false
    }
   },
   "source": [
    "**Your answer:** (fill in here)\n",
    "\n",
    "Because the first letter of the name 'Ali' is an 'A' which corresponds to the 4th character in our character-set, and this is located at charset[3]. This is simply a one-hot encoding of what character is at the first place in 'Ali'.\n",
    "\n",
    "A --> 1 at position (0,3)\n",
    "\n",
    "L --> 1 at position (1,14)\n",
    "\n",
    "I --> 1 at position (2,11)\n",
    "\n",
    "\n",
    "/ Erik & Nicholas"
   ]
  },
  {
   "cell_type": "markdown",
   "metadata": {
    "deletable": false,
    "editable": false,
    "nbgrader": {
     "cell_type": "markdown",
     "checksum": "abff2aa6c349d74ed86f1f6196b5344e",
     "grade": false,
     "grade_id": "cell-5beb6efb1f504ce2",
     "locked": true,
     "schema_version": 3,
     "solution": false
    }
   },
   "source": [
    "**[1 point]** What happens if you try encoding the string `Lol@` using this function? Why?"
   ]
  },
  {
   "cell_type": "markdown",
   "metadata": {
    "deletable": false,
    "nbgrader": {
     "cell_type": "markdown",
     "checksum": "cd3dde14286714be377711d5877f5be8",
     "grade": true,
     "grade_id": "cell-613a1d700434e11a",
     "locked": false,
     "points": 1,
     "schema_version": 3,
     "solution": true
    }
   },
   "source": [
    "**Your answer:** (fill in here)\n",
    "\n",
    "We obtain an error because the character '@' is not part of the character set. Instead passing 'Lol' works fine and we get the same encoding for uppercase 'L' as lowercase 'L' since the function name2tensor treats all characters as lowercase.\n",
    "\n",
    "/ Erik & Nicholas"
   ]
  },
  {
   "cell_type": "markdown",
   "metadata": {
    "deletable": false,
    "editable": false,
    "nbgrader": {
     "cell_type": "markdown",
     "checksum": "fd84162dfdb2a3a9f880137ea0c6cf80",
     "grade": false,
     "grade_id": "cell-fdfe2093caad0c9d",
     "locked": true,
     "schema_version": 3,
     "solution": false
    }
   },
   "source": [
    "It's definitely possible to use the tensors created with `name2tensor` to train our RNN, but in that case we would only be able to conveniently perform forward-propagation using one sample at a time.\n",
    "\n",
    "Instead, we want to batch samples together and parallelize the forward-propagation step. To do so, all samples must have the same dimensions (right now every sample has dimension `(name length) x (charset length)`, and the length of the names varies). Modify the function `name2padded_tensor` to achieve this by padding the start of the tensor with zeros, so that the output tensor always has length `target_len x (charset length)`. **[1 point]**\n",
    "\n",
    "*Hint*:\n",
    "\n",
    "- To make it easier to catch bugs in the next parts of the assignment, make sure to raise an exception if the `target_len` is smaller than the length of the input word."
   ]
  },
  {
   "cell_type": "code",
   "execution_count": 576,
   "metadata": {
    "deletable": false,
    "nbgrader": {
     "cell_type": "code",
     "checksum": "ffe913eba6ac53a7bfd9cb4b3252f8df",
     "grade": true,
     "grade_id": "cell-fbe880f01de97439",
     "locked": false,
     "points": 1,
     "schema_version": 3,
     "solution": true
    }
   },
   "outputs": [],
   "source": [
    "def name2padded_tensor(name: str, target_len: int) -> torch.tensor:\n",
    "    \"\"\"Create a padded tensor representation of a name.\n",
    "\n",
    "    Args:\n",
    "        name (str):          The input name to be converted to a tensor.\n",
    "        target_len (int):    The desired length of the resulting tensor.\n",
    "\n",
    "    Returns:\n",
    "        torch.tensor:        A padded tensor representation of the name.\n",
    "\n",
    "    Raises:\n",
    "        Exception:           If target_len is smaller than the length of the name.\n",
    "\n",
    "    If target_len is the same as the length of the name, the function returns the\n",
    "    tensor representation of the name. Otherwise, it computes a padded tensor\n",
    "    with zeros to match the target length.\n",
    "    \"\"\"\n",
    "\n",
    "    # Raise error if 'target_len' is smaller than length of 'name'\n",
    "    if target_len < len(name):\n",
    "        raise Exception(\"target_len cannot be shorter than length of the name\")\n",
    "    \n",
    "    # return tensor if target_len is same as name length\n",
    "    if target_len == len(name):\n",
    "        return name2tensor(name)\n",
    "    \n",
    "    # Else compute the padded tensor\n",
    "    tensor = name2tensor(name)\n",
    "    padded_tensor = torch.zeros(target_len - len(name), tensor.size()[1])\n",
    "\n",
    "    return torch.cat((padded_tensor, tensor), dim=0)\n",
    "\n",
    "\n"
   ]
  },
  {
   "cell_type": "code",
   "execution_count": 577,
   "metadata": {
    "deletable": false,
    "editable": false,
    "nbgrader": {
     "cell_type": "code",
     "checksum": "c45e582983c33659e1ed23fddf7038e7",
     "grade": false,
     "grade_id": "cell-22bb8ede1d7a7da2",
     "locked": true,
     "schema_version": 3,
     "solution": false
    }
   },
   "outputs": [
    {
     "name": "stdout",
     "output_type": "stream",
     "text": [
      "Test passed.\n"
     ]
    }
   ],
   "source": [
    "def test_name2padded_tensor():\n",
    "    test_case(case_id=\"1\", name=\"Ali\", target_len=5)\n",
    "    test_case(case_id=\"2\", name=\"Eleonora\", target_len=10)\n",
    "    print(\"Test passed.\")\n",
    "\n",
    "\n",
    "def test_case(case_id, name, target_len):\n",
    "    padded_tensor = name2padded_tensor(name, target_len)\n",
    "    new_target_len, new_charset_len = padded_tensor.shape\n",
    "    err_string = \"Case {} failed: {}\"\n",
    "\n",
    "    assert new_target_len == target_len, err_string.format(\n",
    "        case_id,\n",
    "        \"`target_len` not preserved, expected: {}, got: {}\".format(\n",
    "            target_len, new_target_len\n",
    "        ),\n",
    "    )\n",
    "\n",
    "    assert new_charset_len == 57, err_string.format(\n",
    "        case_id,\n",
    "        \"`charset_len` not preserved, expected: 57, got: {}\".format(new_charset_len)\n",
    "    )\n",
    "\n",
    "    assert padded_tensor[:2, :].sum() == 0, err_string.format(\n",
    "        case_id,\n",
    "        \"The first two rows of the tensor should be all zeros.\"\n",
    "    )\n",
    "\n",
    "    assert (\n",
    "        padded_tensor.sum(1) <= torch.ones((target_len, 1))\n",
    "    ).all(), err_string.format(case_id, \"Every row in the tensor should sum to at most 1.\")\n",
    "\n",
    "    assert padded_tensor.sum() <= len(name), err_string.format(\n",
    "        case_id,\n",
    "        \"The sum of all elements (i.e. the number of ones) should equal the number of characters in the name.\"\n",
    "    )\n",
    "\n",
    "\n",
    "test_name2padded_tensor()\n"
   ]
  },
  {
   "cell_type": "markdown",
   "metadata": {
    "deletable": false,
    "editable": false,
    "nbgrader": {
     "cell_type": "markdown",
     "checksum": "40a31911c299c0b4bd28507c4b83a495",
     "grade": false,
     "grade_id": "cell-c9657b653aeb1c93",
     "locked": true,
     "schema_version": 3,
     "solution": false
    }
   },
   "source": [
    "What should be the target length for our case in this dataset? Compute it (i.e. don't hardcode it) in the cell below and save it in a variable named `target_len`, which will be used from here on. **[1 point]**"
   ]
  },
  {
   "cell_type": "code",
   "execution_count": 578,
   "metadata": {
    "deletable": false,
    "nbgrader": {
     "cell_type": "code",
     "checksum": "e234cb9cbf5e590d942e05f678732fa1",
     "grade": true,
     "grade_id": "cell-ceb412223ee3e6dd",
     "locked": false,
     "points": 1,
     "schema_version": 3,
     "solution": true
    }
   },
   "outputs": [],
   "source": [
    "# YOUR CODE HERE\n",
    "\n",
    "# The target length for this dataset should be the length of the longest name available in the dictionary.\n",
    "# We can create a function that computes the longest name in any given dictionary. (for our it is 22)\n",
    "\n",
    "def find_longes_name(name_dict: dict) -> int:\n",
    "    \"\"\"Find and return the length of the longest name in a dictionary of lists of names.\n",
    "\n",
    "    Args:\n",
    "        name_dict (dict): A dictionary where the values are lists of names.\n",
    "\n",
    "    Returns:\n",
    "        int: The length of the longest name in the dictionary.\n",
    "    \"\"\"\n",
    "    longest_name = 0\n",
    "    for value in name_dict.values():\n",
    "        for name in value:\n",
    "            if len(name) > longest_name:\n",
    "                longest_name = len(name)\n",
    "                \n",
    "    return longest_name\n",
    "\n",
    "target_len = find_longes_name(name_dict=names_dict)"
   ]
  },
  {
   "cell_type": "markdown",
   "metadata": {
    "deletable": false,
    "editable": false,
    "nbgrader": {
     "cell_type": "markdown",
     "checksum": "901b6c3ed25c85d2cec741ad2e575ade",
     "grade": false,
     "grade_id": "cell-0bd908b10b33e7e2",
     "locked": true,
     "schema_version": 3,
     "solution": false
    }
   },
   "source": [
    "Now we can go through the entire dataset, encode each of the names, and save all of it in a tensor. We'll do the same with the ground-truth labels for the countries of each name."
   ]
  },
  {
   "cell_type": "code",
   "execution_count": 579,
   "metadata": {
    "deletable": false,
    "editable": false,
    "nbgrader": {
     "cell_type": "code",
     "checksum": "15a4f57533fa906a946a783721f7d7d3",
     "grade": false,
     "grade_id": "cell-c41ca1beab4900d1",
     "locked": true,
     "schema_version": 3,
     "solution": false
    }
   },
   "outputs": [],
   "source": [
    "# Create the tensors that will hold the names and labels\n",
    "# (note that the first dimension has 0 elements, this is a way to initialize an empty tensor for concatenating later)\n",
    "xs = torch.zeros(0, target_len, len(charset))\n",
    "ys = torch.zeros(0, dtype=torch.long)\n",
    "\n",
    "for i, country in enumerate(names_dict.keys()):\n",
    "\n",
    "    # Apply the name2padded_tensor function to each name in this country\n",
    "    temp = map(lambda n: name2padded_tensor(n, target_len), names_dict[country])\n",
    "\n",
    "    # Add a new dimension to the resulting tensors\n",
    "    temp = [name_tensor[None, :, :] for name_tensor in temp]\n",
    "\n",
    "    # Concatenate all of them along this new dimension\n",
    "    names_tensor = torch.cat(temp, dim=0)\n",
    "\n",
    "    # Add these tensors to `xs`\n",
    "    # Note that we have 44504 data pairs (x,y) where a single input x has the shape (target_len, 57),\n",
    "    # where 57 is the length of the one-hot-encoded vectors.\n",
    "    xs = torch.cat([xs, names_tensor], dim=0)\n",
    "\n",
    "    # Create tensor filled with i`s and add that to the ground-truth tensor\n",
    "    ys_for_this_country = torch.zeros(names_tensor.shape[0], dtype=torch.long) + i\n",
    "    ys = torch.cat([ys, ys_for_this_country])\n",
    "\n"
   ]
  },
  {
   "cell_type": "code",
   "execution_count": 580,
   "metadata": {
    "deletable": false,
    "editable": false,
    "nbgrader": {
     "cell_type": "code",
     "checksum": "59844c38d7efe88476c8c7299e4e0eb4",
     "grade": false,
     "grade_id": "cell-52dbbea6ddcef37d",
     "locked": true,
     "schema_version": 3,
     "solution": false
    }
   },
   "outputs": [
    {
     "data": {
      "text/plain": [
       "torch.Size([44504, 22, 57])"
      ]
     },
     "execution_count": 580,
     "metadata": {},
     "output_type": "execute_result"
    }
   ],
   "source": [
    "xs.shape"
   ]
  },
  {
   "cell_type": "code",
   "execution_count": 581,
   "metadata": {
    "deletable": false,
    "editable": false,
    "nbgrader": {
     "cell_type": "code",
     "checksum": "84f30aec4ebb491a7b47bc37f3c4428d",
     "grade": false,
     "grade_id": "cell-7e884148f06eed5d",
     "locked": true,
     "schema_version": 3,
     "solution": false
    }
   },
   "outputs": [
    {
     "data": {
      "text/plain": [
       "torch.Size([44504])"
      ]
     },
     "execution_count": 581,
     "metadata": {},
     "output_type": "execute_result"
    }
   ],
   "source": [
    "ys.shape"
   ]
  },
  {
   "cell_type": "markdown",
   "metadata": {
    "deletable": false,
    "editable": false,
    "nbgrader": {
     "cell_type": "markdown",
     "checksum": "d0ad8b82a67e3dae17a9dcf05d4886e3",
     "grade": false,
     "grade_id": "cell-0aa1483447535d5e",
     "locked": true,
     "schema_version": 3,
     "solution": false
    }
   },
   "source": [
    "Now we can create a dataset with these tensors."
   ]
  },
  {
   "cell_type": "code",
   "execution_count": 582,
   "metadata": {
    "deletable": false,
    "editable": false,
    "nbgrader": {
     "cell_type": "code",
     "checksum": "c11c5ff489587a4726ddeafa336d2265",
     "grade": false,
     "grade_id": "cell-6b352207c061f029",
     "locked": true,
     "schema_version": 3,
     "solution": false
    }
   },
   "outputs": [
    {
     "name": "stdout",
     "output_type": "stream",
     "text": [
      "Using cpu\n"
     ]
    }
   ],
   "source": [
    "from torch.utils.data import TensorDataset\n",
    "\n",
    "device = torch.device(\"cuda\" if torch.cuda.is_available() else \"cpu\")\n",
    "print(f\"Using {device}\")\n",
    "dataset = TensorDataset(xs.to(device), ys.to(device))"
   ]
  },
  {
   "cell_type": "markdown",
   "metadata": {
    "deletable": false,
    "editable": false,
    "nbgrader": {
     "cell_type": "markdown",
     "checksum": "86cdcef7c72b84485a13de4cf47e3dde",
     "grade": false,
     "grade_id": "cell-c20e8ae6ac70f92f",
     "locked": true,
     "schema_version": 3,
     "solution": false
    }
   },
   "source": [
    "And split it in training, validation, and test sets."
   ]
  },
  {
   "cell_type": "code",
   "execution_count": 583,
   "metadata": {
    "deletable": false,
    "editable": false,
    "nbgrader": {
     "cell_type": "code",
     "checksum": "eee2948e07aeee5fb4e585bf48160c6b",
     "grade": false,
     "grade_id": "cell-57448454a3d5dc19",
     "locked": true,
     "schema_version": 3,
     "solution": false
    }
   },
   "outputs": [],
   "source": [
    "from torch.utils.data import random_split\n",
    "\n",
    "val_ratio = 0.15\n",
    "test_ratio = 0.15\n",
    "\n",
    "n_samples = len(dataset)\n",
    "n_val_samples = int(n_samples * val_ratio)\n",
    "n_test_samples = int(n_samples * test_ratio)\n",
    "n_train_samples = n_samples - n_val_samples - n_test_samples\n",
    "\n",
    "train_dataset, val_dataset, test_dataset = random_split(\n",
    "    dataset, [n_train_samples, n_val_samples, n_test_samples]\n",
    ")\n",
    "\n"
   ]
  },
  {
   "cell_type": "markdown",
   "metadata": {
    "deletable": false,
    "editable": false,
    "nbgrader": {
     "cell_type": "markdown",
     "checksum": "da53c7a8fffae55f48861e3dd82bfb1f",
     "grade": false,
     "grade_id": "cell-485c36faf4913176",
     "locked": true,
     "schema_version": 3,
     "solution": false
    }
   },
   "source": [
    "### 1.3 Defining the optimization"
   ]
  },
  {
   "cell_type": "markdown",
   "metadata": {
    "deletable": false,
    "editable": false,
    "nbgrader": {
     "cell_type": "markdown",
     "checksum": "55b9eae950e59b122a032b8e99f8d4da",
     "grade": false,
     "grade_id": "cell-b2ed39f361f618c2",
     "locked": true,
     "schema_version": 3,
     "solution": false
    }
   },
   "source": [
    "Now we will define the model to be trained, that is, a single layer RNN. As usual, we will create a class for the model and inherit from `nn.Module`. Define in the next cell a class for an RNN that follows the equations:\n",
    "\n",
    "$$ h_t = \\text{tanh}(W_h x_t + U_h h_{t-1} + b_h) $$\n",
    "$$ y_t = \\log \\Big(\\text{Softmax}(W_y h_t + b_y)\\Big)~,$$\n",
    "\n",
    "where $h_t$ is the current hidden-state, $h_{t-1}$ is the previous hidden state, $x_t$ is the input, $y_t$ is the output, and $W_h, U_h, b_h, W_y, b_y$ are the trainable parts of the RNN. As explained before, we will use this RNN to classify names, inputting one character at each step and using the last output as the prediction for a distribution over probable countries for the name.\n",
    "\n",
    "*Hints:*\n",
    "\n",
    "- As you're probably aware by now, PyTorch [has a layer](https://pytorch.org/docs/stable/nn.html#logsoftmax) that already applies the log and the softmax in one pass.\n",
    "- If you get errors related to size mismatches when computing the forward-propagation in your model, try reading the documentation for the specific module where the problem is occurring (e.g. [`nn.Linear`](https://pytorch.org/docs/stable/nn.html#linear)), especially the part about the expected shape of inputs and outputs.\n",
    "\n",
    "**[1 point]**"
   ]
  },
  {
   "cell_type": "markdown",
   "metadata": {},
   "source": [
    "While creating our RNN we used this expression:\n",
    "\n",
    "$$ h_t = \\text{tanh}(W_h x_t + U_h h_{t-1} + b_h) \\quad \\rightarrow \\quad h_t = \\text{tanh}\\bigg(\\begin{bmatrix}W_h & U_h\\end{bmatrix} \\begin{bmatrix} x_t \\\\ h_{t-1}\\end{bmatrix} + b_h\\bigg)$$\n",
    "\n",
    "And as we can see, if we concatenate the weights for the input $x_t$ and hidden state $h_{t-1}$ we obtain an expression for a fully connected layer $z_t = W_{concat}x_{concat} + b_h$ where the size of the inputs are simply the sum of the input $x_t$ and the hidden state $h_{t-1}$. We call this layer input_to_hidden, or in short i2h. We then use this $z_t$ and pass it through the Tanh function to obtain our new hidden state $h_t$. Moreover we consider the expression:\n",
    "\n",
    "$$ y_t = \\log \\Big(\\text{Softmax}(W_y h_t + b_y)\\Big)~$$\n",
    "\n",
    "This uses the newly calculated $h_t$ as input for what also is structured as a fully connected layer. This layer has different weights and biases, and rthe input size is just the size of the hidden layer. The output size here however is just the size of the ouput (i.e 41). We call this layer hidden_2_output or ins short h2o. We use this reasoning while constructing the RNN class below\n",
    "\n",
    "/ Erik & Nicholas"
   ]
  },
  {
   "cell_type": "code",
   "execution_count": 584,
   "metadata": {
    "deletable": false,
    "nbgrader": {
     "cell_type": "code",
     "checksum": "0c96f0bb09ac33d4edfa364bb855271c",
     "grade": true,
     "grade_id": "cell-63759a1c550cd7e1",
     "locked": false,
     "points": 1,
     "schema_version": 3,
     "solution": true
    }
   },
   "outputs": [],
   "source": [
    "import torch.nn as nn\n",
    "\n",
    "\n",
    "class RNN(nn.Module):\n",
    "    def __init__(self, input_size: int, hidden_size: int, output_size: int):\n",
    "        \"\"\"\n",
    "        Inputs:\n",
    "            input_size     - Dimensionality of the input of this RNN.\n",
    "            hidden_size    - Dimensionality of the hidden state.\n",
    "            output_size    - Dimensionality of the output of this RNN.\n",
    "        \"\"\"\n",
    "\n",
    "        super(RNN, self).__init__()\n",
    "        self.hidden_size = hidden_size\n",
    "\n",
    "        # YOUR CODE HERE\n",
    "\n",
    "        # Create the fully connected layer for the hidden state\n",
    "        self.i2h = nn.Linear(input_size + hidden_size, hidden_size)\n",
    "\n",
    "        # Create the fully connected layer for the output\n",
    "        self.h2o = nn.Linear(hidden_size, output_size)\n",
    "\n",
    "        # Define functions / activation functions\n",
    "        self.log_softmax = nn.LogSoftmax(dim=1)     # dim=1 is important! since we do not want to do softmax over the batch (which is at dim=0) \n",
    "        self.tanh = nn.Tanh()\n",
    "\n",
    "\n",
    "    def forward(self, x: torch.tensor, h: torch.tensor) -> tuple[torch.tensor, torch.tensor]:\n",
    "        \"\"\"\n",
    "        Runs the RNN module for one time-step.\n",
    "        Inputs:\n",
    "            x              - Batch of one-hot encoded characters. \n",
    "                             Tensor of size (BATCH SIZE x CHARSET LENGTH).\n",
    "            h              - Batch of hidden states at previous time-step.\n",
    "                             Tensor of size (BATCH SIZE x `hidden_size`).\n",
    "        \n",
    "        Returns:\n",
    "            y              - Batch of outputs.\n",
    "                             Tensor of size (BATCH SIZE x NUMBER OF COUNTRIES).\n",
    "            new_h          - Batch of hidden states at current time-step.\n",
    "                             Tensor of size (BATCH SIZE x `hidden_size`).\n",
    "        \"\"\"\n",
    "\n",
    "        # YOUR CODE HERE\n",
    "        \n",
    "        # First we concatenate the tensors\n",
    "        combined = torch.cat((x, h), dim=1)\n",
    "\n",
    "        # Secondly we compute our concatenated z, we then pass this z to Tanh() to obtain the new hidden state h_t\n",
    "        z_hidden = self.i2h(combined)\n",
    "        new_h = self.tanh(z_hidden)\n",
    "\n",
    "        # Finally we use the h2o layer to compute the new z, then pass this through the log softmax to obtain the new output y\n",
    "        z_output = self.h2o(new_h)\n",
    "        y = self.log_softmax(z_output)\n",
    "\n",
    "        return y, new_h\n",
    "    "
   ]
  },
  {
   "cell_type": "markdown",
   "metadata": {
    "deletable": false,
    "editable": false,
    "nbgrader": {
     "cell_type": "markdown",
     "checksum": "ef6f13ee64c864145910c8c572c69619",
     "grade": false,
     "grade_id": "cell-41a6ab734e65e9e2",
     "locked": true,
     "schema_version": 3,
     "solution": false
    }
   },
   "source": [
    "Run the following cell to test whether the shape of your outputs are correct. Note that this *only* checks the shapes, not the content (one way you can check the actual computations of your network is to `print` the tensors as they pass through the layers, in order to check that the computations do what you expected)."
   ]
  },
  {
   "cell_type": "code",
   "execution_count": 585,
   "metadata": {
    "deletable": false,
    "editable": false,
    "nbgrader": {
     "cell_type": "code",
     "checksum": "b13549f6823038fcbdd83dcc4b043a82",
     "grade": false,
     "grade_id": "cell-0895e453938dcd22",
     "locked": true,
     "schema_version": 3,
     "solution": false
    }
   },
   "outputs": [
    {
     "name": "stdout",
     "output_type": "stream",
     "text": [
      "Test passed.\n"
     ]
    }
   ],
   "source": [
    "batch_size = 16\n",
    "# Create a test tensor of size (batch_size x CHARSET LENGTH)\n",
    "t = torch.ones((batch_size, len(charset))).to(device)\n",
    "\n",
    "# Forward-prop through the RNN\n",
    "rnn = RNN(len(charset), 3, len(names_dict)).to(device)\n",
    "h = torch.ones((batch_size, 3)).to(device)\n",
    "y, new_h = rnn(t, h)\n",
    "\n",
    "# Test dimensions of the outputs\n",
    "err_str = \"The {} has incorrect dimension. Dimension is {}, but should've been {}\"\n",
    "assert list(y.shape) == [batch_size, len(names_dict)], err_str.format(\n",
    "    \"output\", list(y.shape), [batch_size, len(names_dict)]\n",
    ")\n",
    "assert list(new_h.shape) == [batch_size, 3], err_str.format(\n",
    "    \"new hidden state\", list(new_h.shape), [batch_size, 3]\n",
    ")\n",
    "\n",
    "print(\"Test passed.\")\n",
    "\n"
   ]
  },
  {
   "cell_type": "markdown",
   "metadata": {
    "deletable": false,
    "editable": false,
    "nbgrader": {
     "cell_type": "markdown",
     "checksum": "b11e5934fe26e1176969794d05c7671f",
     "grade": false,
     "grade_id": "cell-f879b658d2fe97d5",
     "locked": true,
     "schema_version": 3,
     "solution": false
    }
   },
   "source": [
    "**[2 points]** Suppose we now create an RNN using the following call: `RNN(x, y, z)`. How many parameters would this model have in total?"
   ]
  },
  {
   "cell_type": "markdown",
   "metadata": {
    "deletable": false,
    "nbgrader": {
     "cell_type": "markdown",
     "checksum": "3a75752559679046eec4403fbd11df95",
     "grade": true,
     "grade_id": "cell-d359daf8f96289bc",
     "locked": false,
     "points": 2,
     "schema_version": 3,
     "solution": true
    }
   },
   "source": [
    "**Your answer:** (fill in here)\n",
    "\n",
    "We compute the amount of parameters in the layers respectively\n",
    "\n",
    "1. i2h layer:\n",
    "   - Input size:                    $(x + y)$\n",
    "   - Output size:                   $(y)$\n",
    "   - Parameters weights:            $(x + y) * (y)$\n",
    "   - Parameters biases:             $(y)$\n",
    "\n",
    "2. h2o layer:\n",
    "   - Input size:                    $(y)$\n",
    "   - Output size:                   $(z)$\n",
    "   - Parameters weights:            $(y) * (z)$\n",
    "   - Parameters biases:             $(z)$\n",
    "\n",
    "3. Activation functions:\n",
    "   - None\n",
    "\n",
    "This gives us $Tot = \\bigg((x + y) * (y)\\bigg) + (y) + \\bigg((y) * (z)\\bigg) + (z)$\n",
    "\n",
    "/ Erik & Nicholas"
   ]
  },
  {
   "cell_type": "markdown",
   "metadata": {
    "deletable": false,
    "editable": false,
    "nbgrader": {
     "cell_type": "markdown",
     "checksum": "0d5dc81f8efd4a09172a3480777b3273",
     "grade": false,
     "grade_id": "cell-e3ae784b6fd462cb",
     "locked": true,
     "schema_version": 3,
     "solution": false
    }
   },
   "source": [
    "We will use the Adam optimizer:"
   ]
  },
  {
   "cell_type": "code",
   "execution_count": 586,
   "metadata": {
    "deletable": false,
    "editable": false,
    "nbgrader": {
     "cell_type": "code",
     "checksum": "32abb30aecff746e6f8450bd2585ccd9",
     "grade": false,
     "grade_id": "cell-c8087333699def0c",
     "locked": true,
     "schema_version": 3,
     "solution": false
    }
   },
   "outputs": [],
   "source": [
    "from torch.optim import Adam"
   ]
  },
  {
   "cell_type": "markdown",
   "metadata": {
    "deletable": false,
    "editable": false,
    "nbgrader": {
     "cell_type": "markdown",
     "checksum": "76849f484a3adefd591bfca9ac7f9bbf",
     "grade": false,
     "grade_id": "cell-6411a391a74a5e36",
     "locked": true,
     "schema_version": 3,
     "solution": false
    }
   },
   "source": [
    "and since this is a classification problem we will use the negative log-likelihood loss ([`NLLLoss`](https://pytorch.org/docs/stable/generated/torch.nn.NLLLoss.html#torch.nn.NLLLoss)) to train the model. We should account for the fact that our dataset is imbalanced, and one way of dealing with this problem is to assign different weights to each class in our problem. "
   ]
  },
  {
   "cell_type": "code",
   "execution_count": 587,
   "metadata": {
    "deletable": false,
    "editable": false,
    "nbgrader": {
     "cell_type": "code",
     "checksum": "d5b7a4d07bf432bf1e03d2a0c68d3146",
     "grade": false,
     "grade_id": "cell-934166eac20acb50",
     "locked": true,
     "schema_version": 3,
     "solution": false
    }
   },
   "outputs": [],
   "source": [
    "# Compute weights for each class\n",
    "n_names_for_each_country = [len(v) for v in names_dict.values()]\n",
    "ns = torch.tensor(n_names_for_each_country, dtype=torch.float)\n",
    "w = 1.0 / ns\n",
    "w = w / w.sum()\n",
    "\n",
    "# Define loss\n",
    "global criterion\n",
    "criterion = nn.NLLLoss(weight=w.to(device))\n"
   ]
  },
  {
   "cell_type": "markdown",
   "metadata": {
    "deletable": false,
    "editable": false,
    "nbgrader": {
     "cell_type": "markdown",
     "checksum": "53ce890d1fddec319a2f1a498f8a0e01",
     "grade": false,
     "grade_id": "cell-b333a7e050fbe007",
     "locked": true,
     "schema_version": 3,
     "solution": false
    }
   },
   "source": [
    "**[2 points]** Why is it a problem that the dataset is imbalanced? What would be the consequence of not dealing with this problem?"
   ]
  },
  {
   "cell_type": "markdown",
   "metadata": {
    "deletable": false,
    "nbgrader": {
     "cell_type": "markdown",
     "checksum": "39b45db880f3a25283647535d49fed4f",
     "grade": true,
     "grade_id": "cell-a044d5b4e3bcf29b",
     "locked": false,
     "points": 2,
     "schema_version": 3,
     "solution": true
    }
   },
   "source": [
    "**Your answer:** (fill in here)\n",
    "\n",
    "It is a problem because an imbalanced dataset can bias the model's training process. If one class has significantly more samples than others, the model might become more biased toward the majority class, as it has more opportunities to learn from it. The consequence of this is that it can lead to poor generalization on the minority classes. Since China, U.S.A and Italy are overrepresented, it can cause the network to be trained to predict these countries more than others.\n",
    "\n",
    "/ Erik & Nicholas"
   ]
  },
  {
   "cell_type": "markdown",
   "metadata": {
    "deletable": false,
    "editable": false,
    "nbgrader": {
     "cell_type": "markdown",
     "checksum": "c349e4191662336f20987e4ac762a737",
     "grade": false,
     "grade_id": "cell-0611001189dd369a",
     "locked": true,
     "schema_version": 3,
     "solution": false
    }
   },
   "source": [
    "**[3 points]** Why does assigning different weights to each class solve this problem? How should the weights be chosen?"
   ]
  },
  {
   "cell_type": "markdown",
   "metadata": {
    "deletable": false,
    "nbgrader": {
     "cell_type": "markdown",
     "checksum": "504304e6d0e5cafb4cca4a614fef9c22",
     "grade": true,
     "grade_id": "cell-f19ff5370ea1e86d",
     "locked": false,
     "points": 3,
     "schema_version": 3,
     "solution": true
    }
   },
   "source": [
    "**Your answer:** (fill in here)\n",
    "\n",
    "\n",
    "Assigning different weights to the classes solves this problem by giving more importance to minority classes, making the model more sensitive to them during training. Furthermore, this also makes the over-represented classes less important and the model is hence less sensitive to these.\n",
    "\n",
    "The different weights for the classes can be choosen in multiple ways. One example is the way which is shown above, which is 'Inverse class frequency'. this is a rather straight-forward technique that balances the impact of each class. The important part is that the choice of class weights should be dictated by the specific problem.\n",
    "\n",
    "/ Erik & Nicholas"
   ]
  },
  {
   "cell_type": "markdown",
   "metadata": {
    "deletable": false,
    "editable": false,
    "nbgrader": {
     "cell_type": "markdown",
     "checksum": "dab1c1395041673c28ae98f9c66bea2d",
     "grade": false,
     "grade_id": "cell-ced0796bf818f493",
     "locked": true,
     "schema_version": 3,
     "solution": false
    }
   },
   "source": [
    "**[3 points]** Is there any situation where *we would want* class imbalances? How could we create such a class imbalance in a balanced dataset (without changing the dataset itself)? "
   ]
  },
  {
   "cell_type": "markdown",
   "metadata": {
    "deletable": false,
    "nbgrader": {
     "cell_type": "markdown",
     "checksum": "e39a72245eba4ba1147edbb60d0312ec",
     "grade": true,
     "grade_id": "cell-821c6a2fb462d2f9",
     "locked": false,
     "points": 3,
     "schema_version": 3,
     "solution": true
    }
   },
   "source": [
    "**Your answer:** (fill in here)\n",
    "\n",
    "Yes in certain problems an unbalanced dataset is desired. This is desirable in situations where the imbalance is actually representaticve of the frequency of certain data. En example of this is Anomaly detection; Most data points are considered normal, while only a small fraction are anomalies. The goal is to identify these anomalies, which are typically of higher interest and hence it is desired to have these \"outliers\" or less frequent datas.\n",
    "\n",
    "Intentionally creating imbalance in a balanced dataset is possible without changing the contents of the dataset. Imbalance can be obtained by controlling the sampling or data collecionm process. Some ways to create this is by; Under-samplig, Over-sampling or Cost-sensitive learning. all of which does not manipulate the dataset in any way but only introduces imbalance!\n",
    "\n",
    "/ Erik & Nicholas"
   ]
  },
  {
   "cell_type": "markdown",
   "metadata": {
    "deletable": false,
    "editable": false,
    "nbgrader": {
     "cell_type": "markdown",
     "checksum": "cbc3cc703eb376f0ad0be049bef4e506",
     "grade": false,
     "grade_id": "cell-95508ad6a5c542b5",
     "locked": true,
     "schema_version": 3,
     "solution": false
    }
   },
   "source": [
    "### 1.4 Helper functions for training"
   ]
  },
  {
   "cell_type": "markdown",
   "metadata": {
    "deletable": false,
    "editable": false,
    "nbgrader": {
     "cell_type": "markdown",
     "checksum": "58265723d45b24d2b45cf6afb91486e9",
     "grade": false,
     "grade_id": "cell-ccbb270d5fe1c30c",
     "locked": true,
     "schema_version": 3,
     "solution": false
    }
   },
   "source": [
    "Now that we defined the optimization problem, we can start creating the code to actually solve it. The first thing that we need is a function that, given a batch of samples, computes the output of the model for every sample and the average loss across all samples. \n",
    "\n",
    "Complete the function `batch_forward_prop` to produce this behavior.\n",
    "\n",
    "*Hints*:\n",
    "\n",
    "- Initialize the hidden state to a zero Tensor for the first forward-propagation.\n",
    "- If you get errors related to size mismatches when computing the forward-propagation in your model, try reading the documentation for the specific module where the problem is occurring (e.g. [`nn.Linear`](https://pytorch.org/docs/stable/nn.html#linear)), especially the part about the expected shape of inputs and outputs.\n",
    "- If you get errors related to size mismatches when computing the loss, try reading the [documentation for it](https://pytorch.org/docs/stable/nn.html#nllloss), especially the part about the expected shape of inputs and outputs.\n",
    "\n",
    "**[2 points]**"
   ]
  },
  {
   "cell_type": "code",
   "execution_count": 588,
   "metadata": {
    "deletable": false,
    "nbgrader": {
     "cell_type": "code",
     "checksum": "75648e70d6a7c1bf1efc1466ea579829",
     "grade": true,
     "grade_id": "cell-080aad948708672d",
     "locked": false,
     "points": 2,
     "schema_version": 3,
     "solution": true
    }
   },
   "outputs": [],
   "source": [
    "def batch_forward_prop(rnn: nn.Module, xs: torch.tensor, ys: torch.tensor) -> tuple[torch.tensor, torch.tensor]:  \n",
    "    \"\"\"\n",
    "    Inputs:\n",
    "        rnn            - The RNN model, instance of the RNN class.\n",
    "        xs             - Batch of input words.\n",
    "                         Tensor of shape (BATCH SIZE x `target_len` x CHARSET LENGTH).\n",
    "        ys             - Batch of ground-truth labels.\n",
    "                         Tensor of  shape (BATCH_SIZE).\n",
    "    \n",
    "    Returns:\n",
    "        output         - Output computed at the last character position in the batch.\n",
    "                         Tensor of shape (BATCH_SIZE x NUMBER OF COUNTRIES).\n",
    "        loss           - Value of the average loss across the predictions for this batch, later used for back-propagation.\n",
    "                         Tensor with a single element inside.\n",
    "    \"\"\"\n",
    "    \n",
    "    # YOUR CODE HERE\n",
    "\n",
    "    # Get the batch size & hidden size\n",
    "    batch_size = xs.size(dim=0)\n",
    "    hidden_size = rnn.hidden_size\n",
    "\n",
    "    # initialize hidden state as a zero Tensor for the first forward prop\n",
    "    h = torch.zeros(batch_size, hidden_size)\n",
    "\n",
    "    # Take the global variable 'criterion' as loss function\n",
    "    loss_function = criterion\n",
    "\n",
    "    # Create empty list to gather individual losses\n",
    "    losses = []\n",
    "\n",
    "    # Iterate over the 1st dimension in the batch of words xs\n",
    "    for t in range(xs.size(dim=1)):\n",
    "\n",
    "        # Extract x for the time t\n",
    "        x_t = xs[:, t, :]\n",
    "\n",
    "        # Forward propagate x_t and the hidden state h in our RNN\n",
    "        output, h = rnn(x_t, h)\n",
    "\n",
    "        # Compute individual loss\n",
    "        individual_loss = loss_function(output, ys)\n",
    "\n",
    "        # Append individual loss to losses list\n",
    "        losses.append(individual_loss)\n",
    "\n",
    "    # Compute the mean loss as tensor\n",
    "    loss = torch.mean(torch.stack(losses, dim=0))\n",
    "\n",
    "    return output, loss\n"
   ]
  },
  {
   "cell_type": "markdown",
   "metadata": {
    "deletable": false,
    "editable": false,
    "nbgrader": {
     "cell_type": "markdown",
     "checksum": "99ee062817c7b56e5180058437d2f26d",
     "grade": false,
     "grade_id": "cell-644f9d6aaa50e21c",
     "locked": true,
     "schema_version": 3,
     "solution": false
    }
   },
   "source": [
    "Run the following cell to test whether the shape of your outputs are correct. Note that this *only* checks the shapes, not the content."
   ]
  },
  {
   "cell_type": "code",
   "execution_count": 589,
   "metadata": {
    "deletable": false,
    "editable": false,
    "nbgrader": {
     "cell_type": "code",
     "checksum": "a3dbd376c434b09e3945c9d1ac43b803",
     "grade": false,
     "grade_id": "cell-02f7744a186b2ebe",
     "locked": true,
     "schema_version": 3,
     "solution": false
    }
   },
   "outputs": [
    {
     "name": "stdout",
     "output_type": "stream",
     "text": [
      "Test passed.\n"
     ]
    }
   ],
   "source": [
    "def test_rnn():\n",
    "    # Create two tensors\n",
    "    t1 = name2tensor('Unit')\n",
    "    t2 = name2tensor('Test')\n",
    "\n",
    "    # Add the batch dimension to them and concatenate\n",
    "    t = torch.cat([t1[None, :], t2[None, :]], dim=0)\n",
    "\n",
    "    # Create label tensor\n",
    "    l = torch.ones((2), dtype=torch.long)\n",
    "\n",
    "    # Create RNN\n",
    "    rnn = RNN(len(charset), 10, len(names_dict))\n",
    "\n",
    "    # Put everything in the correct device\n",
    "    t = t.to(device)\n",
    "    l = l.to(device)\n",
    "    rnn.to(device)\n",
    "\n",
    "    # Perform the forward-prop\n",
    "    y, loss = batch_forward_prop(rnn, t, l)\n",
    "\n",
    "    # Test dimensions of the outputs\n",
    "    err_str = 'The {} has incorrect dimension. Dimension is {}, but should\\'ve been {}'\n",
    "    assert list(y.shape) == [2, len(names_dict)], err_str.format('output', list(y.shape), [2, len(names_dict)])\n",
    "    assert list(loss.shape) == [], err_str.format('loss', list(loss.shape), [])\n",
    "\n",
    "    print('Test passed.')\n",
    "    \n",
    "test_rnn()"
   ]
  },
  {
   "cell_type": "markdown",
   "metadata": {
    "deletable": false,
    "editable": false,
    "nbgrader": {
     "cell_type": "markdown",
     "checksum": "d0829fc6b5254f539a66a81a3024bdfc",
     "grade": false,
     "grade_id": "cell-4010f6bcbc1e6245",
     "locked": true,
     "schema_version": 3,
     "solution": false
    }
   },
   "source": [
    "Using this function, it's straightforward to train on a single batch of data:"
   ]
  },
  {
   "cell_type": "code",
   "execution_count": 590,
   "metadata": {
    "deletable": false,
    "editable": false,
    "nbgrader": {
     "cell_type": "code",
     "checksum": "14bd8c317ed86e66c5c7ba211682f58b",
     "grade": false,
     "grade_id": "cell-78972c6d342b4da9",
     "locked": true,
     "schema_version": 3,
     "solution": false
    }
   },
   "outputs": [],
   "source": [
    "def train_batch(rnn, xs, ys, optimizer):\n",
    "\n",
    "    # Compute the output for all samples in the batch and the average loss\n",
    "    output, loss = batch_forward_prop(rnn, xs, ys)\n",
    "\n",
    "    # Zero gradients before computing backward-propagation\n",
    "    optimizer.zero_grad()\n",
    "\n",
    "    # Backward-propagation\n",
    "    loss.backward()\n",
    "\n",
    "    # Clip the gradient norm (optional, helps to stabilize training)\n",
    "    nn.utils.clip_grad_norm_(rnn.parameters(), 2)\n",
    "\n",
    "    # Perform one step of optimization\n",
    "    optimizer.step()\n",
    "\n",
    "    return output, loss\n"
   ]
  },
  {
   "cell_type": "markdown",
   "metadata": {
    "deletable": false,
    "editable": false,
    "nbgrader": {
     "cell_type": "markdown",
     "checksum": "576143bb6960f21f2b68bd6bb977a9f0",
     "grade": false,
     "grade_id": "cell-f2b194756febe3f1",
     "locked": true,
     "schema_version": 3,
     "solution": false
    }
   },
   "source": [
    "We will also need a function for computing metrics of interest in the validation set. In this case, we will plot both the loss and the F1-score in the validation set. The F1-score of a classifier is the [harmonic mean](https://en.wikipedia.org/wiki/Harmonic_mean) of its [precision and recall](https://en.wikipedia.org/wiki/Precision_and_recall), two metrics that are more useful than accuracy for imbalanced datasets. [This blog post](https://towardsdatascience.com/accuracy-precision-recall-or-f1-331fb37c5cb9) can help you to familiarize yourself with these new metrics."
   ]
  },
  {
   "cell_type": "code",
   "execution_count": 591,
   "metadata": {
    "deletable": false,
    "editable": false,
    "nbgrader": {
     "cell_type": "code",
     "checksum": "208a5f56500847a17c3da081f13fc9f6",
     "grade": false,
     "grade_id": "cell-94021e46113ec8cb",
     "locked": true,
     "schema_version": 3,
     "solution": false
    }
   },
   "outputs": [],
   "source": [
    "from sklearn.metrics import precision_recall_fscore_support\n",
    "\n",
    "\n",
    "def compute_metrics_on_validation_set(rnn, val_dataset):\n",
    "    # Get all the input and labels in the training set.\n",
    "    x_val, y_val = val_dataset[:]\n",
    "\n",
    "    # Perform forward-prop in the entire validation set, with autograd disabled\n",
    "    with torch.no_grad():\n",
    "        val_output, val_loss = batch_forward_prop(rnn, x_val, y_val)\n",
    "\n",
    "    # Get numpy arrays for the true labels and the predictions\n",
    "    y_true = y_val.cpu().numpy()\n",
    "    y_pred = val_output.argmax(dim=1).cpu().numpy()\n",
    "\n",
    "    # Compute precision, recall, and F-score\n",
    "    precision, recall, fscore, _ = precision_recall_fscore_support(\n",
    "        y_true, y_pred, average=\"macro\"\n",
    "    )\n",
    "\n",
    "    return val_loss, precision, recall, fscore\n"
   ]
  },
  {
   "cell_type": "markdown",
   "metadata": {
    "deletable": false,
    "editable": false,
    "nbgrader": {
     "cell_type": "markdown",
     "checksum": "06672da367df025e50d1fc66d1a14015",
     "grade": false,
     "grade_id": "cell-2e37e571600c2220",
     "locked": true,
     "schema_version": 3,
     "solution": false
    }
   },
   "source": [
    "Lastly, we define a function for plotting the metrics in real-time."
   ]
  },
  {
   "cell_type": "code",
   "execution_count": 592,
   "metadata": {
    "deletable": false,
    "editable": false,
    "nbgrader": {
     "cell_type": "code",
     "checksum": "9378a010371205dca7d327ef558bb638",
     "grade": false,
     "grade_id": "cell-2807fe4cfa2d8b29",
     "locked": true,
     "schema_version": 3,
     "solution": false
    }
   },
   "outputs": [],
   "source": [
    "def plot_metrics(fig, ax, ns, train_losses, train_fscores, val_losses, val_fscores):\n",
    "\n",
    "    # Plot losses\n",
    "    ax[0].clear()\n",
    "    ax[0].plot(ns, train_losses)\n",
    "    ax[0].plot(ns, val_losses)\n",
    "    ax[0].set_title('Loss')\n",
    "    ax[0].legend(['Train','Validation'])\n",
    "    ax[0].set_xlabel('Number of trained batches')\n",
    "    ax[0].grid()\n",
    "\n",
    "    # Plot F1-scores\n",
    "    ax[1].clear()\n",
    "    ax[1].plot(ns, train_fscores)\n",
    "    ax[1].plot(ns, val_fscores)\n",
    "    ax[1].plot(ns, [0.3]*len(ns), 'k--')\n",
    "    ax[1].set_title('Macro F1-score')\n",
    "    ax[1].legend(['Train','Validation', 'F1-score threshold'])\n",
    "    ax[1].set_xlabel('Number of trained batches')\n",
    "    ax[1].grid()\n",
    "    \n",
    "    \n",
    "    fig.canvas.draw()\n",
    "    "
   ]
  },
  {
   "cell_type": "markdown",
   "metadata": {
    "deletable": false,
    "editable": false,
    "nbgrader": {
     "cell_type": "markdown",
     "checksum": "520a4c1ba775bfc75e1ed71009bcf6b9",
     "grade": false,
     "grade_id": "cell-2a8edc5c0c4d13d6",
     "locked": true,
     "schema_version": 3,
     "solution": false
    }
   },
   "source": [
    "With these helper functions, the `train` function becomes:"
   ]
  },
  {
   "cell_type": "code",
   "execution_count": 593,
   "metadata": {
    "deletable": false,
    "editable": false,
    "nbgrader": {
     "cell_type": "code",
     "checksum": "1a9b23a5e750c299ed81585d822ad073",
     "grade": false,
     "grade_id": "cell-61029512380ba880",
     "locked": true,
     "schema_version": 3,
     "solution": false
    }
   },
   "outputs": [],
   "source": [
    "from torch.utils.data import DataLoader\n",
    "\n",
    "def train(rnn, n_epochs, learning_rate, batch_size, train_dataset, val_dataset):\n",
    "    \n",
    "    # Setup the figure for plotting progress during training\n",
    "    # %matplotlib notebook\n",
    "    fig, ax = plt.subplots(ncols=2, figsize=(12,4))\n",
    "    plt.ion()\n",
    "    plot_interval = 100\n",
    "    \n",
    "    # Create arrays to average training metrics across batches\n",
    "    preds = []\n",
    "    labels = []\n",
    "    losses = []\n",
    "    \n",
    "    # Create dictionaries to hold the computed metrics in\n",
    "    train_data = {'losses': [], 'fscores': []}\n",
    "    val_data = {'losses': [], 'fscores': []}\n",
    "    \n",
    "    optimizer = Adam(rnn.parameters(), lr=learning_rate)\n",
    "    train_data_loader = DataLoader(train_dataset, batch_size=batch_size, shuffle=True, drop_last=True)\n",
    "    batch_idxs = []\n",
    "    \n",
    "    # Training loop\n",
    "    i_batch = 0\n",
    "    for n in range(n_epochs):\n",
    "        for i, (x_batch, y_batch) in enumerate(train_data_loader):\n",
    "            i_batch += 1\n",
    "            \n",
    "            # Compute loss and outputs\n",
    "            output, loss = train_batch(rnn, x_batch, y_batch, optimizer)\n",
    "            \n",
    "            # Aggregate for later averaging\n",
    "            preds += output.argmax(dim=1).cpu().tolist()\n",
    "            labels += y_batch.cpu().tolist()\n",
    "            losses.append(loss)\n",
    "            \n",
    "            # Compute metrics and plot after every `plot_interval` batches\n",
    "            if i % plot_interval == 0:\n",
    "              \n",
    "                val_loss, _, _, val_fscore = compute_metrics_on_validation_set(rnn, val_dataset)\n",
    "                train_fscore = precision_recall_fscore_support(labels, preds, average='macro')[2]\n",
    "                \n",
    "                val_data['losses'].append(val_loss.cpu())\n",
    "                val_data['fscores'].append(val_fscore)\n",
    "                train_data['losses'].append((sum(losses)/len(losses)).item())\n",
    "                train_data['fscores'].append(train_fscore)\n",
    "                batch_idxs.append(i_batch)\n",
    "\n",
    "                preds = []\n",
    "                labels = []\n",
    "                losses = []\n",
    "\n",
    "                plot_metrics(fig, ax, batch_idxs, train_data['losses'], train_data['fscores'], val_data['losses'], val_data['fscores'])"
   ]
  },
  {
   "cell_type": "markdown",
   "metadata": {
    "deletable": false,
    "editable": false,
    "nbgrader": {
     "cell_type": "markdown",
     "checksum": "0f89bbf2c0e1f3ab9e64a937f8e24863",
     "grade": false,
     "grade_id": "cell-f92f1fd576a8a7cb",
     "locked": true,
     "schema_version": 3,
     "solution": false
    }
   },
   "source": [
    "Make sure that you completely understand the `train` function before proceeding (e.g. that we aggregate predictions from different batches and compute metrics only at a certain interval, etc)."
   ]
  },
  {
   "cell_type": "markdown",
   "metadata": {
    "deletable": false,
    "editable": false,
    "nbgrader": {
     "cell_type": "markdown",
     "checksum": "487f8bd9d91b0abeeae00e8c120a6f15",
     "grade": false,
     "grade_id": "cell-18f5c7620b914ebd",
     "locked": true,
     "schema_version": 3,
     "solution": false
    }
   },
   "source": [
    "### 1.5 Training!\n",
    "\n",
    "Now we're ready to train the network! Create an RNN and use the `train` function to train it.\n",
    "\n",
    "*Hints*:\n",
    "\n",
    "- Tuning the hyper-parameters (number of hidden units, learning rate, batch size, etc) will take some trial-and-error. Try simple things first, and then once you manage to train them, start scaling up. Also, have in mind the bias-variance tradeoff mentioned in the lectures.\n",
    "- When tuning the learning rate, focus first on being able to decrease the training loss. Keep decreasing the learning rate until that starts happening.\n",
    "- You should use a GPU for fast training times. Using a CPU, training a network can take ~5-10 minutes with suitable hyper-parameters. With a GPU training takes ~1 minute with the same hyper-parameters."
   ]
  },
  {
   "cell_type": "code",
   "execution_count": 594,
   "metadata": {
    "deletable": false,
    "nbgrader": {
     "cell_type": "code",
     "checksum": "0e3d64e9c5c79168399628331405b8ed",
     "grade": true,
     "grade_id": "cell-937381af9dcaf490",
     "locked": false,
     "points": 0,
     "schema_version": 3,
     "solution": true
    }
   },
   "outputs": [
    {
     "name": "stdout",
     "output_type": "stream",
     "text": [
      "Training on device: cpu\n"
     ]
    },
    {
     "data": {
      "image/png": "[encoded data removed]",
      "text/plain": [
       "<Figure size 1200x400 with 2 Axes>"
      ]
     },
     "metadata": {},
     "output_type": "display_data"
    }
   ],
   "source": [
    "# YOUR CODE HERE\n",
    "import warnings\n",
    "warnings.filterwarnings('ignore')\n",
    "print(f'Training on device: {device}')\n",
    "\n",
    "rnn = RNN(input_size=57, hidden_size=128, output_size=41).to(device)\n",
    "batch_size = 2**(12)           # 2**12    2*13     2**12\n",
    "n_epochs = 200                 # 200      400      400\n",
    "learning_rate = 0.005          # 0.005    0.005    0.005\n",
    "\n",
    "train(rnn, n_epochs, learning_rate, batch_size, train_dataset, val_dataset)\n",
    "plt.show()"
   ]
  },
  {
   "cell_type": "markdown",
   "metadata": {
    "deletable": false,
    "editable": false,
    "nbgrader": {
     "cell_type": "markdown",
     "checksum": "ec7510ce50876d9072ff172b5a6bed05",
     "grade": false,
     "grade_id": "cell-b59e32abfa0bf9ef",
     "locked": true,
     "schema_version": 3,
     "solution": false
    }
   },
   "source": [
    "Make sure you obtain at least 0.3 F1-score in the validation set before proceeding."
   ]
  },
  {
   "cell_type": "markdown",
   "metadata": {
    "deletable": false,
    "editable": false,
    "nbgrader": {
     "cell_type": "markdown",
     "checksum": "0c90c4448ae9e3cfffa5e8dc30b21411",
     "grade": false,
     "grade_id": "cell-09fe0d5786ed0073",
     "locked": true,
     "schema_version": 3,
     "solution": false
    }
   },
   "source": [
    "### 1.6 Evaluation"
   ]
  },
  {
   "cell_type": "markdown",
   "metadata": {
    "deletable": false,
    "editable": false,
    "nbgrader": {
     "cell_type": "markdown",
     "checksum": "32ba20bdba94d72537d559f5d7fed869",
     "grade": false,
     "grade_id": "cell-098308391c682cd8",
     "locked": true,
     "schema_version": 3,
     "solution": false
    }
   },
   "source": [
    "Now that our model is trained, we can evaluate its predictions on the test set. "
   ]
  },
  {
   "cell_type": "code",
   "execution_count": 595,
   "metadata": {
    "deletable": false,
    "editable": false,
    "nbgrader": {
     "cell_type": "code",
     "checksum": "d028367fa4f2b8e07b9f412bc0dc82cc",
     "grade": false,
     "grade_id": "cell-ee9fecbd4fc5e6cd",
     "locked": true,
     "schema_version": 3,
     "solution": false
    }
   },
   "outputs": [],
   "source": [
    "# Get all samples from the test set\n",
    "x_test, y_test = test_dataset[:]\n",
    "\n",
    "# Compute predictions\n",
    "with torch.no_grad():\n",
    "    test_out, _ = batch_forward_prop(rnn, x_test, y_test)\n",
    "\n",
    "# Transform them into hard predictions\n",
    "preds = test_out.argmax(dim=1)\n",
    "\n",
    "# Get `preds` as a numpy array\n",
    "preds = preds.cpu().numpy()"
   ]
  },
  {
   "cell_type": "markdown",
   "metadata": {
    "deletable": false,
    "editable": false,
    "nbgrader": {
     "cell_type": "markdown",
     "checksum": "5fdeb2d6a4e4a5402f0feb9554634e15",
     "grade": false,
     "grade_id": "cell-6968066e3b5b4085",
     "locked": true,
     "schema_version": 3,
     "solution": false
    }
   },
   "source": [
    "Using these predictions, we can compute the confusion matrix on the test set as follows."
   ]
  },
  {
   "cell_type": "code",
   "execution_count": 596,
   "metadata": {
    "deletable": false,
    "editable": false,
    "nbgrader": {
     "cell_type": "code",
     "checksum": "2ca8a97e26fea408fe09e4eed8350526",
     "grade": false,
     "grade_id": "cell-003dfbe728ab93f4",
     "locked": true,
     "schema_version": 3,
     "solution": false
    }
   },
   "outputs": [
    {
     "data": {
      "text/plain": [
       "array([[0.14371257, 0.06586826, 0.03592814, ..., 0.0239521 , 0.0239521 ,\n",
       "        0.00598802],\n",
       "       [0.        , 0.53571429, 0.        , ..., 0.        , 0.        ,\n",
       "        0.        ],\n",
       "       [0.06354515, 0.03344482, 0.0735786 , ..., 0.01505017, 0.00167224,\n",
       "        0.01839465],\n",
       "       ...,\n",
       "       [0.        , 0.        , 0.        , ..., 0.81578947, 0.01052632,\n",
       "        0.00526316],\n",
       "       [0.01515152, 0.        , 0.        , ..., 0.01010101, 0.77272727,\n",
       "        0.03535354],\n",
       "       [0.        , 0.02941176, 0.        , ..., 0.        , 0.14705882,\n",
       "        0.70588235]])"
      ]
     },
     "execution_count": 596,
     "metadata": {},
     "output_type": "execute_result"
    }
   ],
   "source": [
    "from sklearn.metrics import confusion_matrix\n",
    "\n",
    "# Compute the confusion matrix\n",
    "y_true = y_test.cpu().numpy()\n",
    "cm = confusion_matrix(y_true, preds)\n",
    "cm = cm.astype('float64')\n",
    "\n",
    "# Normalize each row\n",
    "for i in range(cm.shape[0]):\n",
    "    cm[i, :] = cm[i, :] / sum(cm[i, :])\n",
    "    \n",
    "cm"
   ]
  },
  {
   "cell_type": "markdown",
   "metadata": {
    "deletable": false,
    "editable": false,
    "nbgrader": {
     "cell_type": "markdown",
     "checksum": "498ae92e6253b9951570fd782bb67f28",
     "grade": false,
     "grade_id": "cell-d0a5d53862716ff5",
     "locked": true,
     "schema_version": 3,
     "solution": false
    }
   },
   "source": [
    "In order to make this easier to visualize, let's plot it as a heat map:"
   ]
  },
  {
   "cell_type": "code",
   "execution_count": 597,
   "metadata": {
    "deletable": false,
    "editable": false,
    "nbgrader": {
     "cell_type": "code",
     "checksum": "5eed47cfe9145966604d70f8a0ae1ab5",
     "grade": false,
     "grade_id": "cell-0ac30bac8eee0481",
     "locked": true,
     "schema_version": 3,
     "solution": false
    }
   },
   "outputs": [
    {
     "data": {
      "image/png": "[encoded data removed]",
      "text/plain": [
       "<Figure size 1000x1000 with 1 Axes>"
      ]
     },
     "metadata": {},
     "output_type": "display_data"
    }
   ],
   "source": [
    "#%matplotlib inline\n",
    "plt.figure(figsize=(10, 10))\n",
    "plt.imshow(cm)\n",
    "plt.xticks(range(len(names_dict)), names_dict.keys(), rotation='vertical')\n",
    "plt.yticks(range(len(names_dict)), names_dict.keys())\n",
    "plt.xlabel('Predicted label')\n",
    "plt.ylabel('True label')\n",
    "plt.show()"
   ]
  },
  {
   "cell_type": "markdown",
   "metadata": {
    "deletable": false,
    "editable": false,
    "nbgrader": {
     "cell_type": "markdown",
     "checksum": "699749612d8cf6acf9f342e8fdc00ec9",
     "grade": false,
     "grade_id": "cell-baa17f34d2c98af3",
     "locked": true,
     "schema_version": 3,
     "solution": false
    }
   },
   "source": [
    "**[1 point]** Why did we normalize the rows of the confusion matrix? "
   ]
  },
  {
   "cell_type": "markdown",
   "metadata": {
    "deletable": false,
    "nbgrader": {
     "cell_type": "markdown",
     "checksum": "8809376b54c2dbd1c37e038a54589d97",
     "grade": true,
     "grade_id": "cell-5e952f1af1335cd1",
     "locked": false,
     "points": 1,
     "schema_version": 3,
     "solution": true
    }
   },
   "source": [
    "**Your answer:** (fill in here)\n",
    "\n",
    "The confusion matrix is normalized because, yet again, we are dealing with an imbalanced dataset. By normalizing the confusion matrix, we can represent accurate prediction frequency that is independent of the classes prevalecence in the dataset. If the dataset is not normalized, we would expect China, U.S.A and Italy to be dominant and more yellow. (by plotting before nomralizing this can be confirmed)\n",
    "\n",
    "/ Erik & Nicholas"
   ]
  },
  {
   "cell_type": "markdown",
   "metadata": {
    "deletable": false,
    "editable": false,
    "nbgrader": {
     "cell_type": "markdown",
     "checksum": "b3ce186431569960c43df0a99a34d0d4",
     "grade": false,
     "grade_id": "cell-b56067b9a8f982ed",
     "locked": true,
     "schema_version": 3,
     "solution": false
    }
   },
   "source": [
    "**[2 points]** What can you conclude from this confusion matrix? Which classes are easy/hard to classify? Which classes are being confused?"
   ]
  },
  {
   "cell_type": "markdown",
   "metadata": {
    "deletable": false,
    "nbgrader": {
     "cell_type": "markdown",
     "checksum": "c83e6f1c4e0c6e0f64d1d9b0a3235d78",
     "grade": true,
     "grade_id": "cell-e3597dc61426d8a3",
     "locked": false,
     "points": 2,
     "schema_version": 3,
     "solution": true
    }
   },
   "source": [
    "**Your answer:** (fill in here)\n",
    "\n",
    "Ideally we would want a confusion matrix that is perfectly diagonal. and the result (confusion matrix) has a diagonal to some extent. The most apparent classes that are beeing confused are:\n",
    "\n",
    "TRUE: Italy     PRED: Romania\n",
    "\n",
    "TRUE: Armenia   PRED: India / Sri Lanka\n",
    "\n",
    "TRUE: Korea     PRED: China\n",
    "\n",
    "TRUE: Estonia   PRED: Finland\n",
    "\n",
    "TRUE: Russia    PRED: Ukraine\n",
    "\n",
    "etc.\n",
    "\n",
    "/ Erik & Nicholas"
   ]
  },
  {
   "cell_type": "markdown",
   "metadata": {
    "deletable": false,
    "editable": false,
    "nbgrader": {
     "cell_type": "markdown",
     "checksum": "9ff548903b15da02335b1f0111ac9c4a",
     "grade": false,
     "grade_id": "cell-a1cd31c6856025a5",
     "locked": true,
     "schema_version": 3,
     "solution": false
    }
   },
   "source": [
    "To end this task, we can now define a function to perform predictions on any input name we provide (as long as the name contains only characters in our character set)."
   ]
  },
  {
   "cell_type": "code",
   "execution_count": 598,
   "metadata": {
    "deletable": false,
    "editable": false,
    "nbgrader": {
     "cell_type": "code",
     "checksum": "16ff9962bca7277a96de8620d03b1264",
     "grade": false,
     "grade_id": "cell-07f9089a7c996db0",
     "locked": true,
     "schema_version": 3,
     "solution": false
    }
   },
   "outputs": [],
   "source": [
    "def evaluate(name_tensor):\n",
    "    with torch.no_grad():\n",
    "        hidden = torch.zeros(1, rnn.hidden_size).to(device)\n",
    "        for i in range(name_tensor.shape[1]):\n",
    "            output, hidden = rnn(name_tensor[:, i, :], hidden)\n",
    "    return output.exp()\n",
    "\n",
    "def predict(input_line, n_predictions=5):\n",
    "    tensor = name2tensor(input_line).to(device)[None, :]\n",
    "    output = evaluate(tensor)\n",
    "\n",
    "    # Get top N categories\n",
    "    topv, topi = output.topk(n_predictions, 1, True)\n",
    "    topv, topi = topv[0], topi[0]\n",
    "        \n",
    "    cats = [list(names_dict.keys())[i] for i in topi.cpu().numpy()]\n",
    "    vs = topv.cpu().numpy()\n",
    "\n",
    "    plt.figure(figsize=(10,3))\n",
    "    plt.bar(range(len(vs)), vs)\n",
    "    plt.xticks(range(len(vs)), cats)"
   ]
  },
  {
   "cell_type": "code",
   "execution_count": 599,
   "metadata": {
    "deletable": false,
    "editable": false,
    "nbgrader": {
     "cell_type": "code",
     "checksum": "663d002913d786ae06797435cabb49b3",
     "grade": false,
     "grade_id": "cell-ee607ec26d687e7a",
     "locked": true,
     "schema_version": 3,
     "solution": false
    }
   },
   "outputs": [
    {
     "data": {
      "image/png": "[encoded data removed]",
      "text/plain": [
       "<Figure size 1000x300 with 1 Axes>"
      ]
     },
     "metadata": {},
     "output_type": "display_data"
    }
   ],
   "source": [
    "predict('Åsakvi')"
   ]
  },
  {
   "cell_type": "code",
   "execution_count": 600,
   "metadata": {
    "deletable": false,
    "editable": false,
    "nbgrader": {
     "cell_type": "code",
     "checksum": "de6ea4fca69dcdfafe0989d3c5a18f2b",
     "grade": false,
     "grade_id": "cell-fcc84c5b71d65216",
     "locked": true,
     "schema_version": 3,
     "solution": false
    }
   },
   "outputs": [
    {
     "data": {
      "image/png": "[encoded data removed]",
      "text/plain": [
       "<Figure size 1000x300 with 1 Axes>"
      ]
     },
     "metadata": {},
     "output_type": "display_data"
    }
   ],
   "source": [
    "predict('Harakabim')"
   ]
  },
  {
   "cell_type": "code",
   "execution_count": 601,
   "metadata": {
    "deletable": false,
    "editable": false,
    "nbgrader": {
     "cell_type": "code",
     "checksum": "8677e866517c65d978435ec0bd2c7213",
     "grade": false,
     "grade_id": "cell-d8af5b38ed527dc0",
     "locked": true,
     "schema_version": 3,
     "solution": false
    }
   },
   "outputs": [
    {
     "data": {
      "image/png": "[encoded data removed]",
      "text/plain": [
       "<Figure size 1000x300 with 1 Axes>"
      ]
     },
     "metadata": {},
     "output_type": "display_data"
    }
   ],
   "source": [
    "predict('Alakazam')"
   ]
  },
  {
   "cell_type": "code",
   "execution_count": 602,
   "metadata": {
    "deletable": false,
    "editable": false,
    "nbgrader": {
     "cell_type": "code",
     "checksum": "8aeaf021219a2f4697067d2fd4a41506",
     "grade": false,
     "grade_id": "cell-608a1a0a87fdcfbc",
     "locked": true,
     "schema_version": 3,
     "solution": false
    }
   },
   "outputs": [
    {
     "data": {
      "image/png": "[encoded data removed]",
      "text/plain": [
       "<Figure size 1000x300 with 1 Axes>"
      ]
     },
     "metadata": {},
     "output_type": "display_data"
    }
   ],
   "source": [
    "predict('Jin Quaio')"
   ]
  },
  {
   "cell_type": "code",
   "execution_count": 603,
   "metadata": {
    "deletable": false,
    "editable": false,
    "nbgrader": {
     "cell_type": "code",
     "checksum": "82b217f4a574a2cc23ad6233505d1d3e",
     "grade": false,
     "grade_id": "cell-9e46296a62c4ad3b",
     "locked": true,
     "schema_version": 3,
     "solution": false
    }
   },
   "outputs": [
    {
     "data": {
      "image/png": "[encoded data removed]",
      "text/plain": [
       "<Figure size 1000x300 with 1 Axes>"
      ]
     },
     "metadata": {},
     "output_type": "display_data"
    }
   ],
   "source": [
    "predict('Leonardino')"
   ]
  },
  {
   "cell_type": "code",
   "execution_count": 604,
   "metadata": {
    "deletable": false,
    "editable": false,
    "nbgrader": {
     "cell_type": "code",
     "checksum": "e2cbe7f4dcf0f10d6f011dca38976ec9",
     "grade": false,
     "grade_id": "cell-7107524e76e71c41",
     "locked": true,
     "schema_version": 3,
     "solution": false
    }
   },
   "outputs": [
    {
     "data": {
      "image/png": "[encoded data removed]",
      "text/plain": [
       "<Figure size 1000x300 with 1 Axes>"
      ]
     },
     "metadata": {},
     "output_type": "display_data"
    }
   ],
   "source": [
    "predict('Kim Sung')"
   ]
  },
  {
   "cell_type": "code",
   "execution_count": 605,
   "metadata": {
    "deletable": false,
    "editable": false,
    "nbgrader": {
     "cell_type": "code",
     "checksum": "aafceedc4f3f9ddbacf4b76548e8aa95",
     "grade": false,
     "grade_id": "cell-e5c047f1d1960750",
     "locked": true,
     "schema_version": 3,
     "solution": false
    }
   },
   "outputs": [
    {
     "data": {
      "image/png": "[encoded data removed]",
      "text/plain": [
       "<Figure size 1000x300 with 1 Axes>"
      ]
     },
     "metadata": {},
     "output_type": "display_data"
    }
   ],
   "source": [
    "predict('Thanos')"
   ]
  },
  {
   "cell_type": "code",
   "execution_count": 606,
   "metadata": {
    "deletable": false,
    "editable": false,
    "nbgrader": {
     "cell_type": "code",
     "checksum": "7c82ec8b8c895b208611f139201ac560",
     "grade": false,
     "grade_id": "cell-fc41f7e0ab00a192",
     "locked": true,
     "schema_version": 3,
     "solution": false
    }
   },
   "outputs": [
    {
     "data": {
      "image/png": "[encoded data removed]",
      "text/plain": [
       "<Figure size 1000x300 with 1 Axes>"
      ]
     },
     "metadata": {},
     "output_type": "display_data"
    }
   ],
   "source": [
    "predict('Viiviika')"
   ]
  },
  {
   "cell_type": "markdown",
   "metadata": {
    "deletable": false,
    "editable": false,
    "nbgrader": {
     "cell_type": "markdown",
     "checksum": "bdf82da73d54b9f9e00cb0f323dcf206",
     "grade": false,
     "grade_id": "cell-5b8cdb44355a89df",
     "locked": true,
     "schema_version": 3,
     "solution": false
    }
   },
   "source": [
    "Experiment on new names using the next cell:"
   ]
  }
 ],
 "metadata": {
  "kernelspec": {
   "display_name": "Python 3 (ipykernel)",
   "language": "python",
   "name": "python3"
  },
  "language_info": {
   "codemirror_mode": {
    "name": "ipython",
    "version": 3
   },
   "file_extension": ".py",
   "mimetype": "text/x-python",
   "name": "python",
   "nbconvert_exporter": "python",
   "pygments_lexer": "ipython3",
   "version": "3.9.18"
  },
  "vscode": {
   "interpreter": {
    "hash": "d94bb5ce8f1aac59beba206cd685a74cc957e1538cbbfce7cec92ea121e47d25"
   }
  }
 },
 "nbformat": 4,
 "nbformat_minor": 4
}
